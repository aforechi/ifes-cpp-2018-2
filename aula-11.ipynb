{
 "cells": [
  {
   "cell_type": "markdown",
   "metadata": {},
   "source": [
    "# Aula 11 – Tipo Abstrato de Dados \n",
    "\n",
    "## Tipos Compostos Heterogêneos\n",
    "\n",
    "As estruturas de dados são entidades que representam tipos de dados e que permitem o agrupamento de variáveis de diversos tipos.\n",
    "\n",
    "É uma alternativa aos tipos de dados simples, fornecidos pela linguagem:\n",
    "- Definição fica a cargo do programador, de acordo com o problema;\n",
    "- Permite que uma função retorne mais de um valor.\n",
    "\n",
    "Exemplo:\n",
    "idade, matrícula, coeficiente de rendimento e período\n",
    "\n",
    "Sintaxe:\n",
    "<br>**class** nome_do_tipo{\n",
    "<br>tipo_do_atributo_1 nome_do_atributo_1;\n",
    "<br>tipo_do_atributo_2 nome_do_atributo_2;\n",
    "<br>...\n",
    "<br>tipo_do_atributo_n nome_do_atributo_n;\n",
    "<br>};"
   ]
  },
  {
   "cell_type": "code",
   "execution_count": null,
   "metadata": {},
   "outputs": [],
   "source": [
    "class tEstudante{\n",
    "    public:\n",
    "    int idade;\n",
    "    int matricula;\n",
    "    float coeficiente;\n",
    "    int periodo;\n",
    "};"
   ]
  },
  {
   "cell_type": "markdown",
   "metadata": {},
   "source": [
    "![figura](img/Picture17.png)\n",
    "\n",
    "## Acesso seletivo aos elementos da estrutura\n",
    "\n",
    "nome_da_variavel.nome_do_atributo"
   ]
  },
  {
   "cell_type": "code",
   "execution_count": null,
   "metadata": {},
   "outputs": [],
   "source": [
    "#include<iostream>\n",
    "\n",
    "tEstudante aluno;\n",
    "\n",
    "aluno.idade = 21;\n",
    "aluno.matricula = 20181;\n",
    "aluno.coeficiente = 8.9;\n",
    "aluno.periodo = 3;\n",
    "\n",
    "std::cout << \"aluno\\n\"\n",
    "<< aluno.idade << std::endl\n",
    "<< aluno.matricula << std::endl\n",
    "<< aluno.coeficiente << std::endl\n",
    "<< aluno.periodo << std::endl;"
   ]
  },
  {
   "cell_type": "markdown",
   "metadata": {},
   "source": [
    "\n",
    "## Acesso integral à estrutura\n",
    "\n",
    "nome_da_variavel_1 = nome_da_variavel_2"
   ]
  },
  {
   "cell_type": "code",
   "execution_count": null,
   "metadata": {},
   "outputs": [],
   "source": [
    "tEstudante outro;\n",
    "\n",
    "outro = aluno;\n",
    "\n",
    "std::cout << \"outro aluno\\n\"\n",
    "<< outro.idade << std::endl\n",
    "<< outro.matricula << std::endl\n",
    "<< outro.coeficiente << std::endl\n",
    "<< outro.periodo << std::endl;"
   ]
  },
  {
   "cell_type": "markdown",
   "metadata": {},
   "source": [
    "## Primeiras diferenças entre Struct e Class\n",
    "### Visibilidade de atributos\n",
    "- Por padrão, a menos que se diga o contrário, todos os atributos são publicos em uma estrutura (Struct) e privados em uma classe (Class).\n",
    "\n",
    "### Redefinição de tipos\n",
    "\n",
    "- **typedef** tipo nome; "
   ]
  },
  {
   "cell_type": "code",
   "execution_count": null,
   "metadata": {},
   "outputs": [],
   "source": [
    "struct tEstudante2{\n",
    "    int idade;\n",
    "    int matricula;\n",
    "    float coeficiente;\n",
    "    int periodo;\n",
    "};\n",
    "\n",
    "typedef struct tEstudante2 tEstudante2;"
   ]
  },
  {
   "cell_type": "code",
   "execution_count": null,
   "metadata": {},
   "outputs": [],
   "source": [
    "tEstudante2 novo;\n",
    "\n",
    "// corrija o erro abaixo ao copiar os atributos da classe aluno para a estrutura novo\n",
    "// novo = aluno;\n",
    "\n",
    "std::cout << \"novo aluno\\n\"\n",
    "<< novo.idade << std::endl\n",
    "<< novo.matricula << std::endl\n",
    "<< novo.coeficiente << std::endl\n",
    "<< novo.periodo << std::endl;"
   ]
  },
  {
   "cell_type": "markdown",
   "metadata": {},
   "source": [
    "Exercício: Faça um programa que leia dois pontos do plano cartesiano, calcule a distancia entre eles e imprima o resultado na tela.\n",
    "- Defina uma classe para o ponto\n",
    "- Defina uma função para cálculo da distancia dentro da própria classe"
   ]
  },
  {
   "cell_type": "code",
   "execution_count": null,
   "metadata": {},
   "outputs": [],
   "source": [
    "//Defina uma classe para o ponto\n",
    "\n",
    "//Defina uma função para cálculo da distância"
   ]
  },
  {
   "cell_type": "code",
   "execution_count": null,
   "metadata": {},
   "outputs": [],
   "source": [
    "//Use a função para cálculo da distancia\n"
   ]
  },
  {
   "cell_type": "code",
   "execution_count": null,
   "metadata": {},
   "outputs": [],
   "source": [
    "//Imprima o resultado na tela\n"
   ]
  },
  {
   "cell_type": "markdown",
   "metadata": {},
   "source": [
    "## Tipos Abstratos de Dados (TAD)\n",
    "\n",
    "São novos tipos de dados implementados pelo programador,  nos quais ele define tanto as estruturas de dados quanto as operações a elas aplicáveis\n",
    "\n",
    "## Tipos de TAD\n",
    "\n",
    "### TADs de domínio:\n",
    "- Definem tipos de dados diretamente relacionados ao domínio do problema\n",
    "\n",
    "### TADs implementacionais\n",
    "- Tem relação direta com questões implementacionais, como listas, árvores, grafos e filas. Estes também serão vistos mais adiante neste curso.\n",
    "\n",
    "\n",
    "## Vantagens\n",
    "- Manutenibilidade: Pode-se alterar o tipo usado sem alterar o programa principal.\n",
    "- Reusabilidade: Pode ser utilizado em diversas aplicações.\n",
    "- Abstração: permite a melhor compreensão dos algoritmos e maior facilidade de programação\n",
    "- Ocultamento: Separa o codigo de implementação do codigo de uso\n",
    "- Integridade: A manipulação dos atribuitos por operações definidas sobre o tipo impedem a ocorrência de inconsistências\n",
    "\n",
    "**Obs.:** Problema do uso de TAD em C:\n",
    "- A linguagem C não implementa de fato TAD, apenas simula\n",
    "- O programador-usuário do TAD tem acesso livre para alterar diretamente os valores sem usar as operações pré-definidas.\n",
    "\n",
    "## Exemplo de TAD Implementacional \n",
    "\n",
    "Suponha que desejamos definir um tipo abstrato de dados para data."
   ]
  },
  {
   "cell_type": "code",
   "execution_count": 11,
   "metadata": {},
   "outputs": [],
   "source": [
    "class tData{\n",
    "    private:\n",
    "    int dia;\n",
    "    int mes;\n",
    "    int ano;\n",
    "    public:\n",
    "    //Construtor\n",
    "    tData();\n",
    "    tData(int d, int m, int a);\n",
    "    //Produtora\n",
    "    int diasNoMes();\n",
    "    //Consultora\n",
    "    bool eBissexto();\n",
    "    //Modificadora\n",
    "    void alteraData(int d, int m, int a);\n",
    "    void diaSeguinte ( );\n",
    "    void imprimeData();\n",
    "};"
   ]
  },
  {
   "cell_type": "markdown",
   "metadata": {},
   "source": [
    "Podemos imaginar várias operações que desejaríamos realizar com instâncias deste tipo de dado\n",
    "\n",
    "- Inicializar data \n",
    "    - a partir de valores passados como parâmetro.\n",
    "    - a partir de valores lidos do teclado.\n",
    "- Altera data \n",
    "    - a partir de valores passados como parâmetro.\n",
    "    - para dia seguinte\n",
    "- Verificar se uma data está num ano bissexto\n",
    "- Indicar a quantidade de dias do mês em questão.\n",
    "\n",
    "Implementar as funções abaixo do exemplo 4.8 (tData) da apostila de C, página 117."
   ]
  },
  {
   "cell_type": "code",
   "execution_count": 12,
   "metadata": {},
   "outputs": [],
   "source": [
    "// inicializaData : função que inicializa uma data a partir de valores passados como parametro. \n",
    "tData::tData ( int d , int m , int a ) {\n",
    "    alteraData(d, m, a);\n",
    "}"
   ]
  },
  {
   "cell_type": "code",
   "execution_count": 13,
   "metadata": {},
   "outputs": [],
   "source": [
    "tData::tData ( ) {\n",
    "    alteraData(24, 9, 2018);\n",
    "}"
   ]
  },
  {
   "cell_type": "code",
   "execution_count": 14,
   "metadata": {},
   "outputs": [],
   "source": [
    "// alteraData: função que altera uma data a partir de valores passados como parametro.\n",
    "void tData::alteraData ( int d , int m , int a ) {\n",
    "    if (a < 0) {\n",
    "        std::cout << \"Ano inválido!\";\n",
    "    } else {\n",
    "        ano = a ;\n",
    "\n",
    "        if ((m <= 0) || (m > 12))\n",
    "        {\n",
    "            std::cout << \"Mês inválido!\";\n",
    "        } else {\n",
    "            mes = m ;\n",
    "\n",
    "            if ((d <= 0) || (d > diasNoMes()))\n",
    "            {\n",
    "                std::cout << \"Data inválida!\";\n",
    "            }\n",
    "            else\n",
    "            {\n",
    "                dia = d ;\n",
    "            }\n",
    "        }\n",
    "    }\n",
    "}\n"
   ]
  },
  {
   "cell_type": "code",
   "execution_count": 15,
   "metadata": {},
   "outputs": [],
   "source": [
    "// eBissexto: função que indica se um ano é bissexto ou não.\n",
    "bool tData::eBissexto ( ) {\n",
    "    if ( ano % 400 == 0) {\n",
    "        return true;\n",
    "    } else if ( ano %100==0) {\n",
    "        return false;\n",
    "    } else if ( ano %4==0) {\n",
    "        return true;\n",
    "    } else {\n",
    "        return false;\n",
    "    }\n",
    "}"
   ]
  },
  {
   "cell_type": "code",
   "execution_count": 16,
   "metadata": {},
   "outputs": [],
   "source": [
    "// diasNoMes: função que indica a quantidade de dias do mês em questão.\n",
    "int tData::diasNoMes () {\n",
    "    if ( mes == 4 || mes == 6 || mes == 9 || mes == 11) {\n",
    "        return 30;\n",
    "    } else {\n",
    "        if ( mes == 2) {\n",
    "            if ( eBissexto () ) {\n",
    "                return 29;\n",
    "            } else {\n",
    "                return 28;\n",
    "            }\n",
    "        } else {\n",
    "             return 31;\n",
    "        }\n",
    "    }\n",
    "}\n"
   ]
  },
  {
   "cell_type": "code",
   "execution_count": 17,
   "metadata": {},
   "outputs": [],
   "source": [
    "// diaSeguinte: função que altera a data para o dia seguinte.\n",
    "void tData::diaSeguinte ( ) {\n",
    "    if ( dia < diasNoMes () ) {\n",
    "        dia ++;\n",
    "    } else {\n",
    "        dia = 1;\n",
    "        if (mes < 12) {\n",
    "            mes ++;\n",
    "        } else {\n",
    "            mes = 1;\n",
    "            ano ++;\n",
    "        }\n",
    "    }\n",
    "}"
   ]
  },
  {
   "cell_type": "code",
   "execution_count": 18,
   "metadata": {},
   "outputs": [],
   "source": [
    "void tData::imprimeData() {\n",
    "    std::cout << dia << \"/\" << mes << \"/\" << ano << std::endl;\n",
    "}"
   ]
  },
  {
   "cell_type": "markdown",
   "metadata": {},
   "source": [
    "O Exemplo abaixo determina se uma data digitada é de um ano bissexto e a quantidade de dias no mês da data digitada. \n",
    "- Pode-se afirmar que o programa manipula o TAD somente atraves das operações pré-definidas pelo implementador, assim o codigo usuario fica mais legıvel. \n",
    "- Pode-se observar que as operações separam o codigo usuario do codigo de implementação do TAD. \n",
    "- A redigibilidade tambem aumenta, visto que o acesso aos dados é realizado apenas por simples operações. \n",
    "- O codigo tambem fica mais confiavel, pois o usuario não altera livremente os dados, isso só pode ser feito através das operações do TAD. \n",
    "- E, por fim, caso a implementação do TAD precise ser alterada, o código usuário não sofrerá mudanças, a menos que os cabeçalhos das funções sejam alterados."
   ]
  },
  {
   "cell_type": "code",
   "execution_count": 19,
   "metadata": {},
   "outputs": [
    {
     "name": "stdout",
     "output_type": "stream",
     "text": [
      "Ano não Bissexto\n",
      "Número de dias no mês:31"
     ]
    }
   ],
   "source": [
    "tData hoje(31,12,2018);\n",
    "\n",
    "if( hoje.eBissexto() )\n",
    "    std::cout << \"Ano Bissexto\\n\";\n",
    "else\n",
    "    std::cout << \"Ano não Bissexto\\n\";\n",
    "\n",
    "std::cout << \"Número de dias no mês:\" << hoje.diasNoMes();"
   ]
  },
  {
   "cell_type": "code",
   "execution_count": 20,
   "metadata": {},
   "outputs": [
    {
     "name": "stdout",
     "output_type": "stream",
     "text": [
      "1/1/2019\n"
     ]
    }
   ],
   "source": [
    "//hoje.alteraData(33,9,2018);\n",
    "tData amanha = hoje;\n",
    "amanha.diaSeguinte();\n",
    "amanha.imprimeData();"
   ]
  },
  {
   "cell_type": "markdown",
   "metadata": {},
   "source": [
    "Assim, temos \n",
    "- um tipo composto, ou seja, uma estrutura que agrupa variáveis correspondente a dia mês e ano \n",
    "- uma série de operações pré-definidas para tal tipo\n",
    "\n",
    "\n",
    "## Exemplo de TAD de dominio para Estudante\n"
   ]
  },
  {
   "cell_type": "code",
   "execution_count": 1,
   "metadata": {},
   "outputs": [],
   "source": [
    "class tEstudante{\n",
    "    private:\n",
    "    int idade;\n",
    "    int matricula;\n",
    "    float coeficiente;\n",
    "    int periodo;\n",
    "    public:\n",
    "    //Construtoras\n",
    "    tEstudante();\n",
    "    tEstudante(int idade, int matricula, float coeficiente, int periodo);\n",
    "    \n",
    "    //Analisadoras ou consultoras\n",
    "    bool bomAluno();\n",
    "    \n",
    "    //Modificadoras ou atualizadoras\n",
    "    void alteraIdade(int novaIdade);\n",
    "    void alteraMatricula(int novaMatricula);\n",
    "    \n",
    "    //Produtoras\n",
    "    int maiorIdade(tEstudante outro);\n",
    "    \n",
    "    //Destrutoras\n",
    "    ~tEstudante();\n",
    "};"
   ]
  },
  {
   "cell_type": "markdown",
   "metadata": {},
   "source": [
    "### Construtoras\n",
    "São operações que realizam a inicialização dos valores\n"
   ]
  },
  {
   "cell_type": "code",
   "execution_count": 2,
   "metadata": {},
   "outputs": [],
   "source": [
    "tEstudante::tEstudante(){ \n",
    "    idade=0; \n",
    "    matricula=0; \n",
    "    coeficiente=0; \n",
    "    periodo=0; \n",
    "}"
   ]
  },
  {
   "cell_type": "code",
   "execution_count": 3,
   "metadata": {},
   "outputs": [],
   "source": [
    "tEstudante::tEstudante(int i, int m, float c, int p){\n",
    "    idade=i; \n",
    "    matricula=m; \n",
    "    coeficiente=c; \n",
    "    periodo=p;\n",
    "}"
   ]
  },
  {
   "cell_type": "markdown",
   "metadata": {},
   "source": [
    "### Analisadoras ou consultoras\n",
    "Analisam o conteúdo de um TAD e retornam uma propriedade"
   ]
  },
  {
   "cell_type": "code",
   "execution_count": 4,
   "metadata": {},
   "outputs": [],
   "source": [
    "bool tEstudante::bomAluno(){\n",
    "    if (coeficiente > 8.0)\n",
    "        return true;\n",
    "    else\n",
    "        return false;\n",
    "}"
   ]
  },
  {
   "cell_type": "markdown",
   "metadata": {},
   "source": [
    "### Modificadoras ou atualizadoras\n",
    "Realizam a alteração de atributos de um TAD\n"
   ]
  },
  {
   "cell_type": "code",
   "execution_count": 5,
   "metadata": {},
   "outputs": [],
   "source": [
    "void tEstudante::alteraIdade(int novaIdade){ \n",
    "    idade=novaIdade;\n",
    "}"
   ]
  },
  {
   "cell_type": "code",
   "execution_count": 6,
   "metadata": {},
   "outputs": [],
   "source": [
    "void tEstudante::alteraMatricula(int novaMatricula){\n",
    "    matricula=novaMatricula;\n",
    "}"
   ]
  },
  {
   "cell_type": "markdown",
   "metadata": {},
   "source": [
    "### Produtoras\n",
    "Comparam dados de um TAD e produzem nova informação.\n"
   ]
  },
  {
   "cell_type": "code",
   "execution_count": 7,
   "metadata": {},
   "outputs": [],
   "source": [
    "int tEstudante::maiorIdade(tEstudante outro){ \n",
    "    if (idade > outro.idade)\n",
    "        return idade;\n",
    "    return outro.idade;\n",
    "}"
   ]
  },
  {
   "cell_type": "markdown",
   "metadata": {},
   "source": [
    "### Destrutoras\n",
    "São utilizadas para liberar recurso de memória ocupados por um TAD.\n",
    "\n",
    "Serão vistas mais adiante neste curso quando falarmos novamente sobre Ponteiros.\n"
   ]
  },
  {
   "cell_type": "code",
   "execution_count": 8,
   "metadata": {},
   "outputs": [],
   "source": [
    "tEstudante::~tEstudante() {\n",
    "    std::cout << matricula << \" foi apagada da memória\\n\";\n",
    "}"
   ]
  },
  {
   "cell_type": "markdown",
   "metadata": {},
   "source": [
    "- Exercício: utilize a nova classe de estudante para criar dois estudantes"
   ]
  },
  {
   "cell_type": "code",
   "execution_count": 9,
   "metadata": {},
   "outputs": [
    {
     "name": "stdout",
     "output_type": "stream",
     "text": [
      "Aluno 2 é bom?: Sim\n",
      "20185 foi apagada da memória\n"
     ]
    }
   ],
   "source": [
    "#include<iostream>\n",
    "\n",
    "tEstudante aluno1;\n",
    "\n",
    "{\n",
    "    tEstudante aluno2(21, 20185, 8.9, 2);\n",
    "    aluno1 = aluno2;\n",
    "    aluno1.alteraMatricula(20186);\n",
    "    aluno1.alteraIdade(23);\n",
    "    \n",
    "    std::cout << \"Aluno 2 é bom?: \" << (aluno2.bomAluno()?\"Sim\":\"Não\") << std::endl;\n",
    "}"
   ]
  },
  {
   "cell_type": "code",
   "execution_count": 10,
   "metadata": {},
   "outputs": [
    {
     "name": "stderr",
     "output_type": "stream",
     "text": [
      "input_line_17:2:2: error: use of undeclared identifier 'aluno2'; did you mean 'aluno1'?\n",
      " aluno2.bomAluno()\n",
      " ^~~~~~\n",
      " aluno1\n",
      "input_line_16:2:13: note: 'aluno1' declared here\n",
      " tEstudante aluno1;\n",
      "            ^\n"
     ]
    },
    {
     "ename": "Interpreter Error",
     "evalue": "",
     "output_type": "error",
     "traceback": [
      "Interpreter Error: "
     ]
    }
   ],
   "source": [
    "aluno2.bomAluno()"
   ]
  },
  {
   "cell_type": "markdown",
   "metadata": {},
   "source": [
    "## Exercício Proposto\n",
    "\n",
    "- Transforme o tipo de dados composto construído para um ponto no plano cartesiano em uma classe. Do que precisamos?\n",
    "    - Uma estrutura que agrupa as variáveis (Exercício Resolvido 4.4)\n",
    "    - Uma série de operações pré-definidas\n",
    "        - Construtoras (exercício 4.5)\n",
    "        - Analisadoras (exercício 4.6)\n",
    "        - Modificadoras\n",
    "        - Produtoras (exercício 4.8)"
   ]
  },
  {
   "cell_type": "code",
   "execution_count": null,
   "metadata": {},
   "outputs": [],
   "source": [
    "//Escrever um programa em C/C++ que leia 10 conjuntos de pontos do plano,  x1,y1,  x2,y2 e  x3,y3\n",
    "//e determine as áreas dos triângulos formados por estes pontos. \n",
    "//Imprimir, para cada conjunto de pontos, as coordenadas lidas e a sua área.\n",
    "#include <iostream>\n"
   ]
  },
  {
   "cell_type": "code",
   "execution_count": null,
   "metadata": {},
   "outputs": [],
   "source": []
  },
  {
   "cell_type": "code",
   "execution_count": null,
   "metadata": {},
   "outputs": [],
   "source": []
  },
  {
   "cell_type": "code",
   "execution_count": null,
   "metadata": {},
   "outputs": [],
   "source": []
  },
  {
   "cell_type": "code",
   "execution_count": null,
   "metadata": {},
   "outputs": [],
   "source": []
  }
 ],
 "metadata": {
  "kernelspec": {
   "display_name": "C++14",
   "language": "C++14",
   "name": "xeus-cling-cpp14"
  },
  "language_info": {
   "codemirror_mode": "text/x-c++src",
   "file_extension": ".cpp",
   "mimetype": "text/x-c++src",
   "name": "c++",
   "version": "14"
  }
 },
 "nbformat": 4,
 "nbformat_minor": 2
}
