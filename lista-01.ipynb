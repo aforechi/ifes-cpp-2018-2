{
 "cells": [
  {
   "cell_type": "markdown",
   "metadata": {},
   "source": [
    "# 1a Lista de Exercícios – 19/03/2018\n",
    "\n",
    "## Data de entrega: 28/03/2018\n",
    "\n",
    "Faça os exercícios abaixo de maneira clara, organizada e usando a linguagem C/C++, conforme orientações abaixo: \n",
    "\n",
    "- Para entregar a lista voce deverá imprimir a página (extensão .pdf) e submetê-la através do site https://ava.cefor.ifes.edu.br/course/view.php?id=1453.\n",
    "\n",
    "- Lembre-se de identar o código com TAB, além de seguir as boas práticas de programação vistas em sala de aula e na apostila.\n",
    "\n",
    "\n",
    "1. Implementar as expressões abaixo em linguagem C/C++. Indique no próprio código na forma de comentário a ordem com que são calculadas as expressões e forneça os resultados como saída na tela, considerando a = 1.0, b = 3.0, c = -5.0.\n",
    ">- a\\*(b+c)/(c+2) \\* 3\n",
    ">- a + b/2. \\* 3 - c\n",
    ">- (a+b)/2 \\* (3. - c)\n",
    ">- !(5&gt;3) && 0 <= -1 && (3&gt;4)\n",
    ">- (a &lt;= b) || (b == 3.) && !(a != 3.)\n",
    "\n",
    "2. Fazer um algoritmo em C/C++ para calcular e mostrar na tela a raiz quadrada do maior entre 2 valores inteiros distintos informados pelo usuário.\n",
    "\n",
    "3. Fazer um algoritmo em C/C++ que leia o consumo mensal (em kw) de energia de um cliente, calcule e mostre na tela o valor da fatura final. A tarifa é calculada da seguinte forma:\n",
    ">- Se o consumo for um valor até 150 kw, a tarifa é de 0.18 reais/kw\n",
    ">- Se for um valor entre 150 e 370 kw, a tarifa é de 0.18*150 mais o excedente a 150 taxados em 0.2 reais/kw\n",
    ">- Se for superior a 370, usam-se 3 taxas: as 2 taxas já referidas mais o excedente a 370 kw taxados em 0.28 reais/kw\n",
    "\n",
    "4.\tFazer um algoritmo em C/C++ que leia três números distintos A, B e C e apresente-os em ordem decrescente na tela. \n",
    "\n",
    "5.\tFaça um algoritmo em C/C++ que leia um ponto (x,y) no plano cartesiano e imprima sua localização: se está sobre os eixos x ou y, sobre a origem do sistema de coordenadas ou em um dos quadrantes.\n",
    "\n",
    "6.\tEscreva um algoritmo em C/C++ que leia os coeficientes de duas retas, Ax + By = C e Dx + Ey = F, determine se as retas são paralelas (inclinações iguais, AE – BD = 0), ou se, se interceptam. Se elas se interceptam, determine se as retas são perpendiculares (produto das inclinações é igual a –1, AD + BE = 0).\n",
    "\n",
    "7.\tFazer um algoritmo em C/C++ que leia 3 valores distintos, calcule a média dos valores extremos e apresente o resultado na tela.\n",
    "\n",
    "8.\tFaça um algoritmo em C/C++ que simule o sorteio da Mega-Sena. Ou seja, sorteie 6 números aleatórios entre 1 e 60 conforme visto na aula 6.\n"
   ]
  },
  {
   "cell_type": "code",
   "execution_count": null,
   "metadata": {},
   "outputs": [],
   "source": []
  },
  {
   "cell_type": "code",
   "execution_count": null,
   "metadata": {},
   "outputs": [],
   "source": []
  }
 ],
 "metadata": {
  "kernelspec": {
   "display_name": "C++14",
   "language": "C++14",
   "name": "xeus-cling-cpp14"
  },
  "language_info": {
   "codemirror_mode": "text/x-c++src",
   "file_extension": ".cpp",
   "mimetype": "text/x-c++src",
   "name": "c++",
   "version": "14"
  }
 },
 "nbformat": 4,
 "nbformat_minor": 2
}
