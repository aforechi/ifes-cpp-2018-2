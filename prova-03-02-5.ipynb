{
 "cells": [
  {
   "cell_type": "markdown",
   "metadata": {},
   "source": [
    "# Questão 5\n",
    "\n",
    "## Considerando a classe  [Package.h](src/package/Package.h)/[Package.cpp](src/package/Package.cpp) complete abaixo."
   ]
  },
  {
   "cell_type": "code",
   "execution_count": null,
   "metadata": {},
   "outputs": [],
   "source": [
    "#include \"src/package/Package.h\" \n",
    "#include \"src/package/Package.cpp\" "
   ]
  },
  {
   "cell_type": "code",
   "execution_count": null,
   "metadata": {},
   "outputs": [],
   "source": [
    "// Definition of derived class TwoDayPackage.\n",
    "class TwoDayPackage : public Package\n",
    "{\n",
    "public:\n",
    "   TwoDayPackage( const string &, const string &, const string &,\n",
    "const string &, int, const string &, const string &, const string &, const string &, int, double, double, double );\n",
    "   void setFlatFee( double ); // set flat fee for two-day-delivery service\n",
    "   double getFlatFee() const; // return flat fee\n",
    "   virtual double calculateCost() const; // calculate shipping cost\n",
    "private:\n",
    "   double flatFee; // flat fee for two-day-delivery service\n",
    "}; // end class TwoDayPackage"
   ]
  },
  {
   "cell_type": "code",
   "execution_count": null,
   "metadata": {},
   "outputs": [],
   "source": [
    "// Member-function definitions of class TwoDayPackage.\n",
    "// constructor\n",
    "TwoDayPackage::TwoDayPackage( const string &sName,\n",
    "const string &sAddress, const string &sCity, const string &sState,\n",
    "int sZIP, const string &rName, const string &rAddress,\n",
    "const string &rCity, const string &rState, int rZIP,\n",
    "double w, double cost, double fee )\n",
    ": Package( sName, sAddress, sCity, sState, sZIP, rName, rAddress, rCity, rState, rZIP, w, cost )\n",
    "{\n",
    " setFlatFee( fee );\n",
    "} // end TwoDayPackage constructor"
   ]
  },
  {
   "cell_type": "code",
   "execution_count": null,
   "metadata": {},
   "outputs": [],
   "source": [
    " // set flat fee\n",
    " void TwoDayPackage::setFlatFee( double fee )\n",
    " {\n",
    "     flatFee = ( fee < 0.0 ) ? 0.0 : fee;\n",
    " } // end function setFlatFee"
   ]
  },
  {
   "cell_type": "code",
   "execution_count": null,
   "metadata": {},
   "outputs": [],
   "source": [
    " // return flat fee\n",
    " double TwoDayPackage::getFlatFee() const\n",
    " {\n",
    "     return flatFee;\n",
    " } // end function getFlatFee"
   ]
  },
  {
   "cell_type": "code",
   "execution_count": null,
   "metadata": {},
   "outputs": [],
   "source": [
    " // calculate shipping cost for package\n",
    " double TwoDayPackage::calculateCost() const\n",
    " {\n",
    "     return Package::calculateCost() + getFlatFee();\n",
    " } // end function calculateCost"
   ]
  },
  {
   "cell_type": "code",
   "execution_count": null,
   "metadata": {},
   "outputs": [],
   "source": [
    "// Definition of derived class OvernightPackage.\n",
    "class OvernightPackage : public Package\n",
    "{\n",
    "public:\n",
    "   OvernightPackage( const string &, const string &, const string &,\n",
    "const string &, int, const string &, const string &, const string &, const string &, int, double, double, double );\n",
    "   void setOvernightFeePerOunce( double ); // set overnight fee\n",
    "   double getOvernightFeePerOunce() const; // return overnight fee\n",
    "   virtual double calculateCost() const; // calculate shipping cost\n",
    "private:\n",
    "   double overnightFeePerOunce; // fee per ounce for overnight delivery\n",
    "}; // end class OvernightPackage"
   ]
  },
  {
   "cell_type": "code",
   "execution_count": null,
   "metadata": {},
   "outputs": [],
   "source": [
    "// constructor\n",
    "OvernightPackage::OvernightPackage( const string &sName,\n",
    " const string &sAddress, const string &sCity, const string &sState,\n",
    " int sZIP, const string &rName, const string &rAddress,\n",
    " const string &rCity, const string &rState, int rZIP,\n",
    " double w, double cost, double fee )\n",
    " : Package( sName, sAddress, sCity, sState, sZIP,\n",
    " rName, rAddress, rCity, rState, rZIP, w, cost )\n",
    "{\n",
    " setOvernightFeePerOunce( fee ); // validate and store overnight fee\n",
    "} // end OvernightPackage constructor"
   ]
  },
  {
   "cell_type": "code",
   "execution_count": null,
   "metadata": {},
   "outputs": [],
   "source": [
    "// set overnight fee\n",
    "void OvernightPackage::setOvernightFeePerOunce( double overnightFee )\n",
    "{\n",
    " overnightFeePerOunce = ( overnightFee < 0.0 ) ? 0.0 : overnightFee;\n",
    "} // end function setOvernightFeePerOunce"
   ]
  },
  {
   "cell_type": "code",
   "execution_count": null,
   "metadata": {},
   "outputs": [],
   "source": [
    "// return overnight fee\n",
    "double OvernightPackage::getOvernightFeePerOunce() const\n",
    "{\n",
    "    return overnightFeePerOunce;\n",
    "} // end function getOvernghtFeePerOunce"
   ]
  },
  {
   "cell_type": "code",
   "execution_count": null,
   "metadata": {},
   "outputs": [],
   "source": [
    "// Implemente a função para cálculo do custo de despacho por pacote\n",
    "// Utilize as funções GET dos respectivos atributos abaixo\n",
    "// Fórmula: weight * (costPerOunce + overnightFeePerOunce)\n"
   ]
  },
  {
   "cell_type": "code",
   "execution_count": null,
   "metadata": {},
   "outputs": [],
   "source": [
    "#include <iostream>\n",
    "#include <iomanip>\n",
    "#include <vector>\n",
    "using namespace std;\n",
    "\n",
    "cout << fixed << setprecision( 2 );\n",
    "\n",
    "// Crie uma variavel chamada packages do tipo vector de ponteiros para \n",
    "// Package com capacidade para armazenar 3 elementos\n",
    "\n",
    "// Inicialize a primeira posição do vector com os dados de Package 1 mostrados abaixo\n",
    "// Além do peso (weight) igual a 8.5 e o custo igual a 0.5\n",
    "\n",
    "// Inicialize a segunda posição do vector com os dados de Package 2 (TwoDayPackage) mostrados abaixo\n",
    "// Além do peso (weight) igual a 10.5, o custo igual a 0.65 e a taxa (fee) igual a 2.0\n",
    "\n",
    "// Inicialize a terceira posição do vector com os dados de Package 3 (OvernightPackage) mostrados abaixo\n",
    "// Além do peso (weight) igual a 12.25, o custo igual a 0.7 e a taxa (fee) igual a 0.25\n",
    "\n",
    "// Faça um loop para imprimir as informações de cada pacote e o custo por pacote\n",
    "{\n",
    "    // Imprima as informações do remetente (Sender) conforme mostrado abaixo\n",
    "\n",
    "    // Imprima as informações do destinatário (Recipient) conforme mostrado abaixo\n",
    "\n",
    "    // Calcule e imprima o custo por pacote conforme mostrado abaixo\n",
    "}\n",
    "\n",
    "// Imprima o custo total de envio dado pela soma dos custos de todos os pacotes calculados no loop acima"
   ]
  },
  {
   "cell_type": "markdown",
   "metadata": {},
   "source": [
    "Package 1\n",
    "\n",
    "Sender:\n",
    "<br>Lou Brown\n",
    "<br>1 Main St\n",
    "<br>Boston, MA 11111\n",
    "\n",
    "Recipient:\n",
    "<br>Mary Smith\n",
    "<br>7 Elm St\n",
    "<br>New York, NY 22222\n",
    "\n",
    "Cost: 4.25\n",
    "\n",
    "Package 2\n",
    "\n",
    "Sender:\n",
    "<br>Lisa Klein\n",
    "<br>5 Broadway\n",
    "<br>Somerville, MA 33333\n",
    "\n",
    "Recipient:\n",
    "<br>Bob George\n",
    "<br>21 Pine Rd\n",
    "<br>Cambridge, MA 44444\n",
    "\n",
    "Cost: 8.82\n",
    "\n",
    "Package 3\n",
    "\n",
    "Sender:\n",
    "<br>Ed Lewis\n",
    "<br>2 Oak St\n",
    "<br>Boston, MA 55555\n",
    "\n",
    "Recipient:\n",
    "<br>Don Kelly\n",
    "<br>9 Main St\n",
    "<br>Denver, CO 66666\n",
    "\n",
    "Cost: 11.64\n",
    "\n",
    "Total shipping cost: 24.71"
   ]
  },
  {
   "cell_type": "code",
   "execution_count": null,
   "metadata": {},
   "outputs": [],
   "source": []
  }
 ],
 "metadata": {
  "kernelspec": {
   "display_name": "C++14",
   "language": "C++14",
   "name": "xeus-cling-cpp14"
  },
  "language_info": {
   "codemirror_mode": "text/x-c++src",
   "file_extension": ".cpp",
   "mimetype": "text/x-c++src",
   "name": "c++",
   "version": "14"
  }
 },
 "nbformat": 4,
 "nbformat_minor": 2
}
