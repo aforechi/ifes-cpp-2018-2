{
 "cells": [
  {
   "cell_type": "markdown",
   "metadata": {},
   "source": [
    "# Aula 4: Precisão Numérica em Computadores\n",
    "\n",
    "Exercício: Resolva o somatório a seguir e compare com o resultado obtido pelo algoritmo.\n",
    "\n",
    "$\\sum_{i=1}^{1000} 0.1$"
   ]
  },
  {
   "cell_type": "code",
   "execution_count": 2,
   "metadata": {},
   "outputs": [
    {
     "name": "stdout",
     "output_type": "stream",
     "text": [
      "(float) 100f\n"
     ]
    }
   ],
   "source": [
    "1000.0f*0.1f"
   ]
  },
  {
   "cell_type": "markdown",
   "metadata": {},
   "source": [
    "Espera-se que o resultado seja o equivalente a $ 1000 \\times 0.1 $, mas o que se observa é um erro cumulativo nas mil somas que não ocorre na multiplicação."
   ]
  },
  {
   "cell_type": "code",
   "execution_count": 3,
   "metadata": {},
   "outputs": [
    {
     "name": "stdout",
     "output_type": "stream",
     "text": [
      "99.999"
     ]
    }
   ],
   "source": [
    "#include<iostream>\n",
    "\n",
    "int i;\n",
    "\n",
    "float soma;\n",
    "\n",
    "soma = 0.0;\n",
    "\n",
    "i=1;\n",
    "\n",
    "while(i <= 1000)\n",
    "{\n",
    "    soma=soma+0.1f;\n",
    "    i=i+1;\n",
    "}\n",
    "\n",
    "std::cout << soma;"
   ]
  },
  {
   "cell_type": "markdown",
   "metadata": {},
   "source": [
    "Contudo, a representação do número decimal 0.1 em binário consiste em uma dízima periódica: $(0.1)_{10} = (0.0001100110011...)_2$, que ao ser convertido de volta equivale aproximadamente a $0.0999999$."
   ]
  },
  {
   "cell_type": "code",
   "execution_count": 4,
   "metadata": {},
   "outputs": [
    {
     "name": "stdout",
     "output_type": "stream",
     "text": [
      "(double) 99.9999\n"
     ]
    }
   ],
   "source": [
    "0.0999999*1000"
   ]
  },
  {
   "cell_type": "markdown",
   "metadata": {},
   "source": [
    "# Exercícios propostos\n",
    "- Digite numero inteiro de tres digitos e encontre o algarismo das dezenas usando os operadores divisão e resto.\n"
   ]
  },
  {
   "cell_type": "code",
   "execution_count": null,
   "metadata": {},
   "outputs": [],
   "source": []
  }
 ],
 "metadata": {
  "kernelspec": {
   "display_name": "xeus C++14",
   "language": "",
   "name": "xeus-cling-cpp14"
  },
  "language_info": {
   "codemirror_mode": "text/x-c++src",
   "file_extension": ".cpp",
   "mimetype": "text/x-c++src",
   "name": "c++",
   "version": ""
  }
 },
 "nbformat": 4,
 "nbformat_minor": 2
}
