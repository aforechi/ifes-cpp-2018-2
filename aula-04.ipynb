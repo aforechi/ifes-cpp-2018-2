{
 "cells": [
  {
   "attachments": {},
   "cell_type": "markdown",
   "metadata": {},
   "source": [
    "# Aula 4: Ponteiros\n",
    "\n",
    "- Ponteiros são tipos especiais de variáveis, cujo conteúdo não é um valor de um tipo de dado, mas um endereço de memória.\n",
    "\n",
    "![](img/Picture35.png)\n",
    "\n",
    "- Ponteiro é uma variável que armazena um endereço de memória\n",
    "- Uma variável que aponta para outra variável\n",
    "\n",
    "## Sintaxe de declaração:\n",
    "\n",
    "    tipo_de_dado   *nome_do_ponteiro;\n",
    "\n",
    "## Exemplos (tipos de dados simples):"
   ]
  },
  {
   "cell_type": "code",
   "execution_count": 1,
   "metadata": {},
   "outputs": [],
   "source": [
    "char *pc;\n",
    "int *pi;\n",
    "float *pf;"
   ]
  },
  {
   "cell_type": "markdown",
   "metadata": {},
   "source": [
    "## Vantagens:\n",
    "- Fornecer meios para funções modificarem seus argumentos\n",
    "- Suportar rotinas de alocação dinâmica\n",
    "- Aumentar eficiência de certas rotinas\n",
    "\n",
    "## Operadores para ponteiros\n",
    "\n",
    "&  (Operador de Referenciamento): Devolve o endereço na memória do seu operando"
   ]
  },
  {
   "cell_type": "code",
   "execution_count": 2,
   "metadata": {},
   "outputs": [],
   "source": [
    "int count = 10;\n",
    "pi = &count; "
   ]
  },
  {
   "cell_type": "markdown",
   "metadata": {},
   "source": [
    "\\*  (Operador de Derreferenciamento): Recebe o conteúdo de um endereço apontado por um ponteiro"
   ]
  },
  {
   "cell_type": "code",
   "execution_count": 3,
   "metadata": {},
   "outputs": [],
   "source": [
    "int x = *pi;"
   ]
  },
  {
   "cell_type": "code",
   "execution_count": 4,
   "metadata": {},
   "outputs": [
    {
     "data": {
      "text/plain": [
       "10"
      ]
     },
     "execution_count": 4,
     "metadata": {},
     "output_type": "execute_result"
    }
   ],
   "source": [
    "x"
   ]
  },
  {
   "cell_type": "markdown",
   "metadata": {},
   "source": [
    "## Expressões com ponteiros\n",
    "\n",
    "- Atribuição\n",
    "\n",
    "p = &memoria;\n",
    "q = p;\n",
    "\n",
    "## Aritmética de ponteiros\n",
    "\n",
    "- Somente adição e subtração\n",
    "- Não se pode somar floats e double a ponteiros."
   ]
  },
  {
   "cell_type": "code",
   "execution_count": 5,
   "metadata": {},
   "outputs": [
    {
     "data": {
      "text/plain": [
       "@0x7ffee2b74470"
      ]
     },
     "execution_count": 5,
     "metadata": {},
     "output_type": "execute_result"
    }
   ],
   "source": [
    "int *p1; // Sendo p1, um ponteiro para inteiro, após a operação \n",
    "p1++;    // p1 aponta para o próximo inteiro, pois avança dois bytes correspondentes a um inteiro.\n",
    "p1--;    // decrementa dois bytes\n",
    "\n",
    "p1 = p1 + 12; //avança 24 bytes "
   ]
  },
  {
   "cell_type": "code",
   "execution_count": 7,
   "metadata": {},
   "outputs": [],
   "source": [
    "// Formas de acesso / utilização\n",
    "int *p;\n",
    "int d = 10;\n",
    "p = &d;\n",
    "\n",
    "float *f;\n",
    "float c = 15.0;\n",
    "f = &c;\n",
    "*f = *f + 1.0;"
   ]
  },
  {
   "cell_type": "code",
   "execution_count": 8,
   "metadata": {},
   "outputs": [
    {
     "name": "stderr",
     "output_type": "stream",
     "text": [
      "\u001b[1minput_line_19:5:7: \u001b[0m\u001b[0;1;31merror: \u001b[0m\u001b[1mredefinition of 'd' with a different type: 'float' vs 'int'\u001b[0m\n",
      "float d = 15.0;\n",
      "\u001b[0;1;32m      ^\n",
      "\u001b[0m\u001b[1minput_line_18:4:5: \u001b[0m\u001b[0;1;30mnote: \u001b[0mprevious definition is here\u001b[0m\n",
      "int d = 10;\n",
      "\u001b[0;1;32m    ^\n",
      "\u001b[0m"
     ]
    },
    {
     "ename": "Interpreter Error",
     "evalue": "",
     "output_type": "error",
     "traceback": [
      "Interpreter Error: "
     ]
    }
   ],
   "source": [
    "// “Desenhe” o estado da memória para o pedaço de código\n",
    "float *v;\n",
    "float *j;\n",
    "float d = 15.0;\n",
    "float i = 17.0;\n",
    "j = &d;\n",
    "v = &i;\n",
    "*v = *j;\n",
    "v = j;"
   ]
  },
  {
   "cell_type": "markdown",
   "metadata": {},
   "source": [
    "## Exercício Proposto\n",
    "\n",
    "- Crie uma variável x do tipo inteiro;\n",
    "- Crie um ponteiro pra inteiro px, que apontará para x;\n",
    "- Altere o valor inteiro que será atribuído a x, porém através de px;\n",
    "- Imprima duas vezes o valor de x, usando o próprio x e px;\n",
    "- Imprima duas vezes o endereço de x, usando o próprio x e px."
   ]
  },
  {
   "cell_type": "code",
   "execution_count": null,
   "metadata": {},
   "outputs": [],
   "source": []
  }
 ],
 "metadata": {
  "kernelspec": {
   "display_name": "C++14",
   "language": "C++14",
   "name": "xeus-cling-cpp14"
  },
  "language_info": {
   "codemirror_mode": "text/x-c++src",
   "file_extension": ".cpp",
   "mimetype": "text/x-c++src",
   "name": "c++",
   "version": "14"
  }
 },
 "nbformat": 4,
 "nbformat_minor": 2
}
