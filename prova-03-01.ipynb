{
 "cells": [
  {
   "cell_type": "code",
   "execution_count": null,
   "metadata": {},
   "outputs": [],
   "source": [
    "#include <iostream>\n",
    "using namespace std;\n",
    "\n",
    "class Account {\n",
    "public:\n",
    "   Account( double ); // constructor initializes balance\n",
    "   void credit( double ); // add an amount to the account balance\n",
    "   bool debit( double ); // subtract an amount from the account balance\n",
    "   void setBalance( double ); // sets the account balance\n",
    "   double getBalance(); // return the account balance\n",
    "private:\n",
    "   double balance; // data member that stores the balance\n",
    "}; // end class Account"
   ]
  },
  {
   "cell_type": "code",
   "execution_count": null,
   "metadata": {},
   "outputs": [],
   "source": [
    "// constructor \n"
   ]
  },
  {
   "cell_type": "code",
   "execution_count": null,
   "metadata": {},
   "outputs": [],
   "source": [
    "// credit\n"
   ]
  },
  {
   "cell_type": "code",
   "execution_count": null,
   "metadata": {},
   "outputs": [],
   "source": [
    "// debit \n"
   ]
  },
  {
   "cell_type": "code",
   "execution_count": null,
   "metadata": {},
   "outputs": [],
   "source": [
    "// setBalance\n"
   ]
  },
  {
   "cell_type": "code",
   "execution_count": null,
   "metadata": {},
   "outputs": [],
   "source": [
    "// getBalance\n"
   ]
  },
  {
   "cell_type": "code",
   "execution_count": null,
   "metadata": {},
   "outputs": [],
   "source": [
    "class SavingsAccount : public Account\n",
    "{\n",
    "public:\n",
    "   // constructor initializes balance and interest rate\n",
    "   SavingsAccount( double, double );\n",
    "   double calculateInterest(); // determine interest owed\n",
    "private:\n",
    "   double interestRate; // interest rate (percentage) earned by account\n",
    "}; // end class SavingsAccount"
   ]
  },
  {
   "cell_type": "code",
   "execution_count": null,
   "metadata": {},
   "outputs": [],
   "source": [
    "// constructor\n"
   ]
  },
  {
   "cell_type": "code",
   "execution_count": null,
   "metadata": {},
   "outputs": [],
   "source": [
    "// calculateInterest\n"
   ]
  },
  {
   "cell_type": "code",
   "execution_count": null,
   "metadata": {},
   "outputs": [],
   "source": [
    "class CheckingAccount : public Account\n",
    "{\n",
    "public:\n",
    "// constructor initializes balance and transaction fee\n",
    "    CheckingAccount( double, double );\n",
    "    void credit( double ); // redefined credit function\n",
    "    bool debit( double ); // redefined debit function\n",
    "private:\n",
    "    double transactionFee; // fee charged per transaction\n",
    "    // utility function to charge fee\n",
    "    void chargeFee();\n",
    "}; // end"
   ]
  },
  {
   "cell_type": "code",
   "execution_count": null,
   "metadata": {},
   "outputs": [],
   "source": [
    "// constructor \n"
   ]
  },
  {
   "cell_type": "code",
   "execution_count": null,
   "metadata": {},
   "outputs": [],
   "source": [
    "// credit \n"
   ]
  },
  {
   "cell_type": "code",
   "execution_count": null,
   "metadata": {},
   "outputs": [],
   "source": [
    "// debit \n"
   ]
  },
  {
   "cell_type": "code",
   "execution_count": null,
   "metadata": {},
   "outputs": [],
   "source": [
    "// chargeFee\n"
   ]
  },
  {
   "cell_type": "code",
   "execution_count": null,
   "metadata": {},
   "outputs": [],
   "source": [
    "#include <iomanip>\n",
    "using namespace std;\n",
    "\n",
    "Account account1( 50.0 ); // create Account object\n",
    "SavingsAccount account2( 25.0, .03 ); // create SavingsAccount object\n",
    "CheckingAccount account3( 80.0, 1.0 ); // create CheckingAccount object\n",
    "cout << fixed << setprecision( 2 );\n",
    "// display initial balance of each object\n",
    "cout << \"account1 balance: $\" << account1.getBalance() << endl;\n",
    "cout << \"account2 balance: $\" << account2.getBalance() << endl;\n",
    "cout << \"account3 balance: $\" << account3.getBalance() << endl;\n",
    "cout << \"\\nAttempting to debit $25.00 from account1.\" << endl;\n",
    "account1.debit( 25.0 ); // try to debit $25.00 from account1\n",
    "cout << \"\\nAttempting to debit $30.00 from account2.\" << endl;\n",
    "account2.debit( 30.0 ); // try to debit $30.00 from account2\n",
    "cout << \"\\nAttempting to debit $40.00 from account3.\" << endl;\n",
    "account3.debit( 40.0 ); // try to debit $40.00 from account3\n",
    "// display balances\n",
    "cout << \"\\naccount1 balance: $\" << account1.getBalance() << endl;\n",
    "cout << \"account2 balance: $\" << account2.getBalance() << endl;\n",
    "cout << \"account3 balance: $\" << account3.getBalance() << endl;\n",
    "cout << \"\\nCrediting $40.00 to account1.\" << endl;\n",
    "account1.credit( 40.0 ); // credit $40.00 to account1\n",
    "cout << \"\\nCrediting $65.00 to account2.\" << endl;\n",
    "account2.credit( 65.0 ); // credit $65.00 to account2\n",
    "cout << \"\\nCrediting $20.00 to account3.\" << endl;\n",
    "account3.credit( 20.0 ); // credit $20.00 to account3\n",
    "// display balances\n",
    "// add interest to SavingsAccount object account2\n",
    "cout << \"\\naccount1 balance: $\" << account1.getBalance() << endl;\n",
    "cout << \"account2 balance: $\" << account2.getBalance() << endl;\n",
    "cout << \"account3 balance: $\" << account3.getBalance() << endl;\n",
    "double interestEarned = account2.calculateInterest();\n",
    "cout << \"\\nAdding $\" << interestEarned << \" interest to account2.\" << endl;\n",
    "account2.credit( interestEarned );\n",
    "cout << \"\\nNew account2 balance: $\" << account2.getBalance() << endl;"
   ]
  },
  {
   "cell_type": "code",
   "execution_count": null,
   "metadata": {},
   "outputs": [],
   "source": []
  }
 ],
 "metadata": {
  "kernelspec": {
   "display_name": "C++14",
   "language": "C++14",
   "name": "xeus-cling-cpp14"
  },
  "language_info": {
   "codemirror_mode": "text/x-c++src",
   "file_extension": ".cpp",
   "mimetype": "text/x-c++src",
   "name": "c++",
   "version": "14"
  }
 },
 "nbformat": 4,
 "nbformat_minor": 2
}
