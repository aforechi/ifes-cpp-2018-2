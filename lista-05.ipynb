{
 "cells": [
  {
   "cell_type": "markdown",
   "metadata": {},
   "source": [
    "# 5a Lista de Exercícios\n",
    "\n",
    "Faça os exercícios abaixo de maneira clara, organizada e usando a linguagem C/C++, conforme orientações abaixo: \n",
    "\n",
    "- Lembre-se de identar o código com TAB, além de seguir as boas práticas de programação vistas em sala de aula e na apostila.\n",
    "\n",
    "1.Um curso selecionou, através de análise curricular e entrevista, 70 alunos. Ao iniciar o curso, foi explicado que o aluno com nota na primeira prova abaixo da média da turma, seria desligado. Faça um programa em C/C++ para ler de um arquivo texto (nome 'alunos_matriculados.txt') os nomes e as notas da primeira prova dos alunos da turma, calcular e imprimir a média e a variância na tela, retirar os alunos que ficaram abaixo da média da turma, e imprimir em um arquivo texto (nome 'alunos_aprovados.txt') os alunos que permaneceram na turma. Obs: variância = $\\frac{1}{n} \\sum_{i=1}^{n} (x_i - \\bar x)^2$, onde $\\bar x$ é a média aritmética. "
   ]
  },
  {
   "cell_type": "code",
   "execution_count": 1,
   "metadata": {},
   "outputs": [],
   "source": [
    "#include <iostream>\n",
    "#include <fstream>\n",
    "#include <stdlib.h>\n",
    "\n",
    " srand(5);\n",
    "\n",
    " typedef struct{\n",
    "    std::string nome;\n",
    "    float nota;    \n",
    " }tAluno;\n",
    "\n",
    "const int TAM = 70;\n",
    "tAluno alunos[TAM];\n",
    "\n",
    "std::ofstream novo;\n",
    "std::ifstream leitura;\n",
    "std::ofstream aprovados;\n",
    "\n",
    "novo.open(\"alunos_matriculados.txt\");\n",
    "for(int i=0; i < TAM; i++) {\n",
    "    novo << \"Aluno\" << i << \" \" << (rand()%100)+1;\n",
    "    if (i < TAM-1)\n",
    "        novo << std::endl;\n",
    "}\n",
    "novo.close();\n",
    "\n",
    "// Complete daqui em diante utilizando as variaveis e estruturas definidas acima"
   ]
  },
  {
   "cell_type": "markdown",
   "metadata": {},
   "source": [
    "2.O sistema de avaliação de uma disciplina obedece aos seguintes critérios: a média parcial $MP$ é obtida pela média aritmética das notas de duas provas ($P1$ e $P2$), ponderadas com peso 0.5; somada a média das notas de dois trabalhos ($T1$ e $T2$), ponderada por 0.3; somada a média das notas de cinco listas ($L1$, $L2$, $L3$, $L4$, $L5$) de exercícios, ponderada por 0.2. É considerado aprovado o aluno que obtiver nota final superior a 6.0 e que tiver comparecido a um mínimo de $75\\%$ das aulas do total de 32. Fazer um programa em C/C++ que leia de um arquivo texto um conjunto de dados de 40 alunos, uma linha para cada aluno contendo o número da matrícula (inteiro), as notas (real) das provas, dos trabalhos e das listas, e o número de aulas frequentadas (inteiro), armazenado em um arquivo 'curso.txt'. Calcule:    \n",
    "    - a média parcial $MP$ de cada aluno; \n",
    "    - o total de alunos candidatos a fazer a prova final; \n",
    "    - a porcentagem de alunos reprovados por falta. \n",
    "Para cada aluno, escreva no arquivo 'resultado.txt' o número da matrícula, a nota final e o código (A = aprovado, R = reprovado por média, F = reprovado por falta). \n",
    "\n",
    "$MP = 0.5*\\frac{P1+P2}{2} + 0.3*\\frac{T1+T2}{2} + 0.2*\\frac{L1+L2+L3+L4+L5}{5}$"
   ]
  },
  {
   "cell_type": "code",
   "execution_count": null,
   "metadata": {},
   "outputs": [],
   "source": []
  },
  {
   "cell_type": "markdown",
   "metadata": {},
   "source": [
    "3.Faça um programa em C/C++ que leia do arquivo 'dados.txt' dois vetores, $vetA$ e $vetB$, de tamanhos arbitrários, construa um outro vetor no qual cada elemento é o máximo em módulo entre os elementos correspondentes de $vetA$ e $vetB$. Calcule também o maior valor em módulo deste novo vetor e a sua posição no vetor. Imprima no arquivo 'saida.txt' o novo vetor, e na tela o maior valor em módulo calculado e a sua posição no vetor. Utilize a classe tVetorInt para armazenar os valores."
   ]
  },
  {
   "cell_type": "code",
   "execution_count": null,
   "metadata": {},
   "outputs": [],
   "source": []
  },
  {
   "cell_type": "markdown",
   "metadata": {},
   "source": [
    "4.Faça um programa em C/C++ que leia $n$ ($n$ arbitrário) valores reais, ordene usando o método da bolha em ordem decrescente e imprima os valores ordenados. Utilize o TAD tVetorInt para armazenar os valores.\n",
    "\n",
    "5.Uma editora possui um código para fornecer o valor da assinatura anual das seguintes revistas:\n",
    "\n",
    "| Cod. | Revista     | Valor     |\n",
    "|------|-------------|-----------|\n",
    "| I | Internet       | R\\$ 70,50 |\n",
    "| A | Atualidades    | R\\$ 69,00 |\n",
    "| C | Cozinhas       | R\\$ 75,00 |\n",
    "| M | Moda e Moldes  | R\\$ 50,00 | \n",
    "\n",
    "    - Faça uma função que, fornecido o código da revista, retorne um objeto contendo o nome da revista e o valor da anuidade. \n",
    "    - Faça também uma função para calcular o valor da assinatura, sabendo que: a  editora dá um desconto de 32% ao cliente que pagar a vista a anuidade,  não altera o valor se o  cliente optar por pagamento em 3 vezes e cobra juros de 12% para a opção de pagamento em 6 vezes. Crie um código alfanumérico para a opção de pagamento e forneça este código para a função. \n",
    "    - Faça um programa em C/C++ que, fornecido o código da revista, imprima o nome da revista e o valor da anuidade. Depois disso, o programa  deve ler a opção de pagamento desejada e imprimir o valor da assinatura."
   ]
  },
  {
   "cell_type": "code",
   "execution_count": null,
   "metadata": {},
   "outputs": [],
   "source": []
  }
 ],
 "metadata": {
  "kernelspec": {
   "display_name": "C++14",
   "language": "C++14",
   "name": "xcpp14"
  },
  "language_info": {
   "codemirror_mode": "text/x-c++src",
   "file_extension": ".cpp",
   "mimetype": "text/x-c++src",
   "name": "c++",
   "version": "14"
  }
 },
 "nbformat": 4,
 "nbformat_minor": 4
}
