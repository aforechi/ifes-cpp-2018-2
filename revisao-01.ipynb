{
 "cells": [
  {
   "cell_type": "markdown",
   "metadata": {},
   "source": [
    "# Aula de Revisão\n",
    "\n",
    "## O que há de errado no exemplo abaixo? "
   ]
  },
  {
   "cell_type": "code",
   "execution_count": 1,
   "metadata": {},
   "outputs": [
    {
     "data": {
      "text/plain": [
       "200"
      ]
     },
     "execution_count": 1,
     "metadata": {},
     "output_type": "execute_result"
    }
   ],
   "source": [
    "int var1, var2;  \n",
    "var1 = 100;  \n",
    "var2 = 200;  \n",
    "var1 = var2; //var1 guarda 200  \n",
    "var2 = var1; //var2 guarda 200 "
   ]
  },
  {
   "cell_type": "markdown",
   "metadata": {},
   "source": [
    "## Veja a forma correta de efetuar a operação de troca de valores. "
   ]
  },
  {
   "cell_type": "code",
   "execution_count": 2,
   "metadata": {},
   "outputs": [],
   "source": [
    "int aux;\n",
    "var1 = 100;  \n",
    "var2 = 200; \n",
    "\n",
    "aux = var1;\n",
    "var1 = var2;\n",
    "var2 = aux; "
   ]
  },
  {
   "cell_type": "markdown",
   "metadata": {},
   "source": [
    "## Algoritmo para decidir se um aluno está aprovado ou não, com base na média das notas semestrais."
   ]
  },
  {
   "cell_type": "code",
   "execution_count": 3,
   "metadata": {},
   "outputs": [
    {
     "name": "stdout",
     "output_type": "stream",
     "text": [
      "\n",
      "O aluno deve fazer prova final."
     ]
    }
   ],
   "source": [
    "#include<iostream>\n",
    "\n",
    "float n1, n2, n3, mediaParcial;\n",
    "\n",
    "mediaParcial = (n1 + n2 + n3) / 3.0;\n",
    "\n",
    "if(mediaParcial < 7.0){\n",
    "    std::cout << \"\\nO aluno deve fazer prova final.\";\n",
    "} else {\n",
    "    std::cout << \"\\nO aluno foi aprovado com media \" << mediaParcial;\n",
    "}"
   ]
  },
  {
   "cell_type": "markdown",
   "metadata": {},
   "source": [
    "## Algoritmo para decidir se dois numeros digitados estão em ordem crescente, decrescente ou se são iguais."
   ]
  },
  {
   "cell_type": "code",
   "execution_count": 4,
   "metadata": {},
   "outputs": [
    {
     "name": "stdout",
     "output_type": "stream",
     "text": [
      "\n",
      "Numeros iguais."
     ]
    }
   ],
   "source": [
    "#include<iostream>\n",
    "\n",
    "int num1, num2;\n",
    "\n",
    "if(num1 > num2){\n",
    "    std::cout << \"\\nOrdem decrescente.\";\n",
    "}else{\n",
    "    if(num2 > num1){\n",
    "        std::cout << \"\\nOrdem crescente.\";\n",
    "    }else{\n",
    "        std::cout << \"\\nNumeros iguais.\";\n",
    "    } \n",
    "}"
   ]
  },
  {
   "cell_type": "markdown",
   "metadata": {},
   "source": [
    "## Programa que identifica o maior de três numeros sem o uso do comando de seleção aninhado"
   ]
  },
  {
   "cell_type": "code",
   "execution_count": 5,
   "metadata": {},
   "outputs": [],
   "source": [
    "#include<iostream>\n",
    "\n",
    "//int n1, n2, n3;\n",
    "\n",
    "if((n1 > n2) && (n1 > n3)){\n",
    "    std::cout << \"O maior numero digitado foi: \" << n1;\n",
    "}\n",
    "if((n2 > n1) && (n2 > n3)){\n",
    "    std::cout << \"O maior numero digitado foi: \" << n2;\n",
    "}\n",
    "if((n3 > n1) && (n3 > n2)){\n",
    "    std::cout << \"O maior numero digitado foi: \" << n3;\n",
    "}"
   ]
  },
  {
   "cell_type": "markdown",
   "metadata": {},
   "source": [
    "## Programa que identifica o maior de três numeros, usando o uso do comando de seleção aninhado."
   ]
  },
  {
   "cell_type": "code",
   "execution_count": 7,
   "metadata": {},
   "outputs": [
    {
     "name": "stdout",
     "output_type": "stream",
     "text": [
      "O maior numero digitado foi: 0"
     ]
    }
   ],
   "source": [
    "//int n1, n2, n3;\n",
    "\n",
    "if (n1 > n2){\n",
    "    if (n1 > n3){\n",
    "        std::cout << \"O maior numero digitado foi: \" << n1;\n",
    "    } else {\n",
    "        std::cout << \"O maior numero digitado foi: \" << n3;\n",
    "    } \n",
    "}else{\n",
    "    if (n2 > n3) { \n",
    "        std::cout << \"O maior numero digitado foi: \" << n2;\n",
    "    } else { \n",
    "        std::cout << \"O maior numero digitado foi: \" << n3;\n",
    "    } \n",
    "}"
   ]
  },
  {
   "cell_type": "markdown",
   "metadata": {},
   "source": [
    "## Informa se três números podem constituir os lados de um triângulo e o tipo do triângulo que pode ser formado."
   ]
  },
  {
   "cell_type": "code",
   "execution_count": 2,
   "metadata": {},
   "outputs": [
    {
     "name": "stdout",
     "output_type": "stream",
     "text": [
      "Triangulo equilatero\n"
     ]
    }
   ],
   "source": [
    "#include<iostream>\n",
    "\n",
    "int lado1 , lado2 , lado3;\n",
    "int soma1 , soma2 , soma3;\n",
    "\n",
    "// Entre com tres numeros inteiros\n",
    "\n",
    "soma1 = lado1 + lado2;\n",
    "soma2 = lado1 + lado3;\n",
    "soma3 = lado2 + lado3;\n",
    "\n",
    "if((lado1 == lado2) && (lado2 == lado3)){ \n",
    "    std::cout << \"Triangulo equilatero\\n\" ;\n",
    "}else{\n",
    "    if((soma1 > lado3) && (soma2 > lado2) && (soma3 > lado1)){\n",
    "        if((lado1 != lado2) && (lado1 != lado3) && (lado2 != lado3)){ \n",
    "            std::cout << \"Triangulo escaleno\\n\";\n",
    "        }else{\n",
    "            std::cout << \"Triangulo isosceles\\n\";\n",
    "        } \n",
    "    }else{\n",
    "        std::cout << \"Os três lados não formam um triângulo\\n\";     \n",
    "    } \n",
    "}"
   ]
  },
  {
   "cell_type": "markdown",
   "metadata": {},
   "source": [
    "## Uso do comando switch para simular uma urna eletronica de eleição."
   ]
  },
  {
   "cell_type": "code",
   "execution_count": 3,
   "metadata": {},
   "outputs": [
    {
     "data": {
      "application/vnd.jupyter.widget-view+json": {
       "model_id": "6352d03a78234492b20992a76f855e98",
       "version_major": 2,
       "version_minor": 0
      },
      "text/plain": [
       "A Jupyter widget"
      ]
     },
     "execution_count": 3,
     "metadata": {},
     "output_type": "execute_result"
    }
   ],
   "source": [
    "#include \"xwidgets/xnumeral.hpp\"\n",
    "\n",
    "//URNA ELETRONICA - SEU VOTO PARA PREFEITO:\n",
    "xw::numeral<int> numeral;\n",
    "numeral\n"
   ]
  },
  {
   "cell_type": "code",
   "execution_count": 7,
   "metadata": {},
   "outputs": [
    {
     "name": "stdout",
     "output_type": "stream",
     "text": [
      "Numero digitado invalido. Voto anulado."
     ]
    }
   ],
   "source": [
    "#include<iostream>\n",
    "\n",
    "switch(numeral.value()){\n",
    "case 1:\n",
    "    std::cout << \"Candidato escolhido: Hortencia da Silva\";\n",
    "break;\n",
    "case 2:\n",
    "    std::cout << \"Candidato escolhido: Jose dos Cravos\";\n",
    "break;\n",
    "case 3:\n",
    "    std::cout << \"Candidato escolhido: Margarida S. Pereira\";\n",
    "break;\n",
    "default:\n",
    "    std::cout << \"Numero digitado invalido. Voto anulado.\";\n",
    "}\n"
   ]
  },
  {
   "cell_type": "markdown",
   "metadata": {},
   "source": [
    "## Programa que imprime os n primeiros numeros impares."
   ]
  },
  {
   "cell_type": "code",
   "execution_count": 8,
   "metadata": {},
   "outputs": [
    {
     "name": "stderr",
     "output_type": "stream",
     "text": [
      "\u001b[1minput_line_22:2:6: \u001b[0m\u001b[0;1;31merror: \u001b[0m\u001b[1mredefinition of 'iterador'\u001b[0m\n",
      " int iterador, valor;\n",
      "\u001b[0;1;32m     ^\n",
      "\u001b[0m\u001b[1minput_line_8:2:6: \u001b[0m\u001b[0;1;30mnote: \u001b[0mprevious definition is here\u001b[0m\n",
      " int iterador , valor , n;\n",
      "\u001b[0;1;32m     ^\n",
      "\u001b[0m"
     ]
    },
    {
     "ename": "Interpreter Error",
     "evalue": "",
     "output_type": "error",
     "traceback": [
      "Interpreter Error: "
     ]
    }
   ],
   "source": [
    "#include<iostream>\n",
    "\n",
    "int iterador, valor;\n",
    "\n",
    "//Entre com a quantidade de termos: \n",
    "int n;\n",
    "\n",
    "iterador = 1; valor = 1;\n",
    "while(iterador <= n){ \n",
    "    std::cout << \"\\n \" << valor; \n",
    "    valor = valor + 2; \n",
    "    iterador = iterador + 1;\n",
    "}"
   ]
  },
  {
   "cell_type": "markdown",
   "metadata": {},
   "source": [
    "## Programa para exibir os n primeiros termos de uma progressao geometrica utilizando o comando de repetição for"
   ]
  },
  {
   "cell_type": "code",
   "execution_count": 9,
   "metadata": {},
   "outputs": [
    {
     "name": "stderr",
     "output_type": "stream",
     "text": [
      "\u001b[1minput_line_23:2:32: \u001b[0m\u001b[0;1;31merror: \u001b[0m\u001b[1mredefinition of 'n' with a different type: 'float' vs 'int'\u001b[0m\n",
      " float primeiroTermo , razao , n, i, termo;\n",
      "\u001b[0;1;32m                               ^\n",
      "\u001b[0m\u001b[1minput_line_8:2:25: \u001b[0m\u001b[0;1;30mnote: \u001b[0mprevious definition is here\u001b[0m\n",
      " int iterador , valor , n;\n",
      "\u001b[0;1;32m                        ^\n",
      "\u001b[0m"
     ]
    },
    {
     "ename": "Interpreter Error",
     "evalue": "",
     "output_type": "error",
     "traceback": [
      "Interpreter Error: "
     ]
    }
   ],
   "source": [
    "float primeiroTermo , razao , n, i, termo;\n",
    "\n",
    "//Informe o valor do primeiro termo da PG:\n",
    "primeiroTermo=0;\n",
    "//Informe o valor da razao da PG:\n",
    "razao=0;\n",
    "//Informe quantos termos devem ser impressos:;\n",
    "n=0;\n",
    "\n",
    "termo = primeiroTermo;\n",
    "for (i=0; i<n; i=i+1) {\n",
    "    std::cout << termo << \" \";\n",
    "    termo = termo*razao;\n",
    "}"
   ]
  },
  {
   "cell_type": "markdown",
   "metadata": {},
   "source": [
    "## Programa para realizar a operação de exponenciação utilizando o comando de repetição for."
   ]
  },
  {
   "cell_type": "code",
   "execution_count": 10,
   "metadata": {},
   "outputs": [
    {
     "name": "stdout",
     "output_type": "stream",
     "text": [
      "0 elevado a 0 = 1"
     ]
    }
   ],
   "source": [
    "int base , expoente , resultado , i;\n",
    "\n",
    "//Informe os valores para base e expoente:\n",
    "base=0;\n",
    "expoente=0;\n",
    "\n",
    "resultado = 1;\n",
    "for (i = 0; i < expoente; i = i + 1)\n",
    "    resultado = resultado * base;\n",
    "std::cout << base << \" elevado a \" << expoente << \" = \" << resultado;"
   ]
  },
  {
   "cell_type": "markdown",
   "metadata": {},
   "source": [
    "## Resolva a série $\\frac{5}{3}+\\frac{7}{4}+\\frac{9}{5}+\\frac{11}{6}+...+\\frac{99}{50}$\n",
    "\n",
    "Para isto, podemos somar elementos calculador em uma repetição onde o contador i vai de 3 a 50. Nesta série, a cada repetição somamos o elemento: $\\frac{2i−1}{i}$\n",
    "\n",
    "Neste exemplo, vamos utilizar um contador i inicializado em 3 para calcularmos esta série.\n"
   ]
  },
  {
   "cell_type": "code",
   "execution_count": 12,
   "metadata": {},
   "outputs": [
    {
     "name": "stderr",
     "output_type": "stream",
     "text": [
      "\u001b[1minput_line_27:3:5: \u001b[0m\u001b[0;1;31merror: \u001b[0m\u001b[1mredefinition of 'i'\u001b[0m\n",
      "int i;\n",
      "\u001b[0;1;32m    ^\n",
      "\u001b[0m\u001b[1minput_line_24:2:36: \u001b[0m\u001b[0;1;30mnote: \u001b[0mprevious definition is here\u001b[0m\n",
      " int base , expoente , resultado , i;\n",
      "\u001b[0;1;32m                                   ^\n",
      "\u001b[0m"
     ]
    },
    {
     "ename": "Interpreter Error",
     "evalue": "",
     "output_type": "error",
     "traceback": [
      "Interpreter Error: "
     ]
    }
   ],
   "source": [
    "#include <iostream> \n",
    "using namespace std; \n",
    "int i;\n",
    "int n;\n",
    "double soma;\n",
    "double numerador;\n",
    "double denominador;\n",
    "\n",
    "//Digite o contador final: \n",
    "n=0;\n",
    "soma = 0;\n",
    "\n",
    "for (i = 3; i <= n; i++){\n",
    "    numerador = 2*i-1;\n",
    "    denominador = i;\n",
    "    soma += numerador/denominador;\n",
    "}\n",
    "\n",
    "cout << \"Somatório = \" << soma << endl;"
   ]
  },
  {
   "cell_type": "code",
   "execution_count": null,
   "metadata": {},
   "outputs": [],
   "source": []
  }
 ],
 "metadata": {
  "kernelspec": {
   "display_name": "C++14",
   "language": "C++14",
   "name": "xeus-cling-cpp14"
  },
  "language_info": {
   "codemirror_mode": "text/x-c++src",
   "file_extension": ".cpp",
   "mimetype": "text/x-c++src",
   "name": "c++",
   "version": "14"
  }
 },
 "nbformat": 4,
 "nbformat_minor": 2
}
