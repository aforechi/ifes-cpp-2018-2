{
 "cells": [
  {
   "cell_type": "markdown",
   "metadata": {},
   "source": [
    "# Aula 13: Manipulação de arquivos\n",
    "\n",
    "Por que arquivar?\n",
    "- Para armazenamento permanente em disco.\n",
    "- Estando em disco, arquivos podem ser lidos, gravados e alterados.\n",
    "- Acesso a arquivos é mais lento do que acesso a memória principal.\n",
    "\n",
    "**Arquivo** – representação de um arquivo em disco, terminal ou impressora.\n",
    "\n",
    "**Stream** é uma abstração lógica de arquivos e dispositivos de E/S.\n",
    "- Um arquivo é associado a uma stream por uma operação de abertura (open).\n",
    "- Um arquivo é desassociado de uma stream por uma operação de fechamento (close).\n",
    "\n",
    "Tipos de arquivo:\n",
    "- Arquivo texto: representa os dados das variáveis como uma sequência de caracteres – legível ao usuário.\n",
    "- Arquivo binário:  armazena os valores das variáveis em forma de bits. É um “espelho” da memória principal, salvo em memória secundária – legível para a máquina.\n",
    "\n",
    "\n",
    "## Arquivos em C\n",
    "\n",
    "**Um ponteiro de arquivo** é um ponteiro para informações que definem várias coisas sobre o arquivo, incluindo nome, status e posição atual do arquivo.\n",
    "- Um ponteiro identifica um arquivo\n",
    "- Um ponteiro é usado por uma stream para direcionar as operações de E/S\n",
    "\n",
    "Uma variável ponteiro de arquivo é definida em C pelo seguinte comando:\n",
    "\n",
    "FILE *nomeponteiro\n",
    "\n",
    "### Funções para manipulação de arquivo\n",
    "\n",
    "![](img/Picture33.png)\n",
    "\n",
    "**Abrir arquivo**\n",
    "\n",
    "Para abrir arquivo, utilizamos a função fopen(), que tem o seguinte formato.\n",
    "\n",
    "FILE *fopen(const char* nomearquivo, const* char* modo)\n",
    "\n",
    "Os modos de abertura de um arquivo são os seguintes:\n",
    "\n",
    "![](img/Picture34.png)\n",
    "\n"
   ]
  },
  {
   "cell_type": "code",
   "execution_count": null,
   "metadata": {},
   "outputs": [],
   "source": [
    "#include<iostream>\n",
    "\n",
    "/* Abrir um arquivo para gravação */\n",
    "FILE *fp;\n",
    " \n",
    "fp = fopen(\"teste.txt\", \"w\");\n",
    "\n",
    "/* Mas, a forma mais correta é: */\n",
    "\n",
    "if (fp==NULL)\n",
    "   std::cerr << \"Arquivo não pode ser aberto!\";\n",
    "\n",
    "/* Dessa última forma, pode-se detectar se houve algum erro na abertura do arquivo.*/"
   ]
  },
  {
   "cell_type": "markdown",
   "metadata": {},
   "source": [
    "**Fechar arquivo**\n",
    "\n",
    "Para fechar um arquivo, utilizamos a função fclose no seguinte formato:\n",
    "\n",
    "int fclose(FILE *fp)\n",
    "\n",
    "Exemplo: fecha o arquivo apontado por fp."
   ]
  },
  {
   "cell_type": "code",
   "execution_count": null,
   "metadata": {},
   "outputs": [],
   "source": [
    "fclose(fp);"
   ]
  },
  {
   "cell_type": "markdown",
   "metadata": {},
   "source": [
    "**Ler arquivo**\n",
    "\n",
    "Exemplo: Ler caracteres do arquivo apontado por fp até o fim do arquivo (EOF)"
   ]
  },
  {
   "cell_type": "code",
   "execution_count": null,
   "metadata": {},
   "outputs": [],
   "source": [
    "fp = fopen(\"./trabalho/entrada.ply\", \"r\");\n",
    "if (fp==NULL)\n",
    "   std::cerr << \"Arquivo não pode ser aberto!\";\n",
    "\n",
    "char ch;\n",
    "do\n",
    "{\n",
    "    ch = getc(fp);    \n",
    "} while(ch!=EOF);\n"
   ]
  },
  {
   "cell_type": "markdown",
   "metadata": {},
   "source": [
    "**Lendo um número inteiro**\n",
    "\n",
    "Exemplo: Ler inteiro do arquivo apontado por p e armazena em C."
   ]
  },
  {
   "cell_type": "code",
   "execution_count": null,
   "metadata": {},
   "outputs": [],
   "source": [
    "int c;\n",
    "fscanf(fp,\"%d\",&c);\n",
    "std::cout << c;"
   ]
  },
  {
   "cell_type": "markdown",
   "metadata": {},
   "source": [
    "**Lendo uma string**\n",
    "\n",
    "A função fgets é semelhante à função gets(), porém, além dela poder fazer a leitura a partir de um arquivo de dados  e incluir o caracter de nova linha na string, ela ainda especifica o tamanho máximo da string de entrada.\n",
    "\n",
    "Exemplo:"
   ]
  },
  {
   "cell_type": "code",
   "execution_count": null,
   "metadata": {},
   "outputs": [],
   "source": [
    "char str[80];\n",
    "\n",
    "/* Enquanto não for fim de arquivo, \n",
    "ler uma string de 79 caracteres do arquivo \n",
    "apontado por fp e armazena na variável str */\n",
    "\n",
    "rewind(fp);\n",
    "while(!feof(fp))\n",
    "{\n",
    "    fgets(str,79, fp);\n",
    "}"
   ]
  },
  {
   "cell_type": "markdown",
   "metadata": {},
   "source": [
    "## O Tipo Abstrato de Dados Tfuncionario \n",
    "\n",
    "No exemplo 8.8 (pág. 247), existe um arquivo previamente criado, binario, que armazena muitas variaveis struct do tipo TFuncionario. O programa abre esse arquivo, lê todas as variaveis presentes (uma quantia inicialmente desconhecida), e as grava num arquivo texto.\n",
    "\n",
    "- TFuncionario inicializa_func ( void );\n",
    "- TFuncionario le_func ( FILE * arqbin );\n",
    "- TFuncionario invalida_func ( void );\n",
    "- int func_valido ( TFuncionario f);\n",
    "- void grava_func ( TFuncionario f, FILE * arqtex );\n",
    "\n",
    "\n",
    "## Arquivos em C++\n",
    "\n",
    "Os objetos **cin** e **cout**, são criados quando < iostream > é incluído. O fluxo desses objetos criam um canal de comunicação do programa com dispositivos de entrada e saída, como o monitor e o teclado. Com a inserção de <fstream>, podemos criar objetos que possibilitam a comunicação do programa com arquivos.\n",
    "    \n",
    "Os objetos de < fstream > podem ser manipulados assim como os de < iostream >. Os objetos dos tipos < ofstream > ou < ifstream > funcionam de maneira similar aos objetos cout e cin: o operador de inserção (<<) insere dados no arquivo; o operador de extração (>>) lê os dados do arquivo.\n"
   ]
  },
  {
   "cell_type": "code",
   "execution_count": null,
   "metadata": {},
   "outputs": [],
   "source": [
    "#include<fstream>\n",
    "#include<iostream>\n",
    "\n",
    "std::ifstream pontos;"
   ]
  },
  {
   "cell_type": "code",
   "execution_count": null,
   "metadata": {},
   "outputs": [],
   "source": [
    "?std::ifstream"
   ]
  },
  {
   "cell_type": "code",
   "execution_count": null,
   "metadata": {},
   "outputs": [],
   "source": [
    "pontos.open(\"./trabalho/entrada.ply\");"
   ]
  },
  {
   "cell_type": "code",
   "execution_count": null,
   "metadata": {},
   "outputs": [],
   "source": [
    "if (pontos.is_open())\n",
    "    std::cout << \"Abriu\";\n",
    "else\n",
    "    std::cout << \"Erro\";"
   ]
  },
  {
   "cell_type": "markdown",
   "metadata": {},
   "source": [
    "Neste exemplo, faremos um programa que guarda dados de pessoas em um arquivo:"
   ]
  },
  {
   "cell_type": "code",
   "execution_count": null,
   "metadata": {},
   "outputs": [],
   "source": [
    "std::ofstream pessoas (\"pessoas.txt\");\n",
    "\n",
    "if (pessoas.is_open())\n",
    "    std::cout << \"Criou\";\n",
    "else\n",
    "    std::cout << \"Erro\";"
   ]
  },
  {
   "cell_type": "code",
   "execution_count": null,
   "metadata": {},
   "outputs": [],
   "source": [
    "pessoas << \"João \" << 22 << std::endl;\n",
    "pessoas << \"Maria \" << 20 << std::endl;"
   ]
  },
  {
   "cell_type": "code",
   "execution_count": null,
   "metadata": {},
   "outputs": [],
   "source": [
    "pessoas.close();"
   ]
  },
  {
   "cell_type": "markdown",
   "metadata": {},
   "source": [
    "Agora faremos um programa para ler os dados dessas pessoas:"
   ]
  },
  {
   "cell_type": "code",
   "execution_count": null,
   "metadata": {},
   "outputs": [],
   "source": [
    "std::ifstream leitura(\"pessoas.txt\");\n",
    "std::string nome;\n",
    "int idade;\n",
    "while (!leitura.eof()){\n",
    "    leitura >> nome;\n",
    "    leitura >> idade;\n",
    "    std::cout << nome << \" \" << idade << std::endl;\n",
    "}\n",
    "//leitura.close();"
   ]
  },
  {
   "cell_type": "code",
   "execution_count": null,
   "metadata": {},
   "outputs": [],
   "source": []
  }
 ],
 "metadata": {
  "kernelspec": {
   "display_name": "C++14",
   "language": "C++14",
   "name": "xeus-cling-cpp14"
  },
  "language_info": {
   "codemirror_mode": "text/x-c++src",
   "file_extension": ".cpp",
   "mimetype": "text/x-c++src",
   "name": "c++",
   "version": "14"
  }
 },
 "nbformat": 4,
 "nbformat_minor": 2
}
