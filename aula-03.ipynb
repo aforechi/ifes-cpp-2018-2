{
 "cells": [
  {
   "cell_type": "markdown",
   "metadata": {},
   "source": [
    "# Aula 3: Variáveis\n",
    "## Conceitos de variáveis\n",
    "- Uma variável é um espaço de memória endereçado utilizado para guardar um valor variável, isto é, que pode ser modificado pelo programa. \n",
    "- Uma variável é caracterizada pelo seu identificador e pelo tipo de dados que armazena.\n",
    "- O identificador é o nome utilizado por um programa para reconhecer a posição de memória de uma variável. \n",
    "- Já o tipo de dado de que uma variável armazena é um indicador de tamanho dessa variável.\n",
    "\n",
    "## Identificadores\n",
    "- Os identificadores são rótulos definidos por usuários atribuídos a variáveis, funções e outros componentes de um programa.\n",
    "- O primeiro caracter de um identificador deve ser uma letra ou underline (_). Os demais podem ser letras, números ou underline. \n",
    "- Um identificador não pode ser igual a uma palavra-chave reservada da linguagem C e não deve ter o mesmo nome que as funções de bibliotecas da linguagem e de funções definidas por usuários.\n",
    "- O padrão ANSI C determina que os identificadores podem ter qualquer tamanho. \n",
    "- Mas pelo menos os 6 primeiros caracteres devem ser significativos se o identificador estiver envolvido em um processo externo de linkedição.\n",
    "- Se o identificador não estiver é um processo de linkedição, serão reconhecidos os 31 caracteres. Esse tipo de identificador é denominado nome interno.\n",
    "- A linguagem C é \"case sensitive\", isto é, faz diferença entre maiúsculas e minúsculas. \n",
    "\n",
    "## Declaração de variáveis\n",
    "Declarar variáveis significa reservar posições de memória que serão utilizadas por um programa. Na declaração de variáveis em um programa C, devem ser definidos nome e tipo de dado de uma variável da seguinte forma:\n",
    "\n",
    "    <tipo_de_dado> nome_da_variavel;"
   ]
  },
  {
   "cell_type": "code",
   "execution_count": 1,
   "metadata": {},
   "outputs": [],
   "source": [
    "int idade;"
   ]
  },
  {
   "cell_type": "markdown",
   "metadata": {},
   "source": [
    "## Escopo de variáveis\n",
    "- A variável v pode ser acessada por main e f1.\n"
   ]
  },
  {
   "cell_type": "code",
   "execution_count": 2,
   "metadata": {},
   "outputs": [],
   "source": [
    "// declaração de variáveis globais\n",
    "int v; \n"
   ]
  },
  {
   "cell_type": "markdown",
   "metadata": {},
   "source": [
    "\n",
    "- No bloco f1, a variável v2 é criada de novo. \n",
    "- Ao sair do bloco f1, a variável v2 é destruída.\n"
   ]
  },
  {
   "cell_type": "code",
   "execution_count": 3,
   "metadata": {},
   "outputs": [],
   "source": [
    "void f1()\n",
    "{\n",
    "    // declaração de variáveis locais a função f1\n",
    "    int v2;\n",
    "}\n"
   ]
  },
  {
   "cell_type": "markdown",
   "metadata": {},
   "source": [
    "- A variável v1 só pode ser acessada por main.\n",
    "\n",
    "- A variável v2 é criada em main.\n",
    "\n",
    "- Ao sair do bloco main, v1 e v2 são destruídas."
   ]
  },
  {
   "cell_type": "code",
   "execution_count": 4,
   "metadata": {},
   "outputs": [],
   "source": [
    "int main()\n",
    "{\n",
    "    // declaração de variáveis locais a função main\n",
    "    int v1, v2;\n",
    "    return 0;\n",
    "}"
   ]
  },
  {
   "cell_type": "markdown",
   "metadata": {},
   "source": [
    "## O operador atribuição (=)\n",
    "- O operador de atribuição (=) tem o propósito de atribuir valores a variáveis. \n",
    "- O operador atribuição é aplicado com a seguinte notação:\n",
    "    nome_da_variavel = expressao;\n",
    "- O operador de atribuição é utilizado para inicializar variáveis e/ou modificá-las.\n",
    "\n",
    "Exemplos:"
   ]
  },
  {
   "cell_type": "code",
   "execution_count": 5,
   "metadata": {},
   "outputs": [],
   "source": [
    "int v1 = 100;     // A variável v1 é inicializada com valor 100\n",
    "v1= 200;          // O valor 200 é atribuído à variável v1.\n",
    "v1 = v1 + 1;      // v1 recebe o seu valor antigo somado 1 .\n"
   ]
  },
  {
   "cell_type": "markdown",
   "metadata": {},
   "source": [
    "## Modificadores de tipo de acesso\n",
    "- A linguagem C possui dois modificadores (ou quantificadores) de tipo de acesso a variáveis: **const** e **volatile**.\n",
    "\n",
    "- O quantificador **const** informa que uma variável não pode ser modificada em seu bloco na execução de um programa. Mas essa variável pode receber um valor inicial."
   ]
  },
  {
   "cell_type": "code",
   "execution_count": 6,
   "metadata": {},
   "outputs": [],
   "source": [
    "const int a=10; "
   ]
  },
  {
   "cell_type": "markdown",
   "metadata": {},
   "source": [
    "- A variável **a** declarada e iniciada com valor 10 não poderá mais ser modificada no programa. Logo, o programa a seguir acusará um erro:"
   ]
  },
  {
   "cell_type": "code",
   "execution_count": 7,
   "metadata": {},
   "outputs": [
    {
     "name": "stderr",
     "output_type": "stream",
     "text": [
      "\u001b[1minput_line_13:2:4: \u001b[0m\u001b[0;1;31merror: \u001b[0m\u001b[1mcannot assign to variable 'a' with const-qualified type 'const int'\u001b[0m\n",
      " a = 20; // ERRO!!!\n",
      "\u001b[0;1;32m ~ ^\n",
      "\u001b[0m\u001b[1minput_line_12:2:12: \u001b[0m\u001b[0;1;30mnote: \u001b[0mvariable 'a' declared const here\u001b[0m\n",
      " const int a=10; \n",
      "\u001b[0;1;32m ~~~~~~~~~~^~~~\n",
      "\u001b[0m"
     ]
    }
   ],
   "source": [
    "a = 20; // ERRO!!!"
   ]
  },
  {
   "cell_type": "markdown",
   "metadata": {},
   "source": [
    "- O modificador **volatile** informa ao programa que uma variável pode ser acessada e/ou modificada externamente ao programa. \n",
    "\n",
    "- Por exemplo, uma variável pode ser acessada por uma rotina do sistema operacional sem ter sido feito qualquer modificação nessa variável dentro de um programa.\n"
   ]
  },
  {
   "cell_type": "code",
   "execution_count": 8,
   "metadata": {},
   "outputs": [],
   "source": [
    "volatile int k=12; \n",
    "const volatile int b=10;"
   ]
  },
  {
   "cell_type": "markdown",
   "metadata": {},
   "source": [
    "## Operadores ++ e --\n",
    "O operador de incremento ++ soma 1 ao seu operando.\n",
    "\n",
    "++x é equivalente a x=x+1\n",
    "\n",
    "--x é equivalente a x=x-1"
   ]
  },
  {
   "cell_type": "code",
   "execution_count": 9,
   "metadata": {},
   "outputs": [],
   "source": [
    "int x, y;\n",
    "\n",
    "x = 10;\n",
    "y = ++x; // y receberá o valor 11\n",
    "\n",
    "x = 10;\n",
    "y = x++; // y receberá o valor 10."
   ]
  },
  {
   "cell_type": "markdown",
   "metadata": {},
   "source": [
    "Em ambos os casos x recebe 11.\n",
    "\n",
    "## Boas práticas de programação\n",
    "- Declare variáveis com letras minúsculas e constantes com letras maiúsculas.\n",
    "- Coloque comentários no código\n",
    "- Sempre coloque uma mensagem antes da entrada de dados.\n",
    "- Armazene resultados de fórmulas em variáveis\n",
    "- Use constantes para valores fixos usados que se repetem em um programa\n",
    "\n",
    "## Exercícios resolvidos\n",
    "\n",
    "Quais os valores de X, Y, Z no fim do processamento a seguir?"
   ]
  },
  {
   "cell_type": "code",
   "execution_count": 10,
   "metadata": {},
   "outputs": [],
   "source": [
    "int X, Y, Z;\n",
    "X = 3;\n",
    "Y = ++X + 1;\n",
    "Z = X++; \n",
    "Y++;\n",
    "Z--;"
   ]
  },
  {
   "cell_type": "code",
   "execution_count": 11,
   "metadata": {},
   "outputs": [
    {
     "name": "stdout",
     "output_type": "stream",
     "text": [
      "563"
     ]
    }
   ],
   "source": [
    "#include<iostream>\n",
    "\n",
    "std::cout << X << Y << Z;"
   ]
  },
  {
   "cell_type": "markdown",
   "metadata": {},
   "source": [
    "Escreva um programa C/C++ para calcular a média entre três números."
   ]
  },
  {
   "cell_type": "code",
   "execution_count": 12,
   "metadata": {},
   "outputs": [
    {
     "name": "stdout",
     "output_type": "stream",
     "text": [
      "Média : 27.6667"
     ]
    }
   ],
   "source": [
    "float n1, n2, n3, media;\n",
    "// Primeiro número:\n",
    "n1 = 20;\n",
    "    \n",
    "// Segundo número:\n",
    "n2 = 30;\n",
    "\n",
    "// Terceiro número:\n",
    "n3 = 33;\n",
    "\n",
    "media = (n1 + n2 + n3)/3;\n",
    "std::cout << \"Média : \" << media;"
   ]
  },
  {
   "cell_type": "markdown",
   "metadata": {},
   "source": [
    "## Exercícios propostos\n",
    "\n",
    "- Criar um algoritmo que imprima :\n",
    "    - seu nome.\n",
    "    - o produto entre 28 e 43.\n",
    "    - a média aritmética entre os números 8, 9 e 7.\n",
    "- Criar um algoritmo que dado um número inteiro, imprima seu sucessor e seu antecessor.\n",
    "- Criar um algoritmo que dado dois números inteiros, imprima o primeiro como dividendo, o segundo como divisor, e o quociente e o resto da operação."
   ]
  },
  {
   "cell_type": "code",
   "execution_count": null,
   "metadata": {},
   "outputs": [],
   "source": []
  }
 ],
 "metadata": {
  "kernelspec": {
   "display_name": "xeus C++14",
   "language": "",
   "name": "xeus-cling-cpp14"
  },
  "language_info": {
   "codemirror_mode": "text/x-c++src",
   "file_extension": ".cpp",
   "mimetype": "text/x-c++src",
   "name": "c++",
   "version": ""
  }
 },
 "nbformat": 4,
 "nbformat_minor": 2
}
