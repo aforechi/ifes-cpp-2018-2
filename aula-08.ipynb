{
 "cells": [
  {
   "cell_type": "markdown",
   "metadata": {},
   "source": [
    "# Aula 8: Modularização de programas com funções\n",
    "\n",
    "O conceito de função em termos computacionais está intimamente ligado ao conceito de função (ou fórmula) matemática, onde um conjunto deva- riáveis e constantes numéricas relaciona-se por meio de operadores, compondo uma fórmula que, uma vez avaliada, resulta num valor. As expressões se dividem em:\n",
    "\n",
    "## Funções Numéricas\n",
    "\n",
    "Funções numéricas são aquelas cujo resultado da avaliação é do tipo numérico, seja ele inteiro ou real. Somente podem ser efetuadas entre números propriamente apresentados ou variáveis numéricas.\n",
    "Como exemplos de funções numéricas temos:\n",
    "- sin(x) Função que resulta no valor do seno de um ângulo qualquer em radianos.\n",
    "- cos(x) Função que resulta no valor do co-seno de um de um ângulo qual- quer em radianos.\n",
    "- tan(x) Função que resulta no valor da tangente de um ângulo qualquer em radianos.\n",
    "- exp(x) Função que resulta no valor do número e (base do logaritmo neperiano) elevado a um número qualquer.\n",
    "- log(x) Função que resulta no valor do logaritmo neperiano de um número qualquer.\n",
    "- sqrt(x) Função que resulta no valor da raiz quadrada de um número positivo.\n",
    "- abs(x) Função que resulta no valor absoluto de um número qualquer.\n",
    "\n",
    "**Observação:** Antes de aplicar as funções trigonométricas, deve-se transformar o Ângulo em Graus para Ângulo em Radianos com a seguinte fórmula matemática: $x = ang * \\pi / 180$. E logo depois se pode aplicar a função.\n"
   ]
  },
  {
   "cell_type": "code",
   "execution_count": null,
   "metadata": {},
   "outputs": [],
   "source": [
    "#include<iostream>\n",
    "\n",
    "std::cout << \"seno de 30º: \" << sin(M_PI/6.0) << std::endl; \n",
    "std::cout << \"cosseno de 30º: \" << cos(M_PI/6.0) << \" \" << sqrt(3.0)/2.0 << std::endl; \n",
    "std::cout << \"tangente de 30º: \" << tan(M_PI/6.0) << \" \" << sqrt(3.0)/3.0 << std::endl; "
   ]
  },
  {
   "cell_type": "markdown",
   "metadata": {},
   "source": [
    "\n",
    "## Funções de Conversão de Tipos\n",
    "- (int)(número real) Função que converte um número real em inteiro.\n",
    "- (float)(número inteiro) Função que converte um número inteiro em real."
   ]
  },
  {
   "cell_type": "code",
   "execution_count": null,
   "metadata": {},
   "outputs": [],
   "source": [
    "std::cout << (int)(1.5) << std::endl;\n",
    "std::cout << (float)1/5 << std::endl;"
   ]
  },
  {
   "cell_type": "markdown",
   "metadata": {},
   "source": [
    "## Escopo de variáveis\n",
    "Como vimos em nossos exemplos, um programa é composto de blocos que estão sempre entre chaves { e }.\n",
    "\n",
    "- **Escopo de bloco:** Uma variável tem escopo de bloco quando a declaramos em um bloco. Neste caso, ela pode ser apenas utilizada neste bloco e nos blocos mais internos a este bloco. O escopo de bloco começa na declaração da variável e termina na chave que fecha o bloco. \n",
    "- **Escopo de arquivo:** Uma variável tem escopo de arquivo quando seu identificador é declarado fora de qualquer função ou classe. Esta é uma variável global e é conhecida em qualquer ponto do programa.\n",
    "\n",
    "Em variáveis com escopo de blocos, quando há um bloco aninhado mais interno e os dois blocos contém uma variável com o mesmo identificador, a variável do bloco mais externo fica oculta até que o bloco interno termine."
   ]
  },
  {
   "cell_type": "code",
   "execution_count": null,
   "metadata": {},
   "outputs": [],
   "source": [
    "#include <iostream>\n",
    "using namespace std;\n",
    "\n",
    "int x; x=5;\n",
    "cout << \"x␣externo␣=␣\" << x << endl; \n",
    "for (int i = 0; i < 1; i++){\n",
    "    int x; x = 7;\n",
    "    cout << \"x␣interno␣=␣\" << x << endl; \n",
    "    cout << \"i␣interno␣=␣\" << i << endl;\n",
    "}\n",
    "cout << \"x␣externo␣=␣\" << x << endl;\n"
   ]
  },
  {
   "cell_type": "markdown",
   "metadata": {},
   "source": [
    "Se tentássemos inserir uma linha de código que imprime o valor de i, no final do programa, teríamos um erro pois não existe a variável i neste ponto do código.\n",
    "\n",
    "## Funções\n",
    "\n",
    "Um **programa** principal sem **subprogramas** é comparável a alguém que comanda sozinho uma empresa gerenciando todas as tarefas. Quando, porém, a empresa cresce, funcionários são necessários.\n",
    "\n",
    "**Subprogramas** são comparáveis a funcionários que têm uma tarefa definida que deve ser realizada sempre que for chamada.\n",
    "\n",
    "**Funções** são comparáveis a funcionários que têm uma tarefa definida, que deve ser realizada sempre que chamada, e devem sempre dar um retorno como resultado do trabalho realizado.\n",
    "\n",
    "    Uma função é um subprograma que realiza uma tarefa e dá um retorno.\n",
    "    \n",
    "Um subprograma é um trecho de um programa que realiza qualquer operação computacional. Ele efetua parte de uma tarefa que um algoritmo maior deveria executar, ou seja, ele é uma parte do programa, especializado em alguma funcionalidade.\n",
    "\n",
    "Em programação, quando um programa ou subprograma solicita serviços de um outro subprograma dizemos que foi feita uma chamada ao subprograma. Durante a execução de um programa, podem ser feitas diversas chamadas a um mesmo subprograma.\n",
    "\n",
    "Partes de um subprograma (Função):\n",
    "- Cabeçalho – Definição da função: nome, nomes e tipos das entradas, tipo de retorno (saída)\n",
    "- Dicionário de dados – variáveis internas da função \n",
    "- Corpo - comandos\n",
    "- Comentário – Explicação da função\n",
    "\n",
    "![figura](img/Picture12.png)\n",
    "![figura](img/Picture13.png)\n",
    "\n",
    "\n",
    "\n",
    "## Uma função é um conjunto de instruções que recebe alguns valores como dados de entrada e, a partir deles, produz um valor como saída.\n",
    "\n",
    "![figura](img/Picture14.png)\n",
    "\n",
    "\n",
    "**Forma geral de uma função:**\n",
    "<br>tipo nome_da_função(parâmetros)\n",
    "<br>{\n",
    "<br>\tcorpo\n",
    "<br>\treturn valor;\n",
    "<br>}\n",
    "\n",
    "- **Função sem parâmetros:** Uma função é um conjunto de instruções que realiza uma tarefa e gera uma saída, recebendo entradas ou não.\n",
    "- **Função sem retorno:** Se o tipo da função é definido como **void**, não é necessário o **return** visto que a função não devolve um valor.\n",
    "\n",
    "Exemplo: Calcule a média entre dois números inteiros."
   ]
  },
  {
   "cell_type": "code",
   "execution_count": null,
   "metadata": {},
   "outputs": [],
   "source": [
    "/* Esta função recebe dois números e retorna a média entre eles */\n",
    "float calculamedia(float valor1, float valor2)\n",
    "{ \n",
    "    float media; /* Esta é uma variável local */\n",
    "    media = (valor1 + valor2)/2.0;\n",
    "    return(media);\n",
    "}"
   ]
  },
  {
   "cell_type": "code",
   "execution_count": null,
   "metadata": {},
   "outputs": [],
   "source": [
    "float media; /* Esta é uma variável global */\n",
    "\n",
    "media = calculamedia(10.0, 50.0); //Uma função só executa a tarefa quando for chamada!\n",
    "\n",
    "std::cout << \"Média: \" << media;"
   ]
  },
  {
   "cell_type": "markdown",
   "metadata": {},
   "source": [
    "**Passagem de parâmetros:**\n",
    "- A passagem de parâmetros é a comunicação entre uma função e aquela que a chama. Essa comunicação consiste na **transferência de valores** ou **endereços de variáveis** de uma função para outra.\n",
    "- Quando a função chamada recebe **cópias dos valores** das variáveis da função que a chama, a passagem de parâmetros é **por valor**.\n",
    "- Quando a função chamada recebe **cópias dos endereços** das variáveis da função que a chama, a passagem de parâmetros é **por referência**.\n",
    "    - Nesse caso, a função chamada tem a capacidade de alterar as variáveis passadas pela função que a chama.\n"
   ]
  },
  {
   "cell_type": "code",
   "execution_count": null,
   "metadata": {},
   "outputs": [],
   "source": [
    "/* \n",
    " * Exemplo de passagem de parâmetros por valor para função calculamedia\n",
    " * Passagem por valor: var1 é copiada em valor1 e var2 é copiada em valor2.\n",
    " */\n",
    "void f1(void)\n",
    "{\n",
    "    float var1=3.0, var2=4.0;\n",
    "    float media = calculamedia(var1, var2);\n",
    "    if (var1 > media)\n",
    "        std::cout << \"var1 > media\\n\";\n",
    "    else if (var2 > media)\n",
    "        std::cout << \"var2 > media\\n\";\n",
    "}"
   ]
  },
  {
   "cell_type": "code",
   "execution_count": null,
   "metadata": {},
   "outputs": [],
   "source": [
    "f1(); // Executa função!"
   ]
  },
  {
   "cell_type": "code",
   "execution_count": null,
   "metadata": {},
   "outputs": [],
   "source": [
    "/* Esta função recebe duas variáveis e soma a média deles */\n",
    "void somamedia(float &valor1, float &valor2)\n",
    "{ \n",
    "    float media; /* Esta é uma variável local */\n",
    "    media = (valor1 + valor2)/2.0;\n",
    "    valor1 += media;\n",
    "    valor2 += media;\n",
    "    return;\n",
    "}"
   ]
  },
  {
   "cell_type": "code",
   "execution_count": null,
   "metadata": {},
   "outputs": [],
   "source": [
    "/*\n",
    " * Exemplo de passagem de parâmetros por referência para função somamedia\n",
    " * Passagem por referência: var1 e valor1 têm o mesmo endereço, mas f2 enxerga var1 e somamedia enxerga valor1. \n",
    " * Da mesma forma, f2 enxerga var2 e somamedia enxerga valor2.\n",
    " */\n",
    "void f2(void) \n",
    "{\n",
    "    float var1=3.0, var2=4.0; \n",
    "    somamedia(var1, var2);\n",
    "    std::cout << var1 << \" \" << var2;\n",
    "}"
   ]
  },
  {
   "cell_type": "code",
   "execution_count": null,
   "metadata": {},
   "outputs": [],
   "source": [
    "f2(); // Executa função!"
   ]
  },
  {
   "cell_type": "markdown",
   "metadata": {},
   "source": [
    "Exemplo: Crie e chame uma função que calcule a média de gols de um time no brasileirão ($media = \\frac{numerodegols}{ numerodepartidas}$). As variáveis $numerodegols$ e $numerodepartidas$ devem ser passadas por valor. Mas a variável $media$ deve ser passada por referência."
   ]
  },
  {
   "cell_type": "code",
   "execution_count": null,
   "metadata": {},
   "outputs": [],
   "source": [
    "// Corrija a expressão de divisão na função abaixo usando a conversão de tipos (float)\n",
    "void calculasaldo(int numerodegols, int numerodepartidas, float &media)\n",
    "{ \n",
    "    if (numerodepartidas>0)\n",
    "        media = numerodegols/numerodepartidas; \n",
    "    else\n",
    "        media = 0.0; \n",
    "}"
   ]
  },
  {
   "cell_type": "code",
   "execution_count": null,
   "metadata": {},
   "outputs": [],
   "source": [
    "// Chame a função calculasaldo aqui e imprima o saldo de gols do seu time no Brasileirão!"
   ]
  },
  {
   "cell_type": "markdown",
   "metadata": {},
   "source": [
    "## Funções anônimas (lambdas)\n",
    "\n",
    "Funções lambda são elementos matemáticos teóricos que surgiram com a noção de cálculo lambda. \n",
    "\n",
    "Este modelo sugeria que qualquer coisa pode ser calculada a partir da definição de funções, utilizando as chamadas expressões lambda. \n",
    "\n",
    "Tais funções não precisam sequer ter nome, e podem conter chamadas a si próprias em sua definição, no processo determinado como recursão.\n",
    "\n",
    "Este modelo formal é a base das chamadas linguagens funcionais, que utilizam funções declaradas através de expressões lambda para realizar todo trabalho computacional do problema que o programador quer modelar. \n",
    "\n",
    "Apesar de serem muito populares entre matemáticos e físicos, linguagens funcionais nunca \"emplacaram\" fora do ambiente acadêmico. Talvez em muito porque os programadores são expostos tarde demais a elas. \n",
    "\n",
    "Como eles já tem o vício de pensar e modelar seus programas em termos de linguagens estruturadas, ou orientadas a objetos, voltar ao básico e reaprender a pensar de forma funcional torna a curva de aprendizado destas linguagens bem maior.\n",
    "\n",
    "Sintaxe:\n",
    "\n",
    "\\[\\](tipos_de_parâmetros) *mutable* -> tipo_de_retorno {bloco-de-código}(parâmetros)\n"
   ]
  },
  {
   "cell_type": "code",
   "execution_count": null,
   "metadata": {},
   "outputs": [],
   "source": [
    "// Exemplo 1:\n",
    "int resultado1 = [](int a, int b) -> int { return a + b; }(2, 4); \n",
    "std::cout << resultado1 << std::endl;\n",
    "\n",
    "// Exemplo 2:\n",
    "auto resultado2 = [](int a, int b) -> int { return a + b; }; \n",
    "std::cout << resultado2(2, 3) << std::endl;"
   ]
  },
  {
   "cell_type": "markdown",
   "metadata": {},
   "source": [
    "Com exceção da instrução de captura e do bloco de código que define a função, todo o resto é opcional, inclusive o tipo de retorno. \n",
    "\n",
    "Se sua lambda não vai tomar nenhum argumento, tanto a lista de tipo de parâmetros quanto os parênteses que a envolvem podem ser omitidos da expressão. \n",
    "\n",
    "Se ela não irá modificar nenhum elemento em escopo externo, a palavra-chave *mutable* pode ser omitida. \n",
    "\n",
    "O tipo de retorno é completamente opcional, e, se for omitido, o compilador irá inferi-lo automaticamente."
   ]
  },
  {
   "cell_type": "code",
   "execution_count": null,
   "metadata": {},
   "outputs": [],
   "source": []
  },
  {
   "cell_type": "markdown",
   "metadata": {},
   "source": [
    "## Recursão\n",
    "\n",
    "Normalmente, organizamos um programa de maneira hierárquica, onde algumas funções chamam outras. Já uma função recursiva, é uma função que direta ou indiretamente chama a si mesma. \n",
    "\n",
    "    Recursão é a chamada de uma função a si mesma.\n",
    "\n",
    "lista := lista_vazia => (base da recursão)\n",
    "<br>lista := elemento + lista => (relação recursiva)\n",
    "\n",
    "![figura](img/Picture15.png)\n",
    "\n",
    "Uma função é recursiva se há uma chamada a ela mesma em seu corpo. \n",
    "\n",
    "Exemplo: Calcule o fatorial de um número: $N! := N \\times (N-1) \\times (N-2) ... 2 \\times 1$\n",
    "\n",
    "fatorial(0) := 1 => (base da recursão)\n",
    "<br>fatorial(N) := N * fatorial(N-1) => (relação recursiva)"
   ]
  },
  {
   "cell_type": "code",
   "execution_count": null,
   "metadata": {},
   "outputs": [],
   "source": [
    "int fatorial(int n)\n",
    "{\n",
    "    if (n == 0)\n",
    "        return 1;\n",
    "    else\n",
    "        return n * fatorial(n-1);\n",
    "}"
   ]
  },
  {
   "cell_type": "code",
   "execution_count": null,
   "metadata": {},
   "outputs": [],
   "source": [
    "int fatorial2(int n)\n",
    "{\n",
    "    int f=1;\n",
    "    for(int i=2; i <= n; i++)\n",
    "        f = f * i;\n",
    "    return f;\n",
    "}"
   ]
  },
  {
   "cell_type": "markdown",
   "metadata": {},
   "source": [
    "Recursão é uma solução elegante, porém, menos eficiente que a solução iterativa. Execute as funções fatorial e fatorial2 com valores de **N** cada vez maiores e observe quanto tempo cada função demora para calcular o resultado.\n",
    "\n",
    "Em algumas implementações, é mais vantajoso aplicar soluções recursivas pela clareza da implementação.\n",
    "\n",
    "![figura](img/Picture16.png)"
   ]
  },
  {
   "cell_type": "markdown",
   "metadata": {},
   "source": [
    "Exemplo: Faça uma função recursiva que calcule o MDC entre dois números inteiros passados como parâmetro:\n",
    "- Se dois números forem múltiplos de um terceiro, então a sua diferença também é: MDC(15,30)=15 é (30-15)=15\n",
    "- Permite substituir o maior deles pela diferença dos dois, até que os dois números sejam iguais.\n",
    "- Qual é o MDC de dois números iguais?"
   ]
  },
  {
   "cell_type": "code",
   "execution_count": 2,
   "metadata": {},
   "outputs": [],
   "source": [
    "int mdc(int a, int b)\n",
    "{\n",
    "    if (a == b)\n",
    "        return a;\n",
    "    \n",
    "    if (a > b)\n",
    "        return mdc(a-b, b);\n",
    "    else\n",
    "        return mdc(a, b-a);\n",
    "}"
   ]
  },
  {
   "cell_type": "code",
   "execution_count": 3,
   "metadata": {},
   "outputs": [
    {
     "name": "stdout",
     "output_type": "stream",
     "text": [
      "10"
     ]
    }
   ],
   "source": [
    "#include<iostream>\n",
    "int a{10}, b{20};\n",
    "std::cout << mdc(a, b);"
   ]
  },
  {
   "cell_type": "code",
   "execution_count": null,
   "metadata": {},
   "outputs": [],
   "source": [
    "# versão não recursiva\n",
    "while (a != b){\n",
    "    if (a > b)\n",
    "        a -= b;\n",
    "    else\n",
    "        b -= a;\n",
    "}\n",
    "std::cout << a;"
   ]
  },
  {
   "cell_type": "code",
   "execution_count": 4,
   "metadata": {},
   "outputs": [
    {
     "name": "stdout",
     "output_type": "stream",
     "text": [
      "10"
     ]
    }
   ],
   "source": [
    "# versão lambda recursiva\n",
    "std::function<int(int, int) > gcd;\n",
    "gcd = [&](int a, int b){\n",
    "    return b == 0 ? a : gcd(b, a%b);\n",
    "};\n",
    "std::cout << gcd(a, b);"
   ]
  },
  {
   "cell_type": "markdown",
   "metadata": {},
   "source": [
    "## Boas práticas de programação\n",
    "\n",
    "- Organize todo o código em funções. Deixe na função main apenas as chamadas às funções.\n",
    "- Para cada tarefa defina uma função. Não sobrecarregue uma função com duas ou mais tarefas.\n",
    "- Cultive o hábito de comentar o código, em especial o cabeçalho das funções para que possam ser facilmente reutilizadas.\n",
    "- Soluções recursivas são elegantes, mas deixam um programa mais lento quando há muitas chamadas de funções."
   ]
  },
  {
   "cell_type": "markdown",
   "metadata": {},
   "source": [
    "## Exercícios propostos\n",
    "\n",
    "1. Implemente uma função chamada maxmin que atualize utilizando passagem de parâmetros por referência o mínimo e o máximo entre três números.\n",
    "2. Implemente uma função recursiva para imprimir os $N$ degraus de uma escada. Imprima os degraus antes e depois da chamada recursiva e observe a diferença.\n",
    "3. Implemente a versão iterativa da função fatorial2 com i sendo inicializado com n.\n",
    "4. Implemente uma função iterativa para calcular o cubo de um número real passado como parâmetro (por valor).\n",
    "5. Implemente uma função iterativa para calcular a potência inteira n de um numero real x.\n",
    "6. Refaça esta funcao em uma função potencia2 de modo que ela seja recursiva, ou seja, a função fará uso de si mesma. Ex: $x^0 = 1, x^1 = x\\times x^0, x^2 = x\\times x^1, x^3 = x^2\\times x, ..., x^n = x^{(n−1)} \\times x$"
   ]
  },
  {
   "cell_type": "code",
   "execution_count": null,
   "metadata": {},
   "outputs": [],
   "source": []
  }
 ],
 "metadata": {
  "kernelspec": {
   "display_name": "C++14",
   "language": "C++14",
   "name": "xeus-cling-cpp14"
  },
  "language_info": {
   "codemirror_mode": "text/x-c++src",
   "file_extension": ".cpp",
   "mimetype": "text/x-c++src",
   "name": "c++",
   "version": "14"
  }
 },
 "nbformat": 4,
 "nbformat_minor": 2
}
