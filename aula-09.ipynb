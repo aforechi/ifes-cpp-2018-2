{
 "cells": [
  {
   "cell_type": "markdown",
   "metadata": {},
   "source": [
    "# Aula 09: Vetores, Strings e Matrizes\n",
    "\n",
    "## Revisão\n",
    "\n",
    "- Variáveis\n",
    "    - Declaração, definição, escopo\n",
    "- Constantes\n",
    "- Tipos de Dados\n",
    "    - Tipos simples\n",
    "        - Inteiro, Real e Caracter\n",
    "    - Tipo Composto Heterogêneo \n",
    "        - Tipo Abstrato de Dados\n",
    "- Funções\n",
    "    - Declaração, definição, parâmetros, tipo/retorno, chamada\n",
    "\n",
    "## Nesta aula\n",
    "\n",
    "- Vetores\n",
    "- Strings\n",
    "- Matrizes\n",
    "\n",
    "## Vetores em C\n",
    "\n",
    "Um vetor (ou matriz unidimensional) é uma variável que armazena seqüencialmente várias informações do mesmo tipo. \n",
    "\n",
    "Assim como uma variável, deve ter identificador e tipo. \n",
    "\n",
    "Como armazena vários valores, um vetor deve ter tamanho, isto é, o número de posições.\n",
    "\n",
    "![](img/Picture18.png)\n",
    "\n",
    "Sintaxe para declarar vetores:\n",
    "\n",
    "    tipo nomevetor[tamanho]\n",
    "\n",
    "Exemplos:\n",
    "\n",
    "int numeros[5];\n",
    "![](img/Picture19.png)\n",
    "\n",
    "char palavra[5];\n",
    "![](img/Picture20.png)\n",
    "\n",
    "O tamanho de um vetor deve sempre ser maior ou igual à quantidade de valores que ele armazena. Caso contrário, haverá erro de **falha de segmentação**.\n",
    "\n",
    "### Acesso/Atribuição estática e dinâmica\n",
    "\n",
    "Como armazenar valores em vetores \n",
    "\n",
    "nomevetor[posicao] = valor;\n",
    "\n",
    "Exemplo:"
   ]
  },
  {
   "cell_type": "code",
   "execution_count": null,
   "metadata": {},
   "outputs": [],
   "source": [
    "float notas[3] = {4.6, 7.8, 9.3};\n",
    "\n",
    "int vet[99], i;\n",
    "\n",
    "for (i=0; i<99; i++)\n",
    "    vet[i] = i+1;\n"
   ]
  },
  {
   "cell_type": "code",
   "execution_count": null,
   "metadata": {},
   "outputs": [],
   "source": [
    "vet"
   ]
  },
  {
   "cell_type": "markdown",
   "metadata": {},
   "source": [
    "Exemplo: Armazene o valor 0 na posição 0 e qualquer valor nas demais posições de um vetor. Ao final, escolha uma posição e mostre o que está nessa posição no vetor. Se a posição não existir, mostre “Posição inválida”."
   ]
  },
  {
   "cell_type": "code",
   "execution_count": null,
   "metadata": {},
   "outputs": [],
   "source": [
    "#include<iostream>\n",
    "#include<cstdlib>\n",
    "#include<time.h>\n",
    "\n",
    "srand( (unsigned) time(NULL) );\n",
    "\n",
    "int posicao;\n",
    "int vetint[5];\n",
    "\n",
    "vetint[0] = 0;\n",
    "\n",
    "for (int i=1;i<5;i++)\n",
    "{\n",
    "    vetint[i] = rand() % 1000;\n",
    "}"
   ]
  },
  {
   "cell_type": "code",
   "execution_count": null,
   "metadata": {},
   "outputs": [],
   "source": [
    "std::cout << \"Sorteie uma posição de 0 a 4: \";\n",
    "posicao = 3;\n",
    "\n",
    "if (posicao>=0 && posicao<5)\n",
    "{\n",
    "    std::cout << \"A posição \" << posicao << \" contém o valor \" << vetint[posicao];\n",
    "}"
   ]
  },
  {
   "cell_type": "code",
   "execution_count": null,
   "metadata": {},
   "outputs": [],
   "source": [
    "vetint"
   ]
  },
  {
   "cell_type": "markdown",
   "metadata": {},
   "source": [
    "### Usado como parâmetro de função:\n"
   ]
  },
  {
   "cell_type": "code",
   "execution_count": null,
   "metadata": {},
   "outputs": [],
   "source": [
    "float calcMedia(float vetNotas[3]) {\n",
    "    float soma = 0;\n",
    "    for (int i=0; i < 3; i++)\n",
    "        soma += vetNotas[i];\n",
    "    return soma/3.0;\n",
    "}"
   ]
  },
  {
   "cell_type": "markdown",
   "metadata": {},
   "source": [
    "## Vetores em C++ (std::vector)\n",
    "\n",
    "- Biblioteca: \n",
    "\n",
    "        #include<vector>\n",
    "\n",
    "- Sintaxe:\n",
    "\n",
    "        std::vector<tipo> nome(tamanho);\n",
    "\n",
    "- Funções principais:\n",
    "    - size() : retorna o tamanho ocupado do vetor\n",
    "    - reserve(n) : reserva espaço para n itens do tipo do vetor, mas não inicializa os itens como é feito no construtor\n",
    "    - capacity() : retorna o tamanho reservado para o vetor na memória \n",
    "    - resize(n) : redimensiona o tamanho ocupado do vetor de acordo com n \n",
    "    - push_back(item) : adiciona um novo item ao final de todos"
   ]
  },
  {
   "cell_type": "code",
   "execution_count": null,
   "metadata": {},
   "outputs": [],
   "source": [
    "#include<vector>\n",
    "\n",
    "// Exemplos:\n",
    "std::vector<int> v1 (20); // 20 elementos, cada um inicializado com 0 \n",
    "std::vector<int> v2 {1,2,3,4,5}; // 5 elementos: 1,2,3,4,5\n",
    "std::vector<int> v3 {20}; // v1 é diferente de v3.\n",
    "\n",
    "// Atenção para não confundir inicialização {} com alocação ()\n",
    "\n",
    "std::vector<int> array; // cria um vetor vazio\n",
    "array.reserve(3);       // reserva espaço para 3 inteiros\n",
    "                        // nesse instante, capacity() é 3\n",
    "                        // e size() é igual a 0\n",
    "array.push_back(999);   // adiciona um elemento\n",
    "array.resize(5);        // redimensiona o vetor\n",
    "                        // nesse instante, o vetor contem\n",
    "                        // 999, 0, 0, 0, 0\n",
    "array.push_back(333);   // adiciona outro elemento no vetor\n",
    "                        // nesse instante, o vetor contem\n",
    "                        // 999, 0, 0, 0, 0, 333\n",
    "array.reserve(1);       // não altera nada, pois capacity() > 1\n",
    "array.resize(3);        // redimensiona o vetor\n",
    "                        // nesse instante, o vetor contem\n",
    "                        // 999, 0, 0\n",
    "                        // capacity() continua igual a 6\n",
    "                        // size() é igual a 3\n",
    "array.resize(6, 1);     // redimensiona novamente, preenchendo com 1‘s \n",
    "                        // ao final, o vetor conterá\n",
    "                        // 999, 0, 0, 1, 1, 1"
   ]
  },
  {
   "cell_type": "markdown",
   "metadata": {},
   "source": [
    "## Exercício\n",
    "\n",
    "- Faça um programa que sorteie 10 números inteiros e guarde-os em um vetor. Depois percorra o vetor para descobrir qual o maior número sorteado.\n",
    "- Faça um programa que leia um valor n do teclado, e em seguida leia n números inteiros, e guarde-os em um vetor. Depois percorra o vetor para descobrir qual o maior número digitado."
   ]
  },
  {
   "cell_type": "code",
   "execution_count": null,
   "metadata": {},
   "outputs": [],
   "source": [
    "#include<vector>\n",
    "\n",
    "std::vector<int> v1 (10);\n",
    "\n",
    "for(int i=0; i < 10; i++)\n",
    "    v1[i] = rand() % 100;"
   ]
  },
  {
   "cell_type": "code",
   "execution_count": null,
   "metadata": {},
   "outputs": [],
   "source": [
    "v1"
   ]
  },
  {
   "cell_type": "code",
   "execution_count": null,
   "metadata": {},
   "outputs": [],
   "source": [
    "int maior = v1[0];\n",
    "\n",
    "for(int i=1; i<10; i++)\n",
    "    if (v1[i] > maior)\n",
    "        maior = v1[i];"
   ]
  },
  {
   "cell_type": "code",
   "execution_count": null,
   "metadata": {},
   "outputs": [],
   "source": [
    "maior"
   ]
  },
  {
   "cell_type": "markdown",
   "metadata": {},
   "source": [
    "## Strings em C\n",
    "\n",
    "Strings são vetores de chars. É um vetor de caracteres encerrado por um caracter especial nulo => ‘\\0’.\n",
    "\n",
    "São declaradas da seguinte forma:\n",
    "\n",
    "**char** nomestring [tamanho];\n",
    "\n",
    "Exemplo:"
   ]
  },
  {
   "cell_type": "code",
   "execution_count": null,
   "metadata": {},
   "outputs": [],
   "source": [
    "#include<iostream>\n",
    "\n",
    "char nome[6] = \"vetor\";\n",
    "std::cout << nome;"
   ]
  },
  {
   "cell_type": "code",
   "execution_count": null,
   "metadata": {},
   "outputs": [],
   "source": [
    "vetint"
   ]
  },
  {
   "cell_type": "markdown",
   "metadata": {},
   "source": [
    "![figura](img/Picture21.png)\n",
    "\n",
    "## Principais funções para manipular strings em C\n",
    "\n",
    "strcpy(s1,s2) – copia s2 em s1\n",
    "\n",
    "strcat(s1,s2) – concatena s2 no final de s1\n",
    "\n",
    "strlen(s1) – retorna o tamanho de s1\n",
    "\n",
    "strcmp(s1,s2) – retorna :\n",
    "- 0 se s1 e s2 são iguais; \n",
    "- menor que 0 se s1<s2 e \n",
    "- maior que zero, se s1>s2.\n",
    "\n",
    "Para manipular strings (armazenar, copiar, concatenar, etc.) utilizamos as funções da biblioteca padrão < string >."
   ]
  },
  {
   "cell_type": "code",
   "execution_count": null,
   "metadata": {},
   "outputs": [],
   "source": [
    "#include<iostream>\n",
    "#include<string>\n",
    "\n",
    "/* Inicializar strings */\n",
    "char s1[80] = \"string pequena\";\n",
    "char s2[80] = \"string um pouco maior\";    \n",
    "\n",
    "/* Calcula comprimentos das strings */\n",
    "std::cout << \"Comprimentos \" << strlen(s1) << \" \" << strlen(s2) << std::endl;\n",
    "\n",
    "/* concatenar s2 em s1 */\n",
    "strcat(s1,s2);\n",
    "std::cout << s1;\n",
    "\n",
    "/* Procurar se a string “casa” ocorre em “minha casa”*/\n",
    "if(strstr(\"Minha casa\", \"casa\"))\n",
    "    std::cout << \"\\nCASA está em MINHA CASA\\n\";\n",
    "\n",
    "if (strcmp(\"casa\", \"CASA\") != 0) \n",
    "    std::cout << \"\\nAs strings são diferentes\\n\";\n"
   ]
  },
  {
   "cell_type": "markdown",
   "metadata": {},
   "source": [
    "## Strings em C++ (std::string)\n",
    "\n",
    "Biblioteca:\n",
    "\n",
    "    #include<string>\n",
    "\n",
    "- s1 = s2 \t\n",
    "    - Atribuir s2 para sl; s2 pode ser uma sequência de caracteres em C ou uma string em C++.\n",
    "- s += x \t\n",
    "    - Adiciona x ao final; x pode ser um caracter, uma string em C++ ou uma cadeia de caracters em C.\n",
    "- s[i] \n",
    "    - Indexação\n",
    "- s1+s2 \t\n",
    "    - Concatenação; os caracteres na string resultante serão uma cópia daqueles de s1 seguidos por uma cópia daqueles de s2. \n",
    "- s1 == s2 \t\n",
    "    - Comparação de valores de string; sl ou s2, mas não ambos, podem ser uma sequência caracteres de estilo C. O mesmo vale para o operador !=\n",
    "- s1 < s2 \n",
    "    - Comparação lexicográfica de valores de string; sl ou s2, mas não ambos, podem ser uma string de estilo C. O mesmo vale para <=, >, and >=. \n",
    "- s.size()\t\n",
    "    - Número de caracteres em s. \n",
    "- s.length()\t\n",
    "    - Número de caracteres em s.\n",
    "- s.c_str\t\n",
    "    - Versão em estilo C dos caracteres em s\n",
    "- s.insert(pos,x) \n",
    "    - Inserir x antes de s[pos]; x pode ser um caractere, uma string ou uma cadeia de caracteres estilo C. s se expande para dar espaço para os charaders de x.\n",
    "- s.append(pos,x) \n",
    "    - Inserir x após s[pos]; x pode ser um caractere, uma string ou uma cadeia de caracteres estilo C. s se expande para dar espaço para os caracteres de x. \n",
    "- s.erase(pos) \t\n",
    "    - Remover o caractere em s[pos]. O tamanho de s diminui em 1.\n",
    "- pos = s.find(x) \n",
    "    - Encontrar x em s; x pode ser um caractere, uma string ou uma cadeia de caracteres estilo C; pos é o índice do primeiro caractere encontrado, ou npos (uma posição além do final de s). \n",
    "- std::cin>>s \t\n",
    "    - Ler de std::cin uma palavra separada por espaço em branco e armazenar em x.\n",
    "- getline(std::cin,s) \n",
    "    - Ler de std::cin uma linha e armazenar em x.\n",
    "- std::cout<<s \n",
    "    - Imprimir o valor de s em std::cout. "
   ]
  },
  {
   "cell_type": "code",
   "execution_count": null,
   "metadata": {},
   "outputs": [],
   "source": [
    "#include<string>\n",
    "#include<iostream>\n",
    "\n",
    "using std::cout;\n",
    "using std::cin;\n",
    "using std::string;\n",
    "\n",
    "string nomeCompleto;\n",
    "\n",
    "cout << \"Informe seu nome completo: \";\n",
    "cin >> nomeCompleto;\n",
    "\n",
    "cout << nomeCompleto;"
   ]
  },
  {
   "cell_type": "code",
   "execution_count": null,
   "metadata": {},
   "outputs": [],
   "source": [
    "#include<string>\n",
    "#include<iostream>\n",
    "\n",
    "using std::cout;\n",
    "using std::cin;\n",
    "using std::string;\n",
    "\n",
    "string nomeCompleto;\n",
    "\n",
    "cout << \"Informe seu nome completo: \";\n",
    "std::getline(cin, nomeCompleto);\n",
    "\n",
    "cout << nomeCompleto;"
   ]
  },
  {
   "cell_type": "code",
   "execution_count": null,
   "metadata": {},
   "outputs": [],
   "source": [
    "nomeCompleto.find(\"F\")"
   ]
  },
  {
   "cell_type": "code",
   "execution_count": null,
   "metadata": {},
   "outputs": [],
   "source": [
    "nomeCompleto[8]"
   ]
  },
  {
   "cell_type": "markdown",
   "metadata": {},
   "source": [
    "## Emojis em C++ (std::string unicode)\n",
    "\n",
    "O tipo **char** associado a tabela ASCII possui uma quantidade de caracteres limitada por 1 byte e que não representa todos os símbolos encontrados em outros idiomas diferentes do Inglês. \n",
    "\n",
    "Foram criados outros tipos com o intuito de abranger mais simbolos como a UTF-8 (wchar_t), UTF-16 (char16_t) e UTF-32 (char32_t) armazenados na tabela Unicode.             \n",
    " "
   ]
  },
  {
   "cell_type": "code",
   "execution_count": null,
   "metadata": {},
   "outputs": [],
   "source": [
    "#include<iostream>\n",
    "\n",
    "char Z {'Z'};\n",
    "char16_t и {U'\\u0438'};\n",
    "char32_t я {U'я'};\n",
    "std::cout << sizeof(Z) << \" \" << sizeof(и) << \" \" << sizeof(я);"
   ]
  },
  {
   "cell_type": "code",
   "execution_count": null,
   "metadata": {},
   "outputs": [],
   "source": [
    "#include <codecvt>\n",
    "\n",
    "char32_t base = U'\\u0438';\n",
    "\n",
    "std::wstring_convert<std::codecvt_utf8<char32_t>, char32_t> convert;\n",
    "std::cout << convert.to_bytes(base) << '\\n';"
   ]
  },
  {
   "cell_type": "markdown",
   "metadata": {},
   "source": [
    "O formato **Unicode** possui uma lista extensa de simbolos incluindo as famosas \"carinhas\" conhecidas como Emojis. No exemplo abaixo vemos o código hexadecimal da tabela Unicode para a carinha alegre e um coração amarelo.\n",
    "    Veja a tabela completa neste [link](https://unicode.org/emoji/charts/full-emoji-list.html)"
   ]
  },
  {
   "cell_type": "code",
   "execution_count": null,
   "metadata": {},
   "outputs": [],
   "source": [
    "#include<iostream>\n",
    "std::string yellow_heart {u8\"\\U0001F49B\"};\n",
    "std::string emoji_smiling {u8\"\\U0001F600\"};\n",
    "std::cout << yellow_heart << emoji_smiling;"
   ]
  },
  {
   "cell_type": "code",
   "execution_count": null,
   "metadata": {},
   "outputs": [],
   "source": [
    "u8\"\\U0001F64D\""
   ]
  },
  {
   "cell_type": "markdown",
   "metadata": {},
   "source": [
    "Usando Emoji's como identificadores de variáveis"
   ]
  },
  {
   "cell_type": "code",
   "execution_count": null,
   "metadata": {},
   "outputs": [],
   "source": [
    "float 💛 = 10;"
   ]
  },
  {
   "cell_type": "code",
   "execution_count": null,
   "metadata": {},
   "outputs": [],
   "source": [
    "💛"
   ]
  },
  {
   "cell_type": "markdown",
   "metadata": {},
   "source": [
    "              \n",
    "### Exemplos\n",
    "- [Programa que lê e calcula comprimentos de duas strings e compara se são iguais](src/aula9_1.cpp)\n",
    "- [Programa que lê e concatena duas strings e busca por substrings](src/aula9_2.cpp)\n",
    "\n",
    "### Exercício\n",
    "- Escreva um programa para verificar se login e senha são válidos. São válidos apenas login=\"aluno\" e senha= \"engenharia\". São permitidas no máximo 5 tentativas de autenticação."
   ]
  },
  {
   "cell_type": "markdown",
   "metadata": {},
   "source": [
    "## Matrizes em C\n",
    "\n",
    "Uma matriz é um vetor de vetores\n",
    "\n",
    "A forma mais simples de matriz multidimensional é a matriz bidimensional.\n",
    "\n",
    "Exemplo de matriz bidimensional (ou tabela):\n",
    "\n",
    "![](img/Picture22.png)\n",
    "\n",
    "### Sintaxe para declarar matrizes\n",
    "\n",
    "tipo nome [dim1][dim2][dim3]...[dimN];\n",
    "\n",
    "Exemplo:"
   ]
  },
  {
   "cell_type": "code",
   "execution_count": null,
   "metadata": {},
   "outputs": [],
   "source": [
    "int A[10][10];\n",
    "\n",
    "//Acessando elementos\n",
    "std::cout << A[1][0];\n",
    "\n",
    "//Atribuindo elementos\n",
    "A[1][2] = 25;\n"
   ]
  },
  {
   "cell_type": "code",
   "execution_count": null,
   "metadata": {},
   "outputs": [],
   "source": [
    "A"
   ]
  },
  {
   "cell_type": "markdown",
   "metadata": {},
   "source": [
    "### Inicialização de vetores x strings x matrizes\n",
    "\n",
    "Exemplos:"
   ]
  },
  {
   "cell_type": "code",
   "execution_count": null,
   "metadata": {},
   "outputs": [],
   "source": [
    "int De1a10[10] =  {1, 2, 3, 4, 5, 6, 7, 8, 9, 10};\n",
    "char str[21] = \"Engenharia Mecânica\";\n",
    "int tabela[4][2] = {\n",
    "1,1,2,4,3,9,4,16\n",
    "}; \n",
    "\n",
    "//Pode-se alternativamente adicionar várias linhas à tabela, preservando-se fixo o número de colunas.\n",
    "int tabela2[][2] = {\n",
    "1,1,\n",
    "2,4,\n",
    "3,9,\n",
    "4,16\n",
    "}; "
   ]
  },
  {
   "cell_type": "code",
   "execution_count": null,
   "metadata": {},
   "outputs": [],
   "source": [
    "for (int i=0; i<4; i++) {\n",
    "    for (int j=0; j<2; j++)\n",
    "        std::cout << tabela2[i][j] << \" \";\n",
    "    std::cout << std::endl;\n",
    "}"
   ]
  },
  {
   "cell_type": "markdown",
   "metadata": {},
   "source": [
    "### Inicialização de matrizes não-dimensionadas\n"
   ]
  },
  {
   "cell_type": "code",
   "execution_count": null,
   "metadata": {},
   "outputs": [],
   "source": [
    "char e1[]=\"Olá, Mundo! \\n\";\n",
    "char e2[]=\"Bom dia, Aracruz! \\n\";\n",
    "\n",
    "//Os tamanhos de e1 e e2 são definidos pelo compilador C++\n",
    "\n",
    "std::cout << e1 <<  \"tem \" << sizeof(e1) << \" caracteres\\n\";"
   ]
  },
  {
   "cell_type": "code",
   "execution_count": null,
   "metadata": {},
   "outputs": [],
   "source": [
    "// Exemplo: Preencha uma matriz 3x3 com números inteiros aleatórios e mostre sua diagonal.\n",
    "#include<iostream>\n",
    "#include<cstdlib>\n",
    "#include<time.h>\n",
    "\n",
    "srand( (unsigned) time(NULL) );\n",
    "\n",
    "int numeros[3][3];\n",
    "\n",
    "for(int i=0;i<3;i++)\n",
    "    for(int j=0;j<3;j++)\n",
    "        numeros[i][j] = rand()%100;\n",
    "  \n",
    "for(int i=0;i<3;i++) \n",
    "    std::cout << numeros[i][i] << std::endl;"
   ]
  },
  {
   "cell_type": "code",
   "execution_count": null,
   "metadata": {},
   "outputs": [],
   "source": [
    "numeros"
   ]
  },
  {
   "cell_type": "markdown",
   "metadata": {},
   "source": [
    "## Matrizes em C++\n",
    "- Uma matriz pode ser considerada um vetor bidimensional, ou seja, um vetor de vetores.\n"
   ]
  },
  {
   "cell_type": "code",
   "execution_count": null,
   "metadata": {},
   "outputs": [],
   "source": [
    "#include<vector>\n",
    "using namespace std;\n",
    "\n",
    "// Declaração de uma matriz com 3 linhas e 4 colunas \n",
    "vector< vector<int> > matriz3x4(3, vector<int>(4));\n",
    "\n",
    "// Declaração mais elegante usando redefinição de tipos\n",
    "typedef vector<int> tColunasPorLinha; // Tipo que representa uma linha da matriz\n",
    "\n",
    "typedef vector<tColunasPorLinha> tMatriz; // Tipo Matriz: representa um vetor de linhas\n",
    "\n",
    "tMatriz matriz3x4nova(3,tColunasPorLinha(4)); // Igual a declaração original"
   ]
  },
  {
   "cell_type": "markdown",
   "metadata": {},
   "source": [
    "- Estendendo a notação para Vetores N-dimensionais:\n"
   ]
  },
  {
   "cell_type": "code",
   "execution_count": null,
   "metadata": {},
   "outputs": [],
   "source": [
    "typedef vector<float> tDim1; \n",
    "\n",
    "typedef vector<tDim1> tDim2; \n",
    "\n",
    "typedef vector<tDim2> tMatriz3D;\n",
    "\n",
    "tMatriz3D matriz4x5x3(4, tDim2(5, tDim1(3)) );"
   ]
  },
  {
   "cell_type": "markdown",
   "metadata": {},
   "source": [
    "### Exemplos\n",
    "- Leia uma matriz 3 por 3 de inteiros e mostre sua diagonal."
   ]
  },
  {
   "cell_type": "code",
   "execution_count": null,
   "metadata": {},
   "outputs": [],
   "source": [
    "typedef std::vector<int> tColunasPorLinha;\n",
    "typedef std::vector<tColunasPorLinha> tMatriz;"
   ]
  },
  {
   "cell_type": "code",
   "execution_count": null,
   "metadata": {},
   "outputs": [],
   "source": [
    "void lerMatriz(tMatriz & matriz)\n",
    "{\n",
    " for(auto & linha : matriz)\n",
    "    for(auto & elemento : linha)\n",
    "        std::cin >> elemento;\n",
    "}"
   ]
  },
  {
   "cell_type": "code",
   "execution_count": null,
   "metadata": {},
   "outputs": [],
   "source": [
    "void imprimirDiagonal(const tMatriz & numeros) \n",
    "{\n",
    " for(int i=0;i<numeros.size();i++)\n",
    "   std::cout << numeros[i][i] << \" \";\n",
    "}"
   ]
  },
  {
   "cell_type": "code",
   "execution_count": null,
   "metadata": {},
   "outputs": [],
   "source": [
    "{\n",
    "  tMatriz numeros(3,tColunasPorLinha(3));\n",
    "  lerMatriz(numeros);\n",
    "  imprimirDiagonal(numeros);\n",
    "}                         "
   ]
  },
  {
   "cell_type": "markdown",
   "metadata": {},
   "source": [
    "- Leia duas matrizes de inteiros de mesma dimensão e calcule a soma."
   ]
  },
  {
   "cell_type": "code",
   "execution_count": null,
   "metadata": {},
   "outputs": [],
   "source": [
    "tMatriz soma(const tMatriz & a, const tMatriz & b) {\n",
    "    int linhas = a.size(); \n",
    "    int colunas = a[0].size();\n",
    "    tMatriz c(linhas, tColunasPorLinha(colunas));\n",
    "    for (int i = 0; i < linhas; ++i) \n",
    "        for (int j = 0; j < colunas; ++j)\n",
    "    c[i][j] = a[i][j] + b[i][j]; \n",
    "    return c;\n",
    "}"
   ]
  },
  {
   "cell_type": "code",
   "execution_count": null,
   "metadata": {},
   "outputs": [],
   "source": [
    "\n",
    "    tMatriz A(3,tColunasPorLinha(3)); \n",
    "    lerMatriz(A); \n",
    "    \n",
    "    tMatriz B(3,tColunasPorLinha(3)); \n",
    "    lerMatriz(B); \n",
    "    \n",
    "    tMatriz C = soma(A, B);\n"
   ]
  },
  {
   "cell_type": "code",
   "execution_count": null,
   "metadata": {},
   "outputs": [],
   "source": [
    "A"
   ]
  },
  {
   "cell_type": "code",
   "execution_count": null,
   "metadata": {},
   "outputs": [],
   "source": [
    "B"
   ]
  },
  {
   "cell_type": "code",
   "execution_count": null,
   "metadata": {},
   "outputs": [],
   "source": [
    "C"
   ]
  },
  {
   "cell_type": "markdown",
   "metadata": {},
   "source": [
    "### Exercícios:\n",
    "- Preencha uma matriz 5x5 e passe como parâmetro para as seguintes funções exibirem:\n",
    "    - a matriz triangular inferior, \n",
    "    - a diagonal principal e \n",
    "    - a matriz triangular superior.\n",
    "- Você saberia fazer um jogo da velha em C/C++?\n"
   ]
  },
  {
   "cell_type": "code",
   "execution_count": null,
   "metadata": {},
   "outputs": [],
   "source": [
    "//https://github.com/QuantStack/xwidgets/blob/master/notebooks/xwidgets.ipynb\n",
    "#include \"xwidgets/xbox.hpp\"\n",
    "xw::vbox matriz;\n",
    "#include \"xwidgets/xtext.hpp\"\n",
    "xw::text tabuleiro[3][3];\n",
    "#include \"xwidgets/xlabel.hpp\"\n",
    "xw::label resultado;\n",
    "#include \"xwidgets/xbutton.hpp\"\n",
    "xw::button botao;\n",
    "botao.description = \"Quem Ganhou?\";\n",
    "botao.button_style = \"success\";"
   ]
  },
  {
   "cell_type": "code",
   "execution_count": null,
   "metadata": {},
   "outputs": [],
   "source": [
    "#include<iostream>\n",
    "\n",
    "void QuemGanhou()\n",
    "{\n",
    "    // verifica se há uma jogada vencedora na diagonal principal\n",
    "    if (tabuleiro[0][0].value() == tabuleiro[1][1].value() && tabuleiro[1][1].value() == tabuleiro[2][2].value())\n",
    "        resultado.value = tabuleiro[0][0].value() + \" venceu!\";\n",
    "    // verifique as demais combinações de jogadas vencedoras\n",
    "}"
   ]
  },
  {
   "cell_type": "code",
   "execution_count": null,
   "metadata": {},
   "outputs": [],
   "source": [
    "botao.on_click(QuemGanhou);"
   ]
  },
  {
   "cell_type": "code",
   "execution_count": null,
   "metadata": {},
   "outputs": [],
   "source": [
    "xw::hbox linha1;\n",
    "linha1.add(tabuleiro[0][0]);\n",
    "linha1.add(tabuleiro[0][1]);\n",
    "linha1.add(tabuleiro[0][2]);\n",
    "xw::hbox linha2;\n",
    "linha2.add(tabuleiro[1][0]);\n",
    "linha2.add(tabuleiro[1][1]);\n",
    "linha2.add(tabuleiro[1][2]);\n",
    "xw::hbox linha3;\n",
    "linha3.add(tabuleiro[2][0]);\n",
    "linha3.add(tabuleiro[2][1]);\n",
    "linha3.add(tabuleiro[2][2]);\n",
    "matriz.add(linha1);\n",
    "matriz.add(linha2);\n",
    "matriz.add(linha3);\n",
    "matriz.add(botao);\n",
    "matriz.add(resultado);"
   ]
  },
  {
   "cell_type": "code",
   "execution_count": null,
   "metadata": {},
   "outputs": [],
   "source": [
    "matriz"
   ]
  },
  {
   "cell_type": "markdown",
   "metadata": {},
   "source": [
    "## Boas práticas de programação\n",
    "\n",
    "- Entenda claramente como os dados estão sendo armazenados em vetores e matrizes. Dica: Faça simulações em desenhos.\n",
    "- Observe como os índices percorrem vetores e matrizes. Certifique-se de que variam a partir da posição zero e não ultrapassam a posição (n-1), onde n é o número de itens (em linhas e/ou colunas).\n",
    "- Tenha certeza de que reservou espaço de sobra para armazenar vetores e matrizes.\n",
    "- Ao realizar testes de matrizes e vetores, primeiro faça para um número pequeno de dimensões e depois para um número maior.\n"
   ]
  },
  {
   "cell_type": "code",
   "execution_count": null,
   "metadata": {},
   "outputs": [],
   "source": []
  }
 ],
 "metadata": {
  "kernelspec": {
   "display_name": "C++14",
   "language": "C++14",
   "name": "xcpp14"
  },
  "language_info": {
   "codemirror_mode": "text/x-c++src",
   "file_extension": ".cpp",
   "mimetype": "text/x-c++src",
   "name": "c++",
   "version": "14"
  }
 },
 "nbformat": 4,
 "nbformat_minor": 4
}
