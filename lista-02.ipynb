{
 "cells": [
  {
   "cell_type": "markdown",
   "metadata": {},
   "source": [
    "# 2a Lista de Exercícios \n",
    "\n",
    "Faça os exercícios abaixo de maneira clara, organizada e usando a linguagem C/C++, conforme orientações abaixo: \n",
    "\n",
    "- Lembre-se de identar o código com TAB, além de seguir as boas práticas de programação vistas em sala de aula e na apostila.\n",
    "\n",
    "\n",
    "1. Faça um programa que forneça 5 numeros reais e imprima se o numero real lido pertence a um certo intervalo fechado cujos limites são fornecidos  pelo teclado. Exemplo: LimInf = 4 e LimSup = 19. O programa deverá imprimir 4 e 16.9 para os seguintes numeros fornecidos: 30 3.5 20 4 16.9\n",
    "\n",
    "2. Faça um programa para calcular os $n$ primeiros multiplos de 2. Imprimir cada um dos multiplos calculados. O valor de $n$ deve ser fornecido pelo programador. Exemplo: $n = 5$. A solução é: $2 \\times 0 = 0$, $2 \\times 1 = 2$, $2 \\times 2 = 4 $, $2 \\times 3 =6$, $2 \\times 4 = 8$, $2 \\times 5 = 10$.\n",
    "\n",
    "    Multiplos de um numero: um numero $b$ é multiplo de um numero $a$ se houver um numero natural $c$ tal que $a \\times c=b$.\n",
    "\n",
    "    O numero $c$ pode variar indefinidamente, de modo que existe uma infinidade de multiplos para qualquer numero. Os multiplos de 2, ou seja, os números $2 \\times c=b$ são denominados numeros pares e os demais numeros naturais recebem o nome de numeros impares. Ve-se tambem que para todo numero natural $a$ o numero $2 \\times a+1$ é numero impar.\n",
    "\n",
    "    Como se pode ver facilmente, $0$ é multiplo de todos os numeros e todo numero é multiplo de si mesmo e da unidade. \n",
    "\n",
    "    Fonte: http://www.galileu.esalq.usp.br/mostra_topico.php?cod=418\n",
    "\n",
    "3. Faça um programa para calcular as areas de varios circulos concentricos cuja a lei de formação é:\n",
    "    - primeiro raio = 10\n",
    "    - segundo raio = 10/2\n",
    "    - terceiro raio = 10/4\n",
    "    - ... \n",
    "    - e assim por diante ate que a area calculada seja menor que 2.5\n",
    "Imprimir o numero de circulos concentricos e a diferença entre a primeira e a ultima area calculadas. Use para o valor de $\\pi$ da formula da area do circulo a constante M_PI definida na biblioteca math.h\n",
    "\n",
    "4. Faça um programa para calcular o valor de $\\pi$, com precisão de 0.0001, usando a série $ S = \\frac{4}{1} - \\frac{4}{3} + \\frac{4}{5} - \\frac{4}{7} +  \n",
    "\\frac{4}{9} - \\frac{4}{11} + \\ldots $\n",
    "Para obter a precisão desejada, adicionar apenas os termos cujo valor absoluto seja maior ou igual a 0.0001. Indique quantos termos foram usados e o valor de $\\pi$ obtido.\n",
    "\n",
    "5. Faça um algoritmo que sorteie $n$ numeros no intervalo de um a dez, calcule a media com dois digitos de precisão (para isso some 0.005 a media e descarte o terceiro digito em diante) dos valores maiores que cinco e quantos numeros lidos são menores ou iguais a cinco. \n",
    "\n",
    "6. Faça um algoritmo que calcule e escreva o valor de $S$ no seguinte somatorio: $S = \\frac{1}{225} - \\frac{2}{196} + \\frac{4}{169} - \\frac{8}{144} +  \\ldots + \\frac{16384}{1}$\n",
    "\n",
    "7. Faça um algoritmo para calcular o valor aproximado de $e^x$ atraves da serie $\n",
    "e^x = x^0 + \\frac{x^1}{1!} + \\frac{x^2}{2!} + \\frac{x^3}{3!} + \\cdots$ de modo que o mesmo difira do valor calculado atraves da função $exp(x)$ de, no maximo, 0.0001. O valor de $x$ deve ser fornecido pelo programador. O programa deverá imprimir na tela o valor de x, o valor calculado atraves da serie, o valor dado pela função $exp(x)$ e o numero de termos utilizados da serie.\n",
    "\n",
    "8. Para saber o número de dígitos significativos do sistema de representação da máquina que está sendo utilizada pode-se fazer o cálculo do chamado Épsilon da máquina $\\epsilon$. O $\\epsilon$ da máquina é o menor número de ponto flutuante, tal que: $1.0 + \\epsilon > 1.0$. Alguns métodos para cálculo de $\\epsilon$ não dão seu valor exato, mas isto nem sempre é necessário, pois o que importa é a sua ordem de grandeza. Para tal calcule em C/C++ uma aproximação do $\\epsilon$ da máquina por meio de sucessivas divisões por 2 ($\\epsilon/2$) e sabendo que o epsilon foi inicializado com 1 ($\\epsilon=1$)."
   ]
  },
  {
   "cell_type": "code",
   "execution_count": null,
   "metadata": {},
   "outputs": [],
   "source": []
  },
  {
   "cell_type": "code",
   "execution_count": 1,
   "metadata": {},
   "outputs": [
    {
     "name": "stdout",
     "output_type": "stream",
     "text": [
      "10 22026.5 22026.5 30\n"
     ]
    }
   ],
   "source": [
    "// QUESTAO 7\n",
    "\n",
    "#include<iostream>\n",
    "\n",
    "float x, n, somatorio;\n",
    "float den, num;\n",
    "\n",
    "x = 10.0;\n",
    "n = 1;\n",
    "somatorio = 1.0;\n",
    "\n",
    "num = x;\n",
    "den = n;\n",
    "while(abs(somatorio - exp(x)) > 0.0001)\n",
    "{\n",
    "    somatorio = somatorio + num / den;    \n",
    "    n++;\n",
    "    num = num * x;\n",
    "    den = den * n;\n",
    "}\n",
    "std::cout << x << \" \" << somatorio << \" \" << exp(x) << \" \" << n-1 << std::endl ;"
   ]
  },
  {
   "cell_type": "code",
   "execution_count": null,
   "metadata": {},
   "outputs": [],
   "source": []
  }
 ],
 "metadata": {
  "kernelspec": {
   "display_name": "C++14",
   "language": "C++14",
   "name": "xeus-cling-cpp14"
  },
  "language_info": {
   "codemirror_mode": "text/x-c++src",
   "file_extension": ".cpp",
   "mimetype": "text/x-c++src",
   "name": "c++",
   "version": "14"
  }
 },
 "nbformat": 4,
 "nbformat_minor": 2
}
