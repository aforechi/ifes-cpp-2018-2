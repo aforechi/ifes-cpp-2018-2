{
 "cells": [
  {
   "cell_type": "code",
   "execution_count": 1,
   "metadata": {},
   "outputs": [],
   "source": [
    "typedef struct {\n",
    "    std::string nome, endereco, cidade, estado, CEP;\n",
    "} Dados;\n",
    "\n",
    "class Package{\n",
    "    public:\n",
    "    Package(Dados rem, Dados dest, double peso, double custo) : \n",
    "    remetente(rem), destinatario(dest) {\n",
    "        pesoEmQuilos = (peso > 0.0 ? peso : 0.0);\n",
    "        custoPorQuilo = (custo > 0.0 ? custo : 0.0);\n",
    "    };\n",
    "    double calculateCost() {return pesoEmQuilos * custoPorQuilo;};\n",
    "    private:\n",
    "    Dados remetente, destinatario;\n",
    "    double custoPorQuilo;\n",
    "    protected:\n",
    "    double  pesoEmQuilos;\n",
    "};\n",
    "\n",
    "class TwoDayPackage : public Package {\n",
    "    public:\n",
    "    TwoDayPackage(Dados rem, Dados dest, double peso, double custo, double taxa) :\n",
    "    Package(rem, dest, peso, custo), taxaExtra(taxa) {};\n",
    "    double calculateCost() {return taxaExtra + Package::calculateCost();};\n",
    "\n",
    "    private:\n",
    "    double taxaExtra;\n",
    "    \n",
    "};\n",
    "\n",
    "class OvernightPackage : public Package {\n",
    "    public:\n",
    "    OvernightPackage(Dados rem, Dados dest, double peso, double custo, double taxa) :\n",
    "    Package(rem, dest, peso, custo), taxaExtra(taxa) {};\n",
    "    double calculateCost() {return taxaExtra*pesoEmQuilos + Package::calculateCost();};\n",
    "\n",
    "    private:\n",
    "    double taxaExtra;\n",
    "};"
   ]
  },
  {
   "cell_type": "code",
   "execution_count": 2,
   "metadata": {},
   "outputs": [],
   "source": [
    "Dados remetente = {\"IFES\", \"Avenida Morobá\", \"Aracruz\", \"ES\", \"29190-000\"};"
   ]
  },
  {
   "cell_type": "code",
   "execution_count": 3,
   "metadata": {},
   "outputs": [],
   "source": [
    "Dados destinatario = {\"FAACZ\", \"Avenida Bambu\", \"Aracruz\", \"ES\", \"29190-000\"};"
   ]
  },
  {
   "cell_type": "code",
   "execution_count": 4,
   "metadata": {},
   "outputs": [],
   "source": [
    "Package encomendaNormal(remetente, destinatario, .2, .15);"
   ]
  },
  {
   "cell_type": "code",
   "execution_count": 5,
   "metadata": {},
   "outputs": [],
   "source": [
    "TwoDayPackage encomendaExpressa(remetente, destinatario, .2, .15, 2.0);"
   ]
  },
  {
   "cell_type": "code",
   "execution_count": 6,
   "metadata": {},
   "outputs": [],
   "source": [
    "OvernightPackage sedex10(remetente, destinatario, .2, .15, 2.0);"
   ]
  },
  {
   "cell_type": "code",
   "execution_count": 7,
   "metadata": {},
   "outputs": [
    {
     "name": "stdout",
     "output_type": "stream",
     "text": [
      "Encomenda Normal: 0.03\n",
      "Encomenda Expressa: 2.03\n",
      "Encomenda Sedex10: 0.43\n"
     ]
    }
   ],
   "source": [
    "std::cout << \"Encomenda Normal: \" << encomendaNormal.calculateCost() << std::endl;\n",
    "std::cout << \"Encomenda Expressa: \" << encomendaExpressa.calculateCost() << std::endl;\n",
    "std::cout << \"Encomenda Sedex10: \" << sedex10.calculateCost() << std::endl;"
   ]
  },
  {
   "cell_type": "code",
   "execution_count": null,
   "metadata": {},
   "outputs": [],
   "source": []
  }
 ],
 "metadata": {
  "kernelspec": {
   "display_name": "C++14",
   "language": "C++14",
   "name": "xeus-cling-cpp14"
  },
  "language_info": {
   "codemirror_mode": "text/x-c++src",
   "file_extension": ".cpp",
   "mimetype": "text/x-c++src",
   "name": "c++",
   "version": "14"
  }
 },
 "nbformat": 4,
 "nbformat_minor": 2
}
