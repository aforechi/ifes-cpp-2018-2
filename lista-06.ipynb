{
 "cells": [
  {
   "cell_type": "markdown",
   "metadata": {},
   "source": [
    "# 5a Lista de Exercícios \n",
    "\n",
    "Faça os exercícios abaixo de maneira clara, organizada e usando a linguagem C/C++, conforme orientações abaixo: \n",
    "\n",
    "- Lembre-se de identar o código com TAB, além de seguir as boas práticas de programação vistas em sala de aula e na apostila.\n",
    "\n",
    "1.Escrever uma função print () que imprime um vetor de inteiros usando  std::cout. Dê-lhe dois argumentos: uma string para o título de saída e um vetor.\n",
    "\n",
    "2.Criar um vetor de números de Fibonacci e imprimi-las usando a função do exercício 1. Criar um vetor, escrever uma função, fibonacci (x, y, v, n), onde x e y são inteiros, v é um vector<int> vazio , e n é o número de elementos para colocar em v; v[0]= x e v[1] = y. Um número de Fibonacci é aquele que é parte de uma sequência em que cada elemento é a soma dos dois anteriores. Por exemplo, começando com 1 e 2, temos 1, 2, 3, 5, 8, 13, 21, ... Sua função fibonacci deve fazer essa série começando com os argumentos x e y informados pelo usuário.\n",
    "\n",
    "3.Escrever uma função que encontra o menor e o maior elemento de um argumento do vetor e também calcula a média e a mediana. Não use variáveis globais. Pode retornar um struct contendo os resultados ou passá-los de volta usando passagem de parâmetros por referência. Qual das duas formas de retornar vários valores como resultado você prefere e por quê?\n",
    "\n",
    "4.Escrever uma função que recebe um vector <string> como argumento e retorna um vector <int> que contém o número de caracteres em cada string. Também descobrir a string mais longa e a mais curta, além da primeira e última string em ordem lexicográfica. Quantas funções separadas  você usaria para essas tarefas? Por quê?\n",
    "\n",
    "5.O que acontece quando você lê e escreve além dos limites de um arranjo ou vetor. Faça alguns testes envolvendo um a) arranjo global de inteiros, b) um arranjo local de inteiros, c) um arranjo de inteiros alocados dinamicamente e d) um vetor de inteiros. Tente ler e escrever um pouco além do fim e muito além do fim dos dados. Tente o mesmo para um pouco antes e muito antes do início. Em seguida, tente nunca mais fazer acesso fora dos limites de arranjo/vetor por engano. ;-)\n",
    "\n",
    "Responda: \n",
    "\n",
    "a) Qual é o comprimento da variável do tipo string inicializada com \"uma pequena cadeia\"? \n",
    "\n",
    "b) Qual o tamanho do arranjo de caracteres str no exemplo seguinte: \n"
   ]
  },
  {
   "cell_type": "code",
   "execution_count": 1,
   "metadata": {},
   "outputs": [],
   "source": [
    "char str [] = \"uma cadeia curta de caracteres\";"
   ]
  },
  {
   "cell_type": "markdown",
   "metadata": {},
   "source": [
    "6.Definir uma tabela com os nomes dos meses do ano (não bissexto) e o número de dias de cada mês. Imprimir na tela essa tabela. Faça isso duas vezes; uma vez usando string para os nomes e um vetor para o número de dias e outra vez, usando um vetor de estruturas, sendo que cada estrutura contém o nome de um mês e o número de dias contido nele.\n",
    "\n",
    "7.Reescreva a seguinte declaração \\emph{for} como um comando equivalente \\emph{while}:"
   ]
  },
  {
   "cell_type": "code",
   "execution_count": 4,
   "metadata": {},
   "outputs": [],
   "source": [
    "#include<string>\n",
    "std::string letrasDeUmaFrase;\n",
    "int letraA {};\n",
    "\n",
    "for (int i=0; i!=letrasDeUmaFrase.size(); i++) \n",
    "    if (letrasDeUmaFrase[i] == 'a') \n",
    "        letraA++;\n"
   ]
  },
  {
   "cell_type": "markdown",
   "metadata": {},
   "source": [
    "8.Reescreva utilizando um ponteiro como variável de controle do loop de modo que o teste seja da forma (*ponteiro) == 'a'. Reescreva para usar a variação do comando foreach.\n",
    "\n",
    "9.Completar [o programa cripto.cpp](src/cripto.cpp) de criptografia que lê a partir std::cin e escreve os caracteres codificados para std::cout. Você pode usar este esquema de criptografia simples: a forma criptografada de um caracter c é (c^chave[i]), onde chave é uma seqüência de caracteres passada como um argumento de linha de comando. O programa usa os caracteres da chave de uma forma cíclica até que toda a entrada seja lida. A re-encriptação do texto codificado com a mesma chave produz o texto original. Se nenhuma chave (ou uma string nula) for passada, então, nenhuma criptografia é feita."
   ]
  },
  {
   "cell_type": "code",
   "execution_count": null,
   "metadata": {},
   "outputs": [],
   "source": []
  }
 ],
 "metadata": {
  "kernelspec": {
   "display_name": "C++14",
   "language": "C++14",
   "name": "xeus-cling-cpp14"
  },
  "language_info": {
   "codemirror_mode": "text/x-c++src",
   "file_extension": ".cpp",
   "mimetype": "text/x-c++src",
   "name": "c++",
   "version": "14"
  }
 },
 "nbformat": 4,
 "nbformat_minor": 2
}
