{
 "cells": [
  {
   "cell_type": "markdown",
   "metadata": {},
   "source": [
    "# 4a Lista de Exercícios \n",
    "\n",
    "Faça os exercícios abaixo de maneira clara, organizada e usando a linguagem C/C++, conforme orientações abaixo: \n",
    "\n",
    "- Lembre-se de identar o código com TAB, além de seguir as boas práticas de programação vistas em sala de aula e na apostila.\n",
    "\n",
    "\n",
    "1. Faça um programa em C/C++ para verificar se um vetor de caracteres está em ordem decrescente, crescente ou fora de ordem e imprima na saída padrão (tela) uma dessas conclusões.\n",
    "\n",
    "2. Faça um programa em C/C++ para contar o número de vogais contidos em um vetor de caracteres e imprima a quantidade na saída padrão.\n",
    "\n",
    "3. Faça um programa em C/C++ que leia uma matriz quadrada $A$, $n \\times n$, calcule o máximo elemento de cada linha em módulo e divida cada linha pelo seu máximo. O algoritmo deve imprimir a nova matriz $A$ modificada. \n",
    "\n",
    "4. Faça um programa em C/C++ para calcular o produto entre duas matrizes $A[m][n]$ e $B[n][m]$ com $n,m \\le 100$ e sair com a matriz resultante $prod[m][m]$.  \n",
    "\n",
    "5. Faça um programa em C/C++ que preencha uma matriz $A[n][n]$, $n \\le 100$, calcule a norma\n",
    "$ normaA = \\max_{1 \\le i \\le n} \\sqrt{a_{i1}^2 + a_{i2}^2 + \\cdots + a_{in}^2} $ por meio de uma função e imprima o seu valor.\n",
    "\n",
    "6. Verifique se uma matriz $A[n][n]$, $n \\le 100$, é simétrica, ou seja, se $A[i[[j] = A[j][i]$, $\\forall i,j \\le n$. Saia a palavra simétrica, se a matriz é simétrica e, não-simétrica, em caso contrário.  Faça um programa em C/C++ de maneira eficiente, sem repetir testes ou fazer testes desnecessários."
   ]
  },
  {
   "cell_type": "code",
   "execution_count": null,
   "metadata": {},
   "outputs": [],
   "source": []
  }
 ],
 "metadata": {
  "kernelspec": {
   "display_name": "C++14",
   "language": "C++14",
   "name": "xeus-cling-cpp14"
  },
  "language_info": {
   "codemirror_mode": "text/x-c++src",
   "file_extension": ".cpp",
   "mimetype": "text/x-c++src",
   "name": "c++",
   "version": "14"
  }
 },
 "nbformat": 4,
 "nbformat_minor": 2
}
