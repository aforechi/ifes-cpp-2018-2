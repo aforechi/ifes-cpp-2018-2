{
 "cells": [
  {
   "cell_type": "markdown",
   "metadata": {
    "slideshow": {
     "slide_type": "slide"
    }
   },
   "source": [
    "# Aula 14: Classes para Vetores e Matrizes\n",
    "\n",
    "## Revisão de TAD\n",
    "\n",
    "- TADs de domínio:\n",
    "    - Definem tipos de dados diretamente relacionados ao domínio do problema\n",
    "\n",
    "- TADs implementacionais:\n",
    "    - Tem relação direta com questões implementacionais, como listas, árvores, grafos e filas. \n",
    "\n",
    "- Construtoras\n",
    "    - São operações que realizam a inicialização dos valores\n",
    "- Analisadoras ou consultoras\n",
    "    - Analisam o conteúdo de um TAD e retornam uma propriedade\n",
    "- Modificadoras ou atualizadoras\n",
    "    - Realizam a alteração de atributos de um TAD\n",
    "- Produtoras\n",
    "    - Comparam dados de um TAD e produzem nova informação.\n",
    "- Destrutoras\n",
    "    - São utilizadas para liberar recurso de memória ocupados por um TAD.\n",
    "\n",
    "\n",
    "## Revisão de vetor\n",
    "\n",
    "- Sintaxe: \n",
    "    - <tipo_de_dados> <nome_do_vetor>[<tamanho_vetor>];\n",
    "\n",
    "- Definição de tamanho em tempo de execução x compilação\n",
    "\n",
    "- Indexação (indice < tam_vetor):\n",
    "    - <nome_do_vetor> [<indice_vetor>]\n",
    "\n",
    "- Strings:\n",
    "    - Vetor de caracteres terminado com caracter nulo '\\0' (\\barra-zero).\n",
    "\n",
    "- Um vetor é uma estrutura de dados composta homogenea, isto é, ele possui, em geral, mais de um elemento de um mesmo tipo.\n",
    "- São caractersticas importantes dos vetores a sequencialização, a indexação e a sua dimensão.\n",
    "- Deve-se tomar cuidado para não se acessar um vetor indevidamente, como, por exemplo utilizando um índice maior que seu tamanho.\n",
    "- A dimensão de um vetor pode ser denida, em C, tanto em tempo de compilação, quanto em tempo de execução.\n",
    "- Quando acessado individualmente, cada elemento de um vetor pode ser encarado como uma variavel basica.\n",
    "- A utilização de expressões como indice no acesso a elementos de um vetor e uma ferramenta poderosa e deve ser usada.\n",
    "- A utilização de TAD's Implementacionais é um artificio para facilitar a manipulação de vetores e aumentar a legibilidade e reusabilidade do código\n",
    "\n",
    "\n",
    "## TAD Implementacional tVetorInt\n",
    "\n",
    "Nessa aula será apresentado um TAD de natureza implementacional, chamado tVetorInt, que poderá ser usado em aplicações que necessitam manipular vetores de inteiros. Para isso será definida uma estrutura de dados contendo um vetor de inteiros e o número de elementos correntes do vetor."
   ]
  },
  {
   "cell_type": "code",
   "execution_count": 1,
   "metadata": {
    "slideshow": {
     "slide_type": "slide"
    }
   },
   "outputs": [],
   "source": [
    "#include<iostream>\n",
    "#include<cstdlib>\n",
    "#include<time.h>\n",
    "\n",
    "srand( (unsigned) time(NULL) );\n",
    "\n",
    "#define TAM 100\n",
    "\n",
    "class tVetorInt{\n",
    "    int vet[TAM];\n",
    "    int n;\n",
    "public:\n",
    "    tVetorInt();\n",
    "    tVetorInt(int num);\n",
    "    void escritaVetorInt();\n",
    "    int pesquisaSequencialInt(int elem);\n",
    "    int pesquisaBinariaInt(int elem);\n",
    "    tVetorInt somaVetorInt(const tVetorInt &v);\n",
    "    int escalaVetorInt(const tVetorInt & v);\n",
    "    void insereVetorInt(int elem, int pos);\n",
    "    void excluiVetorInt(int elem);\n",
    "    void ordenaBolhaInt();\n",
    "};"
   ]
  },
  {
   "cell_type": "markdown",
   "metadata": {},
   "source": [
    "O Exemplo acima mostra a definição da estrutura tVetorInt. Ela possui um vetor de inteiros chamado vet, de tamanho definido por TAM e um atributo **n** do tipo **int** que representa o número corrente de elementos em **vet**, ou seja, o numero **n** de elementos armazenados no vetor num determinado momento da execução do programa. Esse valor **n** deve ser zero quando o vetor estiver vazio e deve ser incrementado ou decrementado sempre que se adicionar ou excluir um elemento do vetor, respectivamente.\n",
    "\n",
    "A figura abaixo mostra duas estruturas do tipo tVetorInt. Como pode ser observado, apesar de vet possuir tamanho igual a 100, ele possui apenas 8 elementos na primeira estrutura e 5 na segunda, valores representados pelo atributo n.\n",
    "\n",
    "![](img/Picture30.png)\n",
    "\n",
    "A função do Exemplo abaixo inicializa a estrutura tVetorInt sem nunhum elemento dentro do vetor.\n",
    "\n",
    "### Operações construtoras"
   ]
  },
  {
   "cell_type": "code",
   "execution_count": 2,
   "metadata": {},
   "outputs": [],
   "source": [
    "tVetorInt::tVetorInt() {\n",
    "    n = 0;\n",
    "}"
   ]
  },
  {
   "cell_type": "code",
   "execution_count": 3,
   "metadata": {},
   "outputs": [],
   "source": [
    "tVetorInt::tVetorInt(int num) { \n",
    "    if (num > TAM)\n",
    "        n = 0;\n",
    "    else\n",
    "        n = num;\n",
    "    \n",
    "    for(int i = 0 ; i < n ; i++) \n",
    "        vet[i] = rand() % 10; \n",
    "}"
   ]
  },
  {
   "cell_type": "markdown",
   "metadata": {},
   "source": [
    "### Operações analisadoras\n",
    "\n",
    "A função abaixo serve para que possam ser visualizados na tela os valores de todos os elementos armazenados no vetor da estrutura."
   ]
  },
  {
   "cell_type": "code",
   "execution_count": 4,
   "metadata": {},
   "outputs": [],
   "source": [
    "void tVetorInt::escritaVetorInt() {\n",
    "    std::cout << \"Os elementos que estão atualmente no vetor são:\\n\";\n",
    "    for(int i=0; i < n; i++)\n",
    "        std::cout << vet[i] << \" \";\n",
    "}"
   ]
  },
  {
   "cell_type": "markdown",
   "metadata": {},
   "source": [
    "A outra função analisadora abaixo é utilizada para determinar a existência de um determinado elemento dentro do vetor. Essa função, além de funcionar como uma simples consulta dentro de um vetor, pode ser utilizada dentro de outras funções como, por exemplo, para achar um determinado elemento que se queira apagar."
   ]
  },
  {
   "cell_type": "code",
   "execution_count": 5,
   "metadata": {},
   "outputs": [],
   "source": [
    "int tVetorInt::pesquisaSequencialInt(int elem) {\n",
    "    for(int i=0; i < n; i++)\n",
    "        if (vet[i] == elem)\n",
    "            return i;\n",
    "    return -1;\n",
    "}"
   ]
  },
  {
   "cell_type": "markdown",
   "metadata": {},
   "source": [
    "Repare que se existir no vetor dois elementos iguais, a função obtem apenas o indice do primeiro. Isso acontece, porque ela retorna quando o primeiro valor for encontrado. \n",
    "\n",
    "Outra característica dessa função que deve ser evidenciada é sua ineficiência quando o valor procurado está nas últimas posições ou quando ele não existe no vetor.\n",
    "\n",
    "Para resolver o problema da ineficiência citada, outras funções foram desenvolvidas para otimizar o processo de localização de elementos. \n",
    "\n",
    "O Exemplo abaixo mostra uma delas: a Pesquisa Binária. Essa função deve ser utilizada apenas em vetores ordenados de forma crescente."
   ]
  },
  {
   "cell_type": "code",
   "execution_count": 6,
   "metadata": {},
   "outputs": [],
   "source": [
    "int tVetorInt::pesquisaBinariaInt(int elem){ \n",
    "    int inicio = 0;\n",
    "    int meio;\n",
    "    int fim = n - 1;\n",
    "    while(inicio <= fim) {\n",
    "        meio = (inicio + fim)/2;\n",
    "        if (elem < vet[meio]) \n",
    "            fim = meio - 1;\n",
    "        else if (elem > vet[meio]) \n",
    "            inicio = meio + 1; \n",
    "        else \n",
    "            return meio;\n",
    "    } \n",
    "    return(-1);\n",
    "}"
   ]
  },
  {
   "cell_type": "markdown",
   "metadata": {},
   "source": [
    "A função do exemplo acima recebe como parametro de entrada o elemento a ser encontrado. \n",
    "\n",
    "São declaradas, então, três variáveis: inicio, fim e meio. \n",
    "- A variável inicio recebe, o valor do indice do menor elemento do vetor, ou seja, zero\n",
    "- A variável fim recebe o valor do indice do maior elemento, ou seja, v.n−1. \n",
    "- Enquanto o valor de inicio for menor ou igual ao valor de fim, meio recebe o indice do elemento central da região por eles delimitada. \n",
    "\n",
    "É exatamente esse elemento central que sempre será comparado ao elemento que se está procurando. \n",
    "- Se aquele for maior que este, fim recebe o valor do indice anterior a meio. \n",
    "- Caso contrário, inicio recebe o valor do indice posterior a meio. \n",
    "- Se nenhuma das duas alternativas acontecerem, quer dizer que o elemento foi encontrado e seu indice é igual a meio. \n",
    "- Se em algum momento inicio passar a ser maior que fim, o elemento não existe na lista e a função retorna -1.\n",
    "\n",
    "![](img/Picture31.png)\n",
    "\n",
    "### Operações produtoras\n",
    "\n",
    "As funções dessa natureza geram algum tipo de produto como resultado de operações feitas sobre dois ou mais vetores. Dentre elas podem ser citadas a Adição e o Produto Escalar.\n",
    "\n",
    "A função de adição abaixo soma cada elemento de mesmo indice de um vetor com outro com o mesmo numero de elementos correntes e armazena o resultado em um terceiro vetor. Se os vetores a serem somados não possuirem o mesmo numero de elementos correntes, a função retorna uma mensagem de erro."
   ]
  },
  {
   "cell_type": "code",
   "execution_count": 7,
   "metadata": {},
   "outputs": [],
   "source": [
    "tVetorInt tVetorInt::somaVetorInt(const tVetorInt &v){ \n",
    "    tVetorInt soma;\n",
    "    if(n != v.n){\n",
    "        std::cout << \"Vetores com tamanhos diferentes\" << std::endl;\n",
    "        soma.n = 0;\n",
    "    }else{\n",
    "        soma.n = v.n; \n",
    "        for(int i=0;i<soma.n;i++)\n",
    "            soma.vet[i] = vet[i] + v.vet[i]; \n",
    "    }\n",
    "    return soma; \n",
    "}"
   ]
  },
  {
   "cell_type": "markdown",
   "metadata": {},
   "source": [
    "Já a função Produto Escalar, cujo codigo pode ser encontrado no exemplo abaixo calcula o produto escalar entre dois vetores. Para isso, os vetores devem possuir o mesmo numero de elementos correntes. Caso contrário a função também retorna uma mensagem de erro."
   ]
  },
  {
   "cell_type": "code",
   "execution_count": 8,
   "metadata": {},
   "outputs": [],
   "source": [
    "int tVetorInt::escalaVetorInt(const tVetorInt & v) { \n",
    "    int prod = 0;\n",
    "    if(n != v.n) {\n",
    "        std::cout << \"Vetores com tamanhos diferentes\" << std::endl; \n",
    "    }else{\n",
    "        for(int i = 0 ; i < n ; i++)\n",
    "            prod = prod + vet[i] * v.vet[i]; \n",
    "    }\n",
    "    return prod; \n",
    "}"
   ]
  },
  {
   "cell_type": "markdown",
   "metadata": {},
   "source": [
    "### Operações modificadoras\n",
    "\n",
    "As operações a seguir são responsáveis por realizar alterações no vetor do TAD de forma a garantir a coerência da estrutura. Para excluir um elemento no meio de um vetor, por exemplo, a função de exclusão deve, além de apagá-lo, cuidar para que o numero de elementos correntes do vetor seja atualizado e que todos os elementos com indice maior que o dele sejam transferidos uma posição para a esquerda. Além da operação de exclusão, serão apresentadas a seguir funções de inserção e ordenação.\n",
    "\n",
    "A função do exemplo abaixo mostra um algoritmo para inserção de um elemento numa posição pré-determinada. Ela insere o elemento na posição desejada considerando a posição zero como a primeira do vetor."
   ]
  },
  {
   "cell_type": "code",
   "execution_count": 9,
   "metadata": {},
   "outputs": [],
   "source": [
    "void tVetorInt::insereVetorInt(int elem, int pos){ \n",
    "    int i;\n",
    "    if((pos < 0) || (pos > TAM)){\n",
    "        std::cout << \"Entrada de Dados Incorreta\" << std::endl;\n",
    "    }else{\n",
    "        for(i = n - 1; i >= pos; i--)\n",
    "            vet[i+1] = vet[i];\n",
    "        vet[i+1] = elem; //lembre-se que i será igual a (pos-1) ao sair do laço for\n",
    "        n++;\n",
    "    }\n",
    "}"
   ]
  },
  {
   "cell_type": "markdown",
   "metadata": {},
   "source": [
    "A função do exemplo abaixo mostra um algoritmo de exclusão de um elemento. Ela percorre o vetor da estrutura sequencialmente procurando o elemento a ser excluído. Se encontrá-lo, retira-o e continua procurando outros iguais para excluir até não achar mais."
   ]
  },
  {
   "cell_type": "code",
   "execution_count": 10,
   "metadata": {},
   "outputs": [],
   "source": [
    "void tVetorInt::excluiVetorInt(int elem){ \n",
    "    int pos = 0;\n",
    "    //TODO refaça usando pesquisaSequencialInt() para encontrar pos\n",
    "    while(pos < n){\n",
    "        if(vet[pos] == elem){\n",
    "            for(int i = pos ; i < n - 1 ; i++)\n",
    "                vet[i] = vet[i+1]; \n",
    "            n--; \n",
    "        }\n",
    "        pos++; \n",
    "    }\n",
    "}"
   ]
  },
  {
   "cell_type": "markdown",
   "metadata": {},
   "source": [
    "A função ordenaBolhaInt também recebe como parâmetro de entrada apenas a estrutura tVetorInt. Então ela percorre o vetor inteiro, do maior para o menor indice, fazendo comparações entre seus elementos e trocando-os quando o elemento de maior indice possui seu valor menor que o elemento de menor indice. Feito isso uma vez, o elemento de menor valor já fica na primeira posição do vetor. Então o algoritmo ignora esse elemento e repete o procedimento para o resto do vetor. Esse procedimento é repetido v.n−1 vezes. Finalmente, a função retorna a estrutura com o vetor ordenado."
   ]
  },
  {
   "cell_type": "code",
   "execution_count": 11,
   "metadata": {},
   "outputs": [],
   "source": [
    "void tVetorInt::ordenaBolhaInt(){ \n",
    "    int a;\n",
    "    int b; \n",
    "    int temp;\n",
    "    for(a = 1 ; a < n ; a++){\n",
    "        for(b = n - 1 ; b >= a ; --b){\n",
    "            if(vet[b-1] > vet[b]){ \n",
    "                temp = vet[b-1]; \n",
    "                vet[b-1] = vet[b];\n",
    "                vet[b] = temp;\n",
    "            }\n",
    "        }\n",
    "    }\n",
    "}"
   ]
  },
  {
   "cell_type": "markdown",
   "metadata": {},
   "source": [
    "A figura abaixo ilustra o funcionamento do algoritmo de ordenação pelo método Bolha. ![](img/Picture32.png)\n",
    "\n",
    "## Exemplo de Utilização do TAD tVetorInt"
   ]
  },
  {
   "cell_type": "code",
   "execution_count": 12,
   "metadata": {},
   "outputs": [],
   "source": [
    "tVetorInt vet1(10);\n",
    "tVetorInt vet2(10);\n",
    "tVetorInt vet3;\n",
    "int elem;\n",
    "int pos;\n",
    "int prodEscalar;\n",
    "int enter;"
   ]
  },
  {
   "cell_type": "code",
   "execution_count": 13,
   "metadata": {},
   "outputs": [
    {
     "name": "stdout",
     "output_type": "stream",
     "text": [
      "\n",
      "Vet1:\n",
      "Os elementos que estão atualmente no vetor são:\n",
      "8 4 8 8 2 6 3 7 7 8 \n",
      "Vet2:\n",
      "Os elementos que estão atualmente no vetor são:\n",
      "7 5 1 8 3 0 8 7 8 3 \n",
      "\n",
      "Qual elemento deseja localizar utilizando a pesquisa sequencial?\n",
      "\n",
      "\n",
      "\n",
      "Elemento nao encontrado\n",
      "\n",
      "\n",
      "Vet1:\n",
      "Os elementos que estão atualmente no vetor são:\n",
      "8 4 8 8 2 6 3 7 7 8 \n",
      "Vet2:\n",
      "Os elementos que estão atualmente no vetor são:\n",
      "7 5 1 8 3 0 8 7 8 3 \n",
      "Vet3:\n",
      "Os elementos que estão atualmente no vetor são:\n",
      "15 9 9 16 5 6 11 14 15 11 \n",
      "\n",
      "Produto escalar = 307\n",
      "Vet3:\n",
      "Os elementos que estão atualmente no vetor são:\n",
      "5 15 9 9 16 5 6 11 14 15 11 \n",
      "Vet3:\n",
      "Os elementos que estão atualmente no vetor são:\n",
      "3 5 15 9 9 16 5 6 11 14 15 11 \n",
      "Vet3:\n",
      "Os elementos que estão atualmente no vetor são:\n",
      "3 7 5 15 9 9 16 5 6 11 14 15 11 \n",
      "Vet3:\n",
      "Os elementos que estão atualmente no vetor são:\n",
      "3 7 5 10 15 9 9 16 5 6 11 14 15 11 \n",
      "Vet3:\n",
      "Os elementos que estão atualmente no vetor são:\n",
      "7 5 10 15 9 9 16 5 6 11 14 15 11 \n",
      "Vet3:\n",
      "Os elementos que estão atualmente no vetor são:\n",
      "5 10 15 9 9 16 5 6 11 14 15 11 \n",
      "Vet3:\n",
      "Os elementos que estão atualmente no vetor são:\n",
      "5 15 9 9 16 5 6 11 14 15 11 \n",
      "Vet3:\n",
      "Os elementos que estão atualmente no vetor são:\n",
      "15 9 9 16 6 11 14 15 11 "
     ]
    }
   ],
   "source": [
    "\n",
    "std::cout << \"\\nVet1:\\n\";\n",
    "vet1.escritaVetorInt();\n",
    "std::cout << \"\\nVet2:\\n\";\n",
    "vet2.escritaVetorInt();\n",
    "\n",
    "std::cout << \"\\n\\nQual elemento deseja localizar utilizando a pesquisa sequencial?\\n\\n\";\n",
    "elem = 5;\n",
    "\n",
    "pos = vet1.pesquisaSequencialInt(elem);\n",
    "if(pos >= 0) \n",
    "    std::cout << \"\\n\\nElemento encontrado na posição \" << pos;\n",
    "else \n",
    "    std::cout << \"\\n\\nElemento nao encontrado\\n\\n\";\n",
    "\n",
    "\n",
    "vet3 = vet1.somaVetorInt(vet2);\n",
    "\n",
    "std::cout << \"\\nVet1:\\n\";\n",
    "vet1.escritaVetorInt();\n",
    "std::cout << \"\\nVet2:\\n\";\n",
    "vet2.escritaVetorInt();\n",
    "std::cout << \"\\nVet3:\\n\";\n",
    "vet3.escritaVetorInt();\n",
    "\n",
    "prodEscalar = vet1.escalaVetorInt(vet2);\n",
    "std::cout << \"\\n\\nProduto escalar = \" << prodEscalar;\n",
    "\n",
    "\n",
    "vet3.insereVetorInt(5,0);\n",
    "std::cout << \"\\nVet3:\\n\";\n",
    "vet3.escritaVetorInt();\n",
    "\n",
    "vet3.insereVetorInt(3,0);\n",
    "std::cout << \"\\nVet3:\\n\";\n",
    "vet3.escritaVetorInt();\n",
    "\n",
    "vet3.insereVetorInt(7,1);\n",
    "std::cout << \"\\nVet3:\\n\";\n",
    "vet3.escritaVetorInt();\n",
    "\n",
    "vet3.insereVetorInt(10,3);\n",
    "std::cout << \"\\nVet3:\\n\";\n",
    "vet3.escritaVetorInt();\n",
    "\n",
    "vet3.excluiVetorInt(3);\n",
    "std::cout << \"\\nVet3:\\n\";\n",
    "vet3.escritaVetorInt();\n",
    "\n",
    "vet3.excluiVetorInt(7);\n",
    "std::cout << \"\\nVet3:\\n\";\n",
    "vet3.escritaVetorInt();\n",
    "\n",
    "vet3.excluiVetorInt(10);\n",
    "std::cout << \"\\nVet3:\\n\";\n",
    "vet3.escritaVetorInt();\n",
    "\n",
    "vet3.excluiVetorInt(5);\n",
    "std::cout << \"\\nVet3:\\n\";\n",
    "vet3.escritaVetorInt();\n"
   ]
  },
  {
   "cell_type": "code",
   "execution_count": 19,
   "metadata": {},
   "outputs": [
    {
     "name": "stdout",
     "output_type": "stream",
     "text": [
      "\n",
      "Vet3:\n",
      "Os elementos que estão atualmente no vetor são:\n",
      "6 9 9 11 11 14 15 15 16 \n",
      "\n",
      "Qual elemento deseja localizar utilizando a pesquisa binaria?\n",
      "\n",
      "\n",
      "\n",
      "Elemento encontrado na posição 1"
     ]
    }
   ],
   "source": [
    "vet3.ordenaBolhaInt();\n",
    "std::cout << \"\\nVet3:\\n\";\n",
    "vet3.escritaVetorInt();\n",
    "\n",
    "std::cout << \"\\n\\nQual elemento deseja localizar utilizando a pesquisa binaria?\\n\\n\";\n",
    "elem = 9;\n",
    "\n",
    "pos= vet3.pesquisaBinariaInt(elem);\n",
    "if(pos >= 0) \n",
    "    std::cout << \"\\n\\nElemento encontrado na posição \" << pos;\n",
    "else \n",
    "    std::cout << \"\\n\\nElemento nao encontrado\\n\\n\";"
   ]
  },
  {
   "cell_type": "markdown",
   "metadata": {},
   "source": [
    "\n",
    "## Revisão de matriz\n",
    "\n",
    "Uma matriz e um tipo de dado composto homogêneo na qual seus elementos são organizados em uma estrutura multidimensional\n",
    "\n",
    "Sintaxe: \n",
    "<tipo_de_dados> <nome_da_matriz>[tam1] [tam2] ... [tamN];\n",
    "\n",
    "Definição de tamanho em tempo de execução x compilação\n",
    "\n",
    "Indexação (indice1 < tam1):\n",
    "<nome_da_matriz>[indice1] [indice2] ... [indiceN]\n",
    "\n",
    "### TAD Implementacional tMatrizInt\n",
    "\n",
    "O TAD tMatriz e composto pelos seguintes atributos: numero de linhas da matriz, numero de colunas da matriz e a estrutura que armazenara os elementos.\n"
   ]
  },
  {
   "cell_type": "code",
   "execution_count": 2,
   "metadata": {},
   "outputs": [],
   "source": [
    "#define MAX_DIM 5\n",
    "\n",
    "class tMatrizInt{\n",
    "    int valores[MAX_DIM][MAX_DIM];\n",
    "    int nLinhas;\n",
    "    int nColunas;\n",
    "public:\n",
    "    tMatrizInt();\n",
    "    tMatrizInt(int, int);\n",
    "    void atualizaMatriz(int linha, int coluna, int valor);\n",
    "    int acessaMatriz(int linha, int coluna);\n",
    "    void exibeMatriz();\n",
    "} ;"
   ]
  },
  {
   "cell_type": "code",
   "execution_count": 3,
   "metadata": {},
   "outputs": [],
   "source": [
    "// Operação Construtora\n",
    "tMatrizInt::tMatrizInt(){\n",
    "    nLinhas = 0; \n",
    "    nColunas = 0;\n",
    "}"
   ]
  },
  {
   "cell_type": "code",
   "execution_count": 4,
   "metadata": {},
   "outputs": [],
   "source": [
    "// Operação Construtora\n",
    "tMatrizInt::tMatrizInt(int nLinhas , int nColunas){\n",
    "    this->nLinhas = nLinhas; \n",
    "    this->nColunas = nColunas;\n",
    "    //Complete aqui para zerar todos os elementos da matriz\n",
    "}"
   ]
  },
  {
   "cell_type": "code",
   "execution_count": 5,
   "metadata": {},
   "outputs": [],
   "source": [
    "// Operação Modificadora\n",
    "void tMatrizInt::atualizaMatriz(int linha, int coluna, int valor){\n",
    "    if(( (linha >= 0) && (linha < nLinhas) )  && \n",
    "       ( (coluna >= 0) && (coluna < nColunas) )){\n",
    "        valores[linha][coluna] = valor;\n",
    "    }\n",
    "}"
   ]
  },
  {
   "cell_type": "code",
   "execution_count": 6,
   "metadata": {},
   "outputs": [],
   "source": [
    "// Operação Analisadora\n",
    "int tMatrizInt::acessaMatriz(int linha, int coluna){\n",
    "    if((linha >=0 && linha <nLinhas) && (coluna >=0 && coluna < nColunas))\n",
    "        return valores[linha][coluna];\n",
    "    else\n",
    "        return -1;\n",
    "}"
   ]
  },
  {
   "cell_type": "code",
   "execution_count": 7,
   "metadata": {},
   "outputs": [],
   "source": [
    "// Operação Analisadora\n",
    "void tMatrizInt::exibeMatriz(){ \n",
    "    for(int i=0; i < nLinhas; i++){\n",
    "        for(int j=0; j < nColunas; j++)\n",
    "            std::cout << valores[i][j];\n",
    "        std::cout << std::endl;\n",
    "    }\n",
    "}"
   ]
  },
  {
   "cell_type": "code",
   "execution_count": null,
   "metadata": {},
   "outputs": [],
   "source": [
    "// Operação Produtora\n",
    "int somaLinhaMatriz(tMatrizInt matriz , int linha){\n",
    "    int soma=0;\n",
    "    for(int i=0; i < matriz.nColunas; i++)\n",
    "        soma = soma + matriz.valores[linha][i];\n",
    "    return soma;\n",
    "}"
   ]
  },
  {
   "cell_type": "code",
   "execution_count": null,
   "metadata": {},
   "outputs": [],
   "source": [
    "// Operação Produtora\n",
    "int somaColunaMatriz(tMatrizInt matriz , int coluna){\n",
    "    int soma=0;\n",
    "    // complete aqui\n",
    "    return soma;\n",
    "}"
   ]
  },
  {
   "cell_type": "code",
   "execution_count": null,
   "metadata": {},
   "outputs": [],
   "source": [
    "tMatrizInt produtoEscalar(tMatrizInt matriz1 , tMatrizInt matriz2){\n",
    "    tMatrizInt produto;\n",
    "    if( matriz1.nColunas == matriz2.nLinhas ){         \n",
    "        for(int i=0; i < matriz1.nLinhas; i++){\n",
    "            for(int j=0; j < matriz2.nColunas; j++){ \n",
    "                produto.valores[i][j]=0;\n",
    "                for(int k=0; k < matriz1.nColunas; k++){\n",
    "                    produto.valores[i][j] += matriz1.valores[i][k] * matriz2.valores[k][j];\n",
    "                } \n",
    "            }\n",
    "        }\n",
    "        produto.nLinhas=matriz1.nLinhas;\n",
    "        produto.nColunas=matriz2.nColunas; \n",
    "    }else{\n",
    "        produto.nLinhas=produto.nColunas=0;\n",
    "    }\n",
    "    return produto; \n",
    "}"
   ]
  },
  {
   "cell_type": "markdown",
   "metadata": {},
   "source": [
    "## Exercícios Propostos\n",
    "\n",
    "- Fazer os exercícios propostos da Seção 6.6 da apostila de C (página 181) aplicando os conceitos de TAD em Matrizes quando possível.\n",
    "\n",
    "- Modifique a classe tMatrizInt para incluir as funções dentro da declaração da estrutura de dados e utilize o operador **this** para acessar os atributos de dentro das funções. Armazene a interface e a implementação da classe em dois arquivos separados, respectivamente, matriz.h e matriz.cpp."
   ]
  },
  {
   "cell_type": "code",
   "execution_count": 8,
   "metadata": {},
   "outputs": [
    {
     "name": "stdout",
     "output_type": "stream",
     "text": [
      "100\n",
      "010\n",
      "001\n"
     ]
    }
   ],
   "source": [
    "tMatrizInt I(3,3);\n",
    "for(int i=0; i<3; i++)\n",
    "    I.atualizaMatriz(i,i,1);\n",
    "I.exibeMatriz();"
   ]
  },
  {
   "cell_type": "code",
   "execution_count": null,
   "metadata": {},
   "outputs": [],
   "source": []
  }
 ],
 "metadata": {
  "kernelspec": {
   "display_name": "C++14",
   "language": "C++14",
   "name": "xeus-cling-cpp14"
  },
  "language_info": {
   "codemirror_mode": "text/x-c++src",
   "file_extension": ".cpp",
   "mimetype": "text/x-c++src",
   "name": "c++",
   "version": "14"
  }
 },
 "nbformat": 4,
 "nbformat_minor": 2
}
