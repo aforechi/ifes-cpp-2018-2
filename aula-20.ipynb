{
 "cells": [
  {
   "cell_type": "markdown",
   "metadata": {},
   "source": [
    "# Propriedades e Eventos em C++"
   ]
  },
  {
   "cell_type": "code",
   "execution_count": 1,
   "metadata": {},
   "outputs": [],
   "source": [
    "#include <exception>\n",
    "\n",
    "class Forno {\n",
    "public:\n",
    "    int temperatura() const {\n",
    "        return _temperatura;\n",
    "    }\n",
    "    void temperatura(const int &t) {\n",
    "        if (!(t >= 50 && t <= 250))\n",
    "            throw std::out_of_range(\"Temperatura deve estar entre 50 e 250 graus Celsius.\");\n",
    "        _temperatura = t;\n",
    "    }\n",
    "private:\n",
    "    int _temperatura;\n",
    "};"
   ]
  },
  {
   "cell_type": "code",
   "execution_count": 2,
   "metadata": {},
   "outputs": [],
   "source": [
    "Forno forno1;"
   ]
  },
  {
   "cell_type": "code",
   "execution_count": 3,
   "metadata": {},
   "outputs": [],
   "source": [
    "forno1.temperatura(50);"
   ]
  },
  {
   "cell_type": "code",
   "execution_count": 4,
   "metadata": {},
   "outputs": [
    {
     "ename": "Error",
     "evalue": "",
     "output_type": "error",
     "traceback": [
      "Error: "
     ]
    }
   ],
   "source": [
    "forno1.temperatura(30);"
   ]
  },
  {
   "cell_type": "code",
   "execution_count": 5,
   "metadata": {},
   "outputs": [
    {
     "name": "stdout",
     "output_type": "stream",
     "text": [
      "50"
     ]
    }
   ],
   "source": [
    "std::cout << forno1.temperatura();"
   ]
  },
  {
   "cell_type": "markdown",
   "metadata": {},
   "source": [
    "## Propriedades\n",
    "\n",
    "Propriedades podem ser implementadas nativamente em C++ através de classes anônimas e sobrecarga de operadores."
   ]
  },
  {
   "cell_type": "code",
   "execution_count": 6,
   "metadata": {},
   "outputs": [],
   "source": [
    "class FornoComPropriedades\n",
    "{\n",
    "    public:\n",
    "    class {\n",
    "        public:\n",
    "            operator int () const { return value; }\n",
    "\n",
    "            int & operator = (const int &t) { \n",
    "                if (!(t >= 50 && t <= 250))\n",
    "                    throw std::out_of_range(\"Temperatura deve estar entre 50 e 250 graus Celsius.\");\n",
    "                return value = t; \n",
    "            }\n",
    "        private:\n",
    "            int value;\n",
    "\n",
    "    } Temperatura;\n",
    "};"
   ]
  },
  {
   "cell_type": "code",
   "execution_count": 7,
   "metadata": {},
   "outputs": [],
   "source": [
    "FornoComPropriedades forno2;\n",
    "forno2.Temperatura = 50;"
   ]
  },
  {
   "cell_type": "code",
   "execution_count": 8,
   "metadata": {},
   "outputs": [
    {
     "ename": "Error",
     "evalue": "",
     "output_type": "error",
     "traceback": [
      "Error: "
     ]
    }
   ],
   "source": [
    "forno2.Temperatura = 30;"
   ]
  },
  {
   "cell_type": "code",
   "execution_count": 9,
   "metadata": {},
   "outputs": [
    {
     "name": "stdout",
     "output_type": "stream",
     "text": [
      "50"
     ]
    }
   ],
   "source": [
    "std::cout << forno2.Temperatura;"
   ]
  },
  {
   "cell_type": "markdown",
   "metadata": {},
   "source": [
    "### Definindo propriedades genéricas por meio de macros."
   ]
  },
  {
   "cell_type": "code",
   "execution_count": 14,
   "metadata": {},
   "outputs": [],
   "source": [
    "#define ATTRIBUTE(type) \\\n",
    "class { \\\n",
    "public: \\\n",
    "    operator type () const { return value; } \\\n",
    "    type & operator = (const type &t) { return value = t;} \\\n",
    "private: \\\n",
    "    type value; \\\n",
    "}"
   ]
  },
  {
   "cell_type": "code",
   "execution_count": 15,
   "metadata": {},
   "outputs": [],
   "source": [
    "class FornoComPropriedadesMacro\n",
    "{\n",
    "    public:\n",
    "    ATTRIBUTE(int) Temperatura;\n",
    "};"
   ]
  },
  {
   "cell_type": "code",
   "execution_count": 16,
   "metadata": {},
   "outputs": [
    {
     "name": "stdout",
     "output_type": "stream",
     "text": [
      "50"
     ]
    }
   ],
   "source": [
    "FornoComPropriedadesMacro forno3;\n",
    "forno3.Temperatura = 50;\n",
    "std::cout << forno3.Temperatura;"
   ]
  },
  {
   "cell_type": "markdown",
   "metadata": {},
   "source": [
    "### Definindo propriedades personalizadas com ajuda de friend\n",
    "\n",
    "Para que os métodos da classe/estrutura que contiver as propriedades possam acessar os membros privados da propriedade é necessário que as classes anônimas especifiquem um relacionamento **friend** com a classe container."
   ]
  },
  {
   "cell_type": "code",
   "execution_count": 10,
   "metadata": {},
   "outputs": [],
   "source": [
    "class FornoComPropriedadesAmigas\n",
    "{\n",
    "    public:\n",
    "    class {\n",
    "        friend class FornoComPropriedadesAmigas;\n",
    "        public:\n",
    "            operator int () const { return value; }\n",
    "\n",
    "            int & operator = (const int &t) { \n",
    "                if (!(t >= 50 && t <= 250))\n",
    "                    throw std::out_of_range(\"Temperatura deve estar entre 50 e 250 graus Celsius.\");\n",
    "                return value = t; \n",
    "            }\n",
    "        private:\n",
    "            int value;\n",
    "\n",
    "    } Temperatura;\n",
    "\n",
    "    float fahrenheit() const {\n",
    "        return Temperatura.value * 1.8f + 32.0f;\n",
    "    }\n",
    "    \n",
    "};"
   ]
  },
  {
   "cell_type": "code",
   "execution_count": 11,
   "metadata": {},
   "outputs": [],
   "source": [
    "FornoComPropriedadesAmigas forno4;\n",
    "forno4.Temperatura = 50;"
   ]
  },
  {
   "cell_type": "code",
   "execution_count": 12,
   "metadata": {},
   "outputs": [
    {
     "name": "stdout",
     "output_type": "stream",
     "text": [
      "122"
     ]
    }
   ],
   "source": [
    "std::cout << forno4.fahrenheit();"
   ]
  },
  {
   "cell_type": "markdown",
   "metadata": {},
   "source": [
    "### Definindo propriedades genéricas e personalizadas por meio de template\n",
    "\n",
    "Percebemos claramente uma maior facilidade e clareza ao se programar utilizando classes construidas com propriedades, porém é necessário mais do que apenas métodos **get** e **set**. Que poderiam ser encapsulados numa classe de propriedades genérica. Para isso, vamos nos utilizar de herança e um recurso conhecido como **template**."
   ]
  },
  {
   "cell_type": "code",
   "execution_count": 2,
   "metadata": {},
   "outputs": [],
   "source": [
    "template <typename T>\n",
    "class Property {\n",
    "public:\n",
    "    virtual ~Property() {}\n",
    "    virtual T & operator = (const T &f) { return value = f; }\n",
    "    virtual operator T const & () const { return value; }\n",
    "protected:\n",
    "    T value;\n",
    "};"
   ]
  },
  {
   "cell_type": "markdown",
   "metadata": {},
   "source": [
    "Agora podemos definir uma propriedade de qualquer tipo."
   ]
  },
  {
   "cell_type": "code",
   "execution_count": 3,
   "metadata": {},
   "outputs": [
    {
     "name": "stdout",
     "output_type": "stream",
     "text": [
      "50"
     ]
    }
   ],
   "source": [
    "Property<int> t;\n",
    "t = 50;\n",
    "std::cout << t;"
   ]
  },
  {
   "cell_type": "markdown",
   "metadata": {},
   "source": [
    "E para implementar métodos **get/set** personalizados basta usar herança."
   ]
  },
  {
   "cell_type": "code",
   "execution_count": 4,
   "metadata": {},
   "outputs": [],
   "source": [
    "class : public Property<int> {\n",
    "    public:\n",
    "    virtual int & operator = (const int &t) { \n",
    "        if (!(t >= 50 && t <= 250))\n",
    "            throw std::out_of_range(\"Temperatura deve estar entre 50 e 250 graus Celsius.\");\n",
    "\n",
    "        return value = t; \n",
    "    }\n",
    "} t2;"
   ]
  },
  {
   "cell_type": "code",
   "execution_count": 5,
   "metadata": {},
   "outputs": [
    {
     "ename": "Error",
     "evalue": "",
     "output_type": "error",
     "traceback": [
      "Error: "
     ]
    }
   ],
   "source": [
    "t2 = 50;\n",
    "t2 = 30;"
   ]
  },
  {
   "cell_type": "code",
   "execution_count": 6,
   "metadata": {},
   "outputs": [
    {
     "name": "stdout",
     "output_type": "stream",
     "text": [
      "50"
     ]
    }
   ],
   "source": [
    "std::cout << t2;"
   ]
  },
  {
   "cell_type": "code",
   "execution_count": 7,
   "metadata": {},
   "outputs": [],
   "source": [
    "class FornoComPropriedadesAmigasModelo {\n",
    "public:\n",
    "    class : public Property<int> { \n",
    "        friend class FornoComPropriedadesAmigasModelo; \n",
    "        public:\n",
    "        virtual int & operator = (const int &t) { \n",
    "            if (!(t >= 50 && t <= 250))\n",
    "                throw std::out_of_range(\"Temperatura deve estar entre 50 e 250 graus Celsius.\");\n",
    "\n",
    "            return value = t; \n",
    "        }\n",
    "\n",
    "    } Temperatura;\n",
    "    \n",
    "    float fahrenheit() const {\n",
    "        return Temperatura.value * 1.8f + 32.0f;\n",
    "    }\n",
    "    \n",
    "    FornoComPropriedadesAmigasModelo() { Temperatura.value = 50; }\n",
    "};"
   ]
  },
  {
   "cell_type": "code",
   "execution_count": 8,
   "metadata": {},
   "outputs": [],
   "source": [
    "FornoComPropriedadesAmigasModelo forno5;\n",
    "forno5.Temperatura = 100;"
   ]
  },
  {
   "cell_type": "code",
   "execution_count": 9,
   "metadata": {},
   "outputs": [
    {
     "name": "stdout",
     "output_type": "stream",
     "text": [
      "100"
     ]
    }
   ],
   "source": [
    "std::cout << forno5.Temperatura;"
   ]
  },
  {
   "cell_type": "markdown",
   "metadata": {},
   "source": [
    "## Eventos"
   ]
  },
  {
   "cell_type": "markdown",
   "metadata": {},
   "source": [
    "Vamos ver um exemplo de eventos no funcionamento de propriedades somente leitura. Ou seja, aquelas que não permitem modificar seus valores."
   ]
  },
  {
   "cell_type": "code",
   "execution_count": 11,
   "metadata": {},
   "outputs": [],
   "source": [
    "class EventInterface\n",
    "{\n",
    "public:\n",
    "    virtual void OnEvent(int) = 0;\n",
    "};"
   ]
  },
  {
   "cell_type": "code",
   "execution_count": 10,
   "metadata": {},
   "outputs": [],
   "source": [
    "template <typename T>\n",
    "class ReadOnlyProperty {\n",
    "public:\n",
    "    virtual ~ReadOnlyProperty() {}\n",
    "    virtual operator T const & () const { return value; }\n",
    "protected:\n",
    "    T value;\n",
    "};"
   ]
  },
  {
   "cell_type": "code",
   "execution_count": 12,
   "metadata": {},
   "outputs": [],
   "source": [
    "class FornoComPropriedadesAmigasModeloSomenteLeitura {\n",
    "public:\n",
    "    class : public Property<int> { \n",
    "        friend class FornoComPropriedadesAmigasModeloSomenteLeitura; \n",
    "        private:\n",
    "            EventInterface *aoAtualizarTemperatura;\n",
    "        public:\n",
    "        virtual int & operator = (const int &t) { \n",
    "            if (!(t >= 50 && t <= 250))\n",
    "                throw std::out_of_range(\"Temperatura deve estar entre 50 e 250 graus Celsius.\");\n",
    "            if (aoAtualizarTemperatura)\n",
    "                aoAtualizarTemperatura->OnEvent(t);\n",
    "            return value = t; \n",
    "        }\n",
    "\n",
    "    } Temperatura;\n",
    "\n",
    "    class : public ReadOnlyProperty<float>, EventInterface { \n",
    "        friend class FornoComPropriedadesAmigasModeloSomenteLeitura; \n",
    "        public:\n",
    "        virtual void OnEvent(int celsius) {\n",
    "            value = celsius * 1.8f + 32.0f;\n",
    "        }\n",
    "    } Fahrenheit;\n",
    "\n",
    "    FornoComPropriedadesAmigasModeloSomenteLeitura() { \n",
    "        Temperatura.aoAtualizarTemperatura = &Fahrenheit;\n",
    "        Temperatura = 50; \n",
    "    }\n",
    "};"
   ]
  },
  {
   "cell_type": "code",
   "execution_count": 13,
   "metadata": {},
   "outputs": [
    {
     "name": "stdout",
     "output_type": "stream",
     "text": [
      "122"
     ]
    }
   ],
   "source": [
    "FornoComPropriedadesAmigasModeloSomenteLeitura forno6;\n",
    "std::cout << forno6.Fahrenheit;"
   ]
  },
  {
   "cell_type": "markdown",
   "metadata": {},
   "source": [
    "### Definindo múltiplos eventos"
   ]
  },
  {
   "cell_type": "code",
   "execution_count": 21,
   "metadata": {},
   "outputs": [],
   "source": [
    "#include <vector>\n",
    "\n",
    "class FornoComPropriedadesMultiplas : public EventInterface {\n",
    "public:\n",
    "    class : public Property<int> { \n",
    "        friend class FornoComPropriedadesMultiplas; \n",
    "        private:\n",
    "            std::vector<EventInterface *> listaEventos;\n",
    "        public:\n",
    "        virtual int & operator = (const int &t) { \n",
    "            if (!(t >= 50 && t <= 250))\n",
    "                throw std::out_of_range(\"Temperatura deve estar entre 50 e 250 graus Celsius.\");\n",
    "            for (auto aoAtualizarTemperatura : listaEventos)\n",
    "                if (aoAtualizarTemperatura)\n",
    "                    aoAtualizarTemperatura->OnEvent(t);\n",
    "            return value = t; \n",
    "        }\n",
    "\n",
    "    } Temperatura;\n",
    "\n",
    "    class : public ReadOnlyProperty<float>, EventInterface { \n",
    "        friend class FornoComPropriedadesMultiplas; \n",
    "        public:\n",
    "        virtual void OnEvent(int celsius) {\n",
    "            value = celsius * 1.8f + 32.0f;\n",
    "        }\n",
    "    } Fahrenheit;\n",
    "\n",
    "    FornoComPropriedadesMultiplas() { \n",
    "        Temperatura.listaEventos.push_back(&Fahrenheit);\n",
    "        Temperatura.listaEventos.push_back(this);\n",
    "        Temperatura = 50; \n",
    "    }\n",
    "\n",
    "    virtual void OnEvent(int celsius) {\n",
    "        if (celsius >= 100)\n",
    "            std::cout << \"Temperatura acima de 100º C.\" ;\n",
    "    }\n",
    "};"
   ]
  },
  {
   "cell_type": "code",
   "execution_count": 22,
   "metadata": {},
   "outputs": [
    {
     "name": "stdout",
     "output_type": "stream",
     "text": [
      "122"
     ]
    }
   ],
   "source": [
    "FornoComPropriedadesMultiplas forno7;\n",
    "std::cout << forno7.Fahrenheit;"
   ]
  },
  {
   "cell_type": "code",
   "execution_count": 23,
   "metadata": {},
   "outputs": [
    {
     "name": "stdout",
     "output_type": "stream",
     "text": [
      "Temperatura acima de 100º C."
     ]
    }
   ],
   "source": [
    "forno7.Temperatura = 100;"
   ]
  },
  {
   "cell_type": "code",
   "execution_count": null,
   "metadata": {},
   "outputs": [],
   "source": []
  }
 ],
 "metadata": {
  "kernelspec": {
   "display_name": "C++14",
   "language": "C++14",
   "name": "xeus-cling-cpp14"
  },
  "language_info": {
   "codemirror_mode": "text/x-c++src",
   "file_extension": ".cpp",
   "mimetype": "text/x-c++src",
   "name": "c++",
   "version": "14"
  }
 },
 "nbformat": 4,
 "nbformat_minor": 2
}
