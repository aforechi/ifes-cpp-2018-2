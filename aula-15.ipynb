{
 "cells": [
  {
   "cell_type": "markdown",
   "metadata": {
    "slideshow": {
     "slide_type": "slide"
    }
   },
   "source": [
    "# Aula 15 - Classes: um exame mais profundo (parte 1/2)\n",
    "\n",
    "<div class=\"alert alert-block alert-success\">\n",
    "    <b>Capítulo 9 do livro: </b> \n",
    "    <p>DEITEL, Harvey M.; DEITEL, Paul J. C++: como programar. 5.ed. São Paulo: Prentice Hall, 2006.\n",
    "</div>\n",
    "\n",
    "## Objetivos\n",
    "\n",
    "Neste capítulo, você aprenderá:\n",
    "- A utilizar um empacotador de pré-processador para evitar múltiplos erros de definição causados pela inclusão de mais de uma cópia de um arquivo de cabeçalho em um arquivo de código-fonte.\n",
    "- A definir o escopo de classe e acessar membros de classe por meio do nome de um objeto, de uma referência a um objeto ou de um ponteiro para um objeto.\n",
    "- A definir construtores com argumentos-padrão.\n",
    "- Como os destrutores são utilizados para realizar uma ‘faxina de terminação’ em um objeto antes de ele ser destruído.\n",
    "- Quando construtores e destrutores são chamados e a ordem em que são chamados.\n",
    "- Os possíveis erros de lógica quando uma função-membro public de uma classe retorna uma referência a dados private.\n",
    "- A atribuir os membros de dados de um objeto àqueles de outro objeto por atribuição-padrão de membro a membro."
   ]
  },
  {
   "cell_type": "markdown",
   "metadata": {
    "slideshow": {
     "slide_type": "slide"
    }
   },
   "source": [
    "## 1 Introdução\n",
    "- Estudo de caso da classe Time integrado\n",
    "- Empacotador de pré-processador\n",
    "- Três tipos de ‘handles’ de um objeto\n",
    "    - Nome de um objeto\n",
    "    - Referência a um objeto\n",
    "    - Ponteiro para um objeto\n",
    "- Funções de classe\n",
    "    - Funções predicado\n",
    "    - Funções utilitárias"
   ]
  },
  {
   "cell_type": "markdown",
   "metadata": {
    "slideshow": {
     "slide_type": "slide"
    }
   },
   "source": [
    "## 1 Introdução (cont.)\n",
    "- Passando argumentos a construtores\n",
    "- Usando argumentos-padrão em um construtor\n",
    "- Destrutor\n",
    "    - Realiza uma ‘faxina de terminação’"
   ]
  },
  {
   "cell_type": "markdown",
   "metadata": {
    "slideshow": {
     "slide_type": "slide"
    }
   },
   "source": [
    "## 2 Estudo de caso da classe Time\n",
    "- Empacotador de pré-processadores\n",
    "    - Evita que o código seja incluído mais de uma vez.\n",
    "        <p>#ifndef – ‘se não definido’\n",
    "            - Pula esse código se já tiver sido incluído.\n",
    "        <p>#define\n",
    "            - Define um nome para que esse código não seja incluído novamente.\n",
    "        <p>#endif \n",
    "- Se o cabeçalho tiver sido incluído previamente\n",
    "    - O nome já será definido e o arquivo de cabeçalho não será novamente incluído.\n",
    "- Evita erros de múltiplas definições.\n",
    "- Exemplo\n",
    "    \n",
    "    <p>#ifndef TIME_H\n",
    "    <p>#define TIME_H \n",
    "    <p>// code\n",
    "    <p>#endif\n",
    "\n"
   ]
  },
  {
   "cell_type": "markdown",
   "metadata": {
    "slideshow": {
     "slide_type": "slide"
    }
   },
   "source": [
    "<img src=\"img/Picture98.png\" width=\"100%\" height=\"100%\">"
   ]
  },
  {
   "cell_type": "markdown",
   "metadata": {
    "slideshow": {
     "slide_type": "slide"
    }
   },
   "source": [
    "## Boa prática de programação 1\n",
    "Por questão de clareza e legibilidade, utilize cada especificador de acesso uma única vez em uma definição de classe. Coloque os membros public primeiro, num lugar em que sejam fáceis de encontrar.\n",
    "\n"
   ]
  },
  {
   "cell_type": "markdown",
   "metadata": {
    "slideshow": {
     "slide_type": "slide"
    }
   },
   "source": [
    "## Observação de engenharia de software 1\n",
    "Todo elemento de uma classe deve ter a visibilidade private, a menos que possa ser comprovado que o elemento precise de visibilidade public. Esse é outro exemplo do princípio do menor privilégio.\n",
    "\n"
   ]
  },
  {
   "cell_type": "markdown",
   "metadata": {
    "slideshow": {
     "slide_type": "slide"
    }
   },
   "source": [
    "## Dica de prevenção de erro 1\n",
    "Utilize diretivas de pré-processador #ifndef, #define e #endif para formar um empacotador de pré-processador que impede que os arquivos de cabeçalho sejam incluídos mais de uma vez em um programa.\n",
    "\n"
   ]
  },
  {
   "cell_type": "markdown",
   "metadata": {
    "slideshow": {
     "slide_type": "slide"
    }
   },
   "source": [
    "## Boa prática de programação 2\n",
    "Utilize o nome do arquivo do cabeçalho em caixa alta, substituindo o ponto por um sublinhado nas diretivas de pré-processador #ifndef e #define de um arquivo de cabeçalho.\n",
    "\n"
   ]
  },
  {
   "cell_type": "markdown",
   "metadata": {
    "slideshow": {
     "slide_type": "slide"
    }
   },
   "source": [
    "<img src=\"img/Picture99.png\" width=\"100%\" height=\"100%\">"
   ]
  },
  {
   "cell_type": "markdown",
   "metadata": {
    "slideshow": {
     "slide_type": "slide"
    }
   },
   "source": [
    "<img src=\"img/Picture100.png\" width=\"100%\" height=\"100%\">"
   ]
  },
  {
   "cell_type": "markdown",
   "metadata": {
    "slideshow": {
     "slide_type": "slide"
    }
   },
   "source": [
    "<img src=\"img/Picture101.png\" width=\"100%\" height=\"100%\">"
   ]
  },
  {
   "cell_type": "markdown",
   "metadata": {
    "slideshow": {
     "slide_type": "slide"
    }
   },
   "source": [
    "<img src=\"img/Picture102.png\" width=\"100%\" height=\"100%\">"
   ]
  },
  {
   "cell_type": "markdown",
   "metadata": {
    "slideshow": {
     "slide_type": "slide"
    }
   },
   "source": [
    "## Erro comum de programação 1\n",
    "Tentar inicializar explicitamente um membro de dados não-static de uma classe na definição de classe é um erro de sintaxe.\n",
    "\n"
   ]
  },
  {
   "cell_type": "markdown",
   "metadata": {
    "slideshow": {
     "slide_type": "slide"
    }
   },
   "source": [
    "## 2 Estudo de caso da classe Time ",
    " (cont.)\n",
    "- Manipulador de fluxo parametrizado setfill \n",
    "    - Especifica o caractere de preenchimento\n",
    "        - O qual é exibido quando um campo de saída é maior que o número de dígitos no valor de saída.\n",
    "        - Por padrão, os caracteres de preenchimento aparecem à esquerda dos dígitos no número.\n",
    "    - setfill é uma configuração ‘aderente’.\n",
    "        - Aplica-se a todos os valores subseqüentes que são exibidos nos campos maiores que o valor que está sendo exibido.\n"
   ]
  },
  {
   "cell_type": "markdown",
   "metadata": {
    "slideshow": {
     "slide_type": "slide"
    }
   },
   "source": [
    "## Dica de prevenção de erro 2\n",
    "Toda configuração aderente (como um caractere de preenchimento ou a precisão de ponto flutuante) deve ser restaurada à sua configuração anterior quando não for mais necessária. Se não o fizer, isso pode fazer com que posteriormente uma saída seja formatada incorretamente em um programa. O Capítulo 15, “Entrada/saída de fluxo”, mostra como redefinir o caractere de preenchimento e a precisão.\n"
   ]
  },
  {
   "cell_type": "markdown",
   "metadata": {
    "slideshow": {
     "slide_type": "slide"
    }
   },
   "source": [
    "## 2 Estudo de caso da classe Time ",
    " (cont.)\n",
    "- Função-membro declarada em uma definição de classe, mas definida fora dessa definição de classe\n",
    "    - Ainda se mantém no escopo da classe.\n",
    "    - É conhecida apenas por outros membros da classe, a menos que\n",
    "        - Seja referida por meio do objeto da classe.\n",
    "        - Referencie-se a um objeto da classe.\n",
    "        - Referencie-se por meio de um ponteiro para um objeto da classe.\n",
    "        - Referencie-se por meio de um operador binário de resolução de escopo.\n",
    "- Função-membro definida no corpo da definição de uma classe\n",
    "    - O compilador C++ tenta colocar inline as chamadas para a função-membro.\n",
    "\n"
   ]
  },
  {
   "cell_type": "markdown",
   "metadata": {
    "slideshow": {
     "slide_type": "slide"
    }
   },
   "source": [
    "## Dica de desempenho 1\n",
    "Definir uma função-membro dentro da definição de classe coloca a função-membro inline (se o compilador optar por fazer isso). Isso pode melhorar o desempenho.\n",
    "\n"
   ]
  },
  {
   "cell_type": "markdown",
   "metadata": {
    "slideshow": {
     "slide_type": "slide"
    }
   },
   "source": [
    "## Observação de engenharia de software 2\n",
    "Definir uma pequena função-membro dentro da definição de classe não melhora a engenharia do software, porque os clientes da classe serão capazes de ver a implementação da função, e o código-cliente deve ser recompilado se a definição de função mudar.\n",
    "\n"
   ]
  },
  {
   "cell_type": "markdown",
   "metadata": {
    "slideshow": {
     "slide_type": "slide"
    }
   },
   "source": [
    "## Observação de engenharia de software 3\n",
    "Apenas as funções-membro mais simples e mais estáveis (isto é, cujas implementações provavelmente não mudarão) devem ser definidas no cabeçalho de classe.\n",
    "\n"
   ]
  },
  {
   "cell_type": "markdown",
   "metadata": {
    "slideshow": {
     "slide_type": "slide"
    }
   },
   "source": [
    "## Observação de engenharia de software 4\n",
    "Utilizar freqüentemente uma abordagem de programação orientada a objetos pode simplificar chamadas de função e reduzir o número de parâmetros a serem passados. Esse benefício da programação orientada a objetos deve-se ao fato de que encapsular os membros de dados e as funções-membro dentro de um objeto dá às funções-membro o direito de acessar os membros de dados.\n",
    "\n"
   ]
  },
  {
   "cell_type": "markdown",
   "metadata": {
    "slideshow": {
     "slide_type": "slide"
    }
   },
   "source": [
    "## Observação de engenharia de software 5\n",
    "Em geral, as funções-membro são mais curtas do que as funções em programas não orientados a objeto, porque os dados armazenados em membros de dados foram idealmente validados por um construtor ou por funções-membro que armazenam novos dados. Como os dados já estão no objeto, as chamadas de função-membro em geral não têm argumentos ou no mínimo têm menos argumentos que as típicas chamadas de função em linguagens não orientadas a objeto. Portanto, as chamadas, as definições de função e os protótipos de função são menores. Isso facilita muitos aspectos do desenvolvimento de programas.\n",
    "\n"
   ]
  },
  {
   "cell_type": "markdown",
   "metadata": {
    "slideshow": {
     "slide_type": "slide"
    }
   },
   "source": [
    "## Dica de prevenção de erro 3\n",
    "O fato de as chamadas de função-membro geralmente não aceitarem argumentos ou aceitarem substancialmente menos argumentos do que as chamadas de função convencionais em linguagens não orientadas a objeto reduz a probabilidade de serem passados argumentos errados, tipos de argumentos errados ou número errado de argumentos.\n",
    "\n"
   ]
  },
  {
   "cell_type": "markdown",
   "metadata": {
    "slideshow": {
     "slide_type": "slide"
    }
   },
   "source": [
    "## 2 Estudo de caso da classe Time ",
    " (cont.)\n",
    "- Usando a classe Time\n",
    "    - Assim que definir uma classe Time, ela poderá ser usada em declarações\n",
    "        - Time sunset;\n",
    "        - Time arrayOfTimes[ 5 ];\n",
    "        - Time &dinnerTime = sunset;\n",
    "        - Time *timePtr = &dinnerTime;\n",
    "\n"
   ]
  },
  {
   "cell_type": "markdown",
   "metadata": {
    "slideshow": {
     "slide_type": "slide"
    }
   },
   "source": [
    "## Dica de desempenho 2\n",
    "Os objetos contêm apenas dados, portanto são muito menores do que se também contivessem funções-membro. Aplicar o operador sizeof a um nome de classe ou a um objeto dessa classe informará somente o tamanho dos membros de dados da classe. O compilador cria uma (única) cópia das funções-membro, separada de todos os objetos da classe. Todos os objetos da classe compartilham essa cópia única. Cada objeto precisa, naturalmente, de sua própria cópia dos dados da classe, porque os dados podem variar entre os objetos. O código de função é não modificável (também chamado de código reentrante ou procedure pura). Portanto, pode ser compartilhado entre todos os objetos de uma classe.\n",
    "\n"
   ]
  },
  {
   "cell_type": "markdown",
   "metadata": {
    "slideshow": {
     "slide_type": "slide"
    }
   },
   "source": [
    "## 3 Escopo de classe e acesso a membros de classe\n",
    "- O escopo de classe contém\n",
    "    - Membros de dados\n",
    "        - Variáveis declaradas na definição de classe.\n",
    "    - Funções-membro\n",
    "        - Funções declaradas na definição de classe.\n",
    "- As funções não-membro são definidas no escopo de arquivo.\n",
    "\n"
   ]
  },
  {
   "cell_type": "markdown",
   "metadata": {
    "slideshow": {
     "slide_type": "slide"
    }
   },
   "source": [
    "## 3 Escopo de classe e acesso a membros de classe (cont.)\n",
    "- Dentro do escopo de classe\n",
    "    - Os membros de classe podem ser acessados por todas as funções-membro.\n",
    "- Fora do escopo de classe\n",
    "    - Os membros de classe public são referenciados por meio de um handle.\n",
    "        - Um nome de objeto\n",
    "        - Uma referência a um objeto\n",
    "        - Um ponteiro para um objeto\n",
    "\n"
   ]
  },
  {
   "cell_type": "markdown",
   "metadata": {
    "slideshow": {
     "slide_type": "slide"
    }
   },
   "source": [
    "## 3 Escopo de classe e acesso a membros de classe (cont.)\n",
    "- Variáveis declaradas em uma função-membro\n",
    "    - Têm escopo de bloco.\n",
    "    - São conhecidas apenas por essa função.\n",
    "- Ocultando uma variável de escopo de classe\n",
    "    - Em uma função-membro, defina uma variável com o mesmo nome de uma variável com escopo de classe.\n",
    "    - Essa variável oculta pode ser acessada colocando o nome da classe seguido pelo operador de resolução de escopo (::) antes do nome da variável (::).\n",
    "\n"
   ]
  },
  {
   "cell_type": "markdown",
   "metadata": {
    "slideshow": {
     "slide_type": "slide"
    }
   },
   "source": [
    "## 3 Escopo de classe e acesso a membros de classe (cont.)\n",
    "- Operador de seleção de membro ponto (.) \n",
    "    - Acessa os membros do objeto.\n",
    "    - Usado com o nome de um objeto ou com uma referência a um objeto.\n",
    "- Operador de seleção de membro seta (->)\n",
    "    - Acessa os membros do objeto.\n",
    "    - Usado com um ponteiro para um objeto.\n",
    "\n"
   ]
  },
  {
   "cell_type": "markdown",
   "metadata": {
    "slideshow": {
     "slide_type": "slide"
    }
   },
   "source": [
    "<img src=\"img/Picture103.png\" width=\"100%\" height=\"100%\">"
   ]
  },
  {
   "cell_type": "markdown",
   "metadata": {
    "slideshow": {
     "slide_type": "slide"
    }
   },
   "source": [
    "<img src=\"img/Picture104.png\" width=\"100%\" height=\"100%\">"
   ]
  },
  {
   "cell_type": "markdown",
   "metadata": {
    "slideshow": {
     "slide_type": "slide"
    }
   },
   "source": [
    "## 4 Separando a interface da implementação\n",
    "- Separando uma definição de classe e as definições de função-membro da classe\n",
    "    - Facilita a modificação de programas.\n",
    "        - Mudanças na implementação da classe não afetam o cliente, visto que a interface da classe permanece inalterada.\n",
    "    - As coisas não são tão promissoras assim.\n",
    "        - Os arquivos de cabeçalho contêm algumas partes da implementação e dicas sobre outras.\n",
    "            - As funções inline precisam ser definidas no arquivo de cabeçalho.\n",
    "            - O membros private são listados na definição de classe no arquivo de cabeçalho.\n",
    "\n"
   ]
  },
  {
   "cell_type": "markdown",
   "metadata": {
    "slideshow": {
     "slide_type": "slide"
    }
   },
   "source": [
    "## Observação de engenharia de software 6\n",
    "Os clientes de uma classe não precisam de acesso ao código-fonte da classe para utilizá-la. Entretanto, precisam de fato ser capazes de se vincular ao código-objeto da classe (isto é, à versão compilada da classe). Isso estimula os fornecedores de softwares independentes (independent software vendors – ISVs) a comercializar ou licenciar bibliotecas de classes. Os ISVs fornecem em seus produtos somente os arquivos de cabeçalho e os módulos dos objetos. Informações ‘não-proprietárias’ (isto é, não patenteadas) são reveladas — como seria o caso se o código-fonte fosse fornecido. A comunidade de usuários do C++ se beneficia com um número maior de bibliotecas de classes produzidas e disponibilizadas por ISVs."
   ]
  },
  {
   "cell_type": "markdown",
   "metadata": {
    "slideshow": {
     "slide_type": "slide"
    }
   },
   "source": [
    "## Observação de engenharia de software 7\n",
    "As informações importantes para a interface para uma classe devem ser incluídas no arquivo de cabeçalho. As informações que só serão utilizadas internamente na classe e não serão necessárias aos clientes da classe devem ser incluídas no arquivo-fonte não publicado. Esse é também outro exemplo do princípio do menor privilégio."
   ]
  },
  {
   "cell_type": "markdown",
   "metadata": {
    "slideshow": {
     "slide_type": "slide"
    }
   },
   "source": [
    "## 5 Funções de acesso e funções utilitárias\n",
    "- Funções de acesso\n",
    "    - Podem ler ou exibir dados.\n",
    "    - Podem testar a veracidade ou falsidade das condições.\n",
    "        - Essas funções, em geral, são chamadas de funções predicado.\n",
    "        - Por exemplo, a função isEmpty de uma classe capaz de manter vários objetos.\n",
    "- Funções utilitárias (também chamadas de funções auxiliares)\n",
    "    - Funções-membro private que suportam a operação das funções-membro public da classe.\n",
    "    - Não fazem parte da interface public da classe.\n",
    "        - Não são projetadas para ser usadas pelos clientes de uma classe.\n",
    "\n"
   ]
  },
  {
   "cell_type": "markdown",
   "metadata": {
    "slideshow": {
     "slide_type": "slide"
    }
   },
   "source": [
    "<img src=\"img/Picture105.png\" width=\"100%\" height=\"100%\">"
   ]
  },
  {
   "cell_type": "markdown",
   "metadata": {
    "slideshow": {
     "slide_type": "slide"
    }
   },
   "source": [
    "<img src=\"img/Picture106.png\" width=\"100%\" height=\"100%\">"
   ]
  },
  {
   "cell_type": "markdown",
   "metadata": {
    "slideshow": {
     "slide_type": "slide"
    }
   },
   "source": [
    "<img src=\"img/Picture107.png\" width=\"100%\" height=\"100%\">"
   ]
  },
  {
   "cell_type": "markdown",
   "metadata": {
    "slideshow": {
     "slide_type": "slide"
    }
   },
   "source": [
    "<img src=\"img/Picture108.png\" width=\"100%\" height=\"100%\">"
   ]
  },
  {
   "cell_type": "markdown",
   "metadata": {
    "slideshow": {
     "slide_type": "slide"
    }
   },
   "source": [
    "<img src=\"img/Picture109.png\" width=\"100%\" height=\"100%\">"
   ]
  },
  {
   "cell_type": "markdown",
   "metadata": {
    "slideshow": {
     "slide_type": "slide"
    }
   },
   "source": [
    "## Observação de engenharia de software 8\n",
    "Um fenômeno da programação orientada a objetos é que, uma vez que uma classe é definida, a criação e a manipulação de objetos dessa classe em geral requer que se emita apenas uma seqüência simples de chamadas de função-membro — poucas instruções de controle, se houver, são necessárias. Entretanto, é comum ter instruções de controle na implementação de funções-membro de uma classe.\n",
    "\n"
   ]
  },
  {
   "cell_type": "markdown",
   "metadata": {
    "slideshow": {
     "slide_type": "slide"
    }
   },
   "source": [
    "## 6 Estudo de caso da classe Time: construtores com argumentos-padrão\n",
    "- Os construtores podem especificar argumentos-padrão\n",
    "    - Podem inicializar membros de dados em um estado consistente.\n",
    "        - Mesmo se não for fornecido nenhum valor em uma chamada de construtor.\n",
    "    - O construtor que assume um padrão para todos os seus argumentos é também chamado de construtor-padrão.\n",
    "        - Pode ser invocado sem nenhum argumento.\n",
    "        - É possível existir no máximo um construtor-padrão por classe.\n",
    "\n"
   ]
  },
  {
   "cell_type": "markdown",
   "metadata": {
    "slideshow": {
     "slide_type": "slide"
    }
   },
   "source": [
    "<img src=\"img/Picture110.png\" width=\"100%\" height=\"100%\">"
   ]
  },
  {
   "cell_type": "markdown",
   "metadata": {
    "slideshow": {
     "slide_type": "slide"
    }
   },
   "source": [
    "<img src=\"img/Picture111.png\" width=\"100%\" height=\"100%\">"
   ]
  },
  {
   "cell_type": "markdown",
   "metadata": {
    "slideshow": {
     "slide_type": "slide"
    }
   },
   "source": [
    "<img src=\"img/Picture112.png\" width=\"100%\" height=\"100%\">"
   ]
  },
  {
   "cell_type": "markdown",
   "metadata": {
    "slideshow": {
     "slide_type": "slide"
    }
   },
   "source": [
    "<img src=\"img/Picture113.png\" width=\"100%\" height=\"100%\">"
   ]
  },
  {
   "cell_type": "markdown",
   "metadata": {
    "slideshow": {
     "slide_type": "slide"
    }
   },
   "source": [
    "<img src=\"img/Picture114.png\" width=\"100%\" height=\"100%\">"
   ]
  },
  {
   "cell_type": "markdown",
   "metadata": {
    "slideshow": {
     "slide_type": "slide"
    }
   },
   "source": [
    "## Observação de engenharia de software 9\n",
    "Se a função-membro de uma classe já fornecer toda ou parte da funcionalidade requerida por um construtor (ou por outra função-membro) da classe, chame essa função-membro por meio do construtor (ou de outra função-membro). Isso simplifica a manutenção do código e reduz a probabilidade de erro se a implementação do código for modificada. Via de regra, evite a repetição de código.\n",
    "Observação de engenharia de software 9.10\n",
    "Qualquer alteração nos valores de argumento-padrão de uma função exige que o código-cliente seja recompilado (para assegurar que o programa permaneça funcionando corretamente)."
   ]
  },
  {
   "cell_type": "markdown",
   "metadata": {
    "slideshow": {
     "slide_type": "slide"
    }
   },
   "source": [
    "<img src=\"img/Picture115.png\" width=\"100%\" height=\"100%\">"
   ]
  },
  {
   "cell_type": "markdown",
   "metadata": {
    "slideshow": {
     "slide_type": "slide"
    }
   },
   "source": [
    "<img src=\"img/Picture116.png\" width=\"100%\" height=\"100%\">"
   ]
  },
  {
   "cell_type": "markdown",
   "metadata": {
    "slideshow": {
     "slide_type": "slide"
    }
   },
   "source": [
    "<img src=\"img/Picture117.png\" width=\"100%\" height=\"100%\">"
   ]
  },
  {
   "cell_type": "markdown",
   "metadata": {
    "slideshow": {
     "slide_type": "slide"
    }
   },
   "source": [
    "## Erro comum de programação 2\n",
    "Um construtor pode chamar outras funções-membro da classe, como as funções set e get, mas, como ele está inicializando o objeto, os membros de dados talvez ainda não estejam em um estado consistente. Utilizar os membros de dados antes de serem adequadamente inicializados pode provocar erros de lógica.\n",
    "\n"
   ]
  },
  {
   "cell_type": "markdown",
   "metadata": {
    "slideshow": {
     "slide_type": "slide"
    }
   },
   "source": [
    "## 7 Destrutores\n",
    "- Destrutor \n",
    "    - Uma função-membro especial.\n",
    "    - O nome é o caractere til (~) seguido pelo nome da classe, por exemplo, ~Time.\n",
    "    - É chamado implicitamente quando um objeto é destruído.\n",
    "        - Por exemplo, isso ocorre quando um objeto automático é destruído porque a execução do programa deixou o escopo no qual esse objeto estava instanciado.\n",
    "    - Na verdade, não libera a memória do objeto.\n",
    "        - Realiza uma faxina de terminação.\n",
    "        - Em seguida, o sistema reivindica a memória do objeto.\n",
    "            - De modo que a memória pode ser reutilizada para abrigar novos objetos.\n",
    "\n"
   ]
  },
  {
   "cell_type": "markdown",
   "metadata": {
    "slideshow": {
     "slide_type": "slide"
    }
   },
   "source": [
    "## 7 Destrutores (cont.)\n",
    "- Destrutor (cont.)\n",
    "    - Não recebe nenhum parâmetro e não retorna nenhum valor.\n",
    "        - Talvez não especifique nenhum tipo de retorno — nem mesmo void.\n",
    "    - Uma classe pode ter um único destrutor.\n",
    "        - A sobrecarga de destrutores não é permitida.\n",
    "    - Se o programador não fornecer um destrutor explicitamente, o compilador criará um destrutor ‘vazio’.\n",
    "\n"
   ]
  },
  {
   "cell_type": "markdown",
   "metadata": {
    "slideshow": {
     "slide_type": "slide"
    }
   },
   "source": [
    "## Erro comum de programação 3\n",
    "É um erro de sintaxe tentar passar argumentos para um destrutor, especificar um tipo de retorno para um destrutor (mesmo void não pode ser especificado), retornar valores de um destrutor ou sobrecarregar um destrutor.\n",
    "\n"
   ]
  },
  {
   "cell_type": "markdown",
   "metadata": {
    "slideshow": {
     "slide_type": "slide"
    }
   },
   "source": [
    "## Observação de engenharia de software 11\n",
    "Como veremos no restante do livro, construtores e destrutores têm uma proeminência muito maior em C++ e na programação orientada a objetos do que a ensinada aqui apenas com a nossa breve introdução.\n",
    "\n"
   ]
  },
  {
   "cell_type": "markdown",
   "metadata": {
    "slideshow": {
     "slide_type": "slide"
    }
   },
   "source": [
    "## 8 Quando construtores e destrutores são chamados\n",
    "- Construtores e destrutores\n",
    "    - São chamados implicitamente pelo compilador.\n",
    "        - A ordem dessas chamadas de função depende da ordem segundo a qual a execução entra e sai dos escopos em que os objetos estão instanciados.\n",
    "    - Geralmente,\n",
    "        - As chamadas de destrutor são feitas na ordem inversa às chamadas de construtor correspondentes.\n",
    "    - Entretanto,\n",
    "        - As classes de armazenamento de objetos podem alterar a ordem segundo a qual os destrutores são chamados.\n",
    "\n"
   ]
  },
  {
   "cell_type": "markdown",
   "metadata": {
    "slideshow": {
     "slide_type": "slide"
    }
   },
   "source": [
    "## 8 Quando construtores e destrutores são chamados (cont.)\n",
    "- Para os objetos definidos no escopo global\n",
    "    - Os construtores são chamados antes que qualquer outra função (incluindo main) nesse arquivo inicie a execução.\n",
    "    - Os destrutores correspondentes são chamados quando main termina.\n",
    "        - Função exit \n",
    "            - Força um programa a terminar imediatamente.\n",
    "                - Não executa os destrutores de objetos automáticos.\n",
    "            - Em geral, é usada para terminar um programa quando é detectado um erro.\n",
    "        - Função abort \n",
    "            - É semelhante à função exit.\n",
    "                - Mas força o programa a terminar imediatamente sem permitir que os destrutores de qualquer objeto sejam chamados.\n",
    "            - Normalmente, é usada para indicar uma terminação anormal do programa.\n",
    "\n"
   ]
  },
  {
   "cell_type": "markdown",
   "metadata": {
    "slideshow": {
     "slide_type": "slide"
    }
   },
   "source": [
    "## 8 Quando construtores e destrutores são chamados (cont.)\n",
    "- Para um objeto local automático\n",
    "    - O construtor é chamado quando esse objeto é definido.\n",
    "    - O destrutor correspondente é chamado quando a execução sai do escopo do objeto.\n",
    "- Para objetos automáticos\n",
    "    - Os construtores e destrutores são chamados toda vez que a execução entra e sai do escopo do objeto.\n",
    "    - Os destrutores de objeto automático não serão chamados se o programa terminar com uma função exit ou abort.\n",
    "\n"
   ]
  },
  {
   "cell_type": "markdown",
   "metadata": {
    "slideshow": {
     "slide_type": "slide"
    }
   },
   "source": [
    "## 8 Quando construtores e destrutores são chamados (cont.)\n",
    "- Para um objeto local static\n",
    "    - O construtor é chamado uma única vez\n",
    "        - Quando a execução atinge pela primeira vez o local em que o objeto é definido.\n",
    "    - O destrutor é chamado quando main termina ou o programa chama a função exit.\n",
    "        - O destrutor não será chamado se o programa terminar com uma chamada para a função abort. \n",
    "- Os objetos global e static são destruídos na ordem inversa à que foram criados.\n",
    "\n"
   ]
  },
  {
   "cell_type": "markdown",
   "metadata": {
    "slideshow": {
     "slide_type": "slide"
    }
   },
   "source": [
    "<img src=\"img/Picture118.png\" width=\"100%\" height=\"100%\">"
   ]
  },
  {
   "cell_type": "markdown",
   "metadata": {
    "slideshow": {
     "slide_type": "slide"
    }
   },
   "source": [
    "<img src=\"img/Picture119.png\" width=\"100%\" height=\"100%\">"
   ]
  },
  {
   "cell_type": "markdown",
   "metadata": {
    "slideshow": {
     "slide_type": "slide"
    }
   },
   "source": [
    "<img src=\"img/Picture120.png\" width=\"100%\" height=\"100%\">"
   ]
  },
  {
   "cell_type": "markdown",
   "metadata": {
    "slideshow": {
     "slide_type": "slide"
    }
   },
   "source": [
    "<img src=\"img/Picture121.png\" width=\"100%\" height=\"100%\">"
   ]
  },
  {
   "cell_type": "markdown",
   "metadata": {
    "slideshow": {
     "slide_type": "slide"
    }
   },
   "source": [
    "<img src=\"img/Picture122.png\" width=\"100%\" height=\"100%\">"
   ]
  },
  {
   "cell_type": "markdown",
   "metadata": {
    "slideshow": {
     "slide_type": "slide"
    }
   },
   "source": [
    "## 9 Estudo de caso da classe Time: uma armadilha sutil — retornar uma referência a um membro de dados private\n",
    "- Retornando uma referência a um objeto\n",
    "    - Alias para o nome de um objeto\n",
    "        - Um lvalue aceitável que pode receber um valor.\n",
    "            - Pode ser usado no lado esquerdo de uma instrução de atribuição.\n",
    "        - Se uma função retornar uma referência const\n",
    "            - Essa referência não poderá ser usada como um lvalue modificável.\n",
    "    - Uma forma (arriscada) de usar essa capacidade\n",
    "        - Uma função-membro public de uma classe retorna uma referência a um membro de dados private dessa classe.\n",
    "            - O código-cleinte poderia alterar os dados private.\n",
    "            - O mesmo problema ocorreria se retornasse um ponteiro para dados private.\n",
    "\n"
   ]
  },
  {
   "cell_type": "markdown",
   "metadata": {
    "slideshow": {
     "slide_type": "slide"
    }
   },
   "source": [
    "<img src=\"img/Picture123.png\" width=\"100%\" height=\"100%\">"
   ]
  },
  {
   "cell_type": "markdown",
   "metadata": {
    "slideshow": {
     "slide_type": "slide"
    }
   },
   "source": [
    "<img src=\"img/Picture124.png\" width=\"100%\" height=\"100%\">"
   ]
  },
  {
   "cell_type": "markdown",
   "metadata": {
    "slideshow": {
     "slide_type": "slide"
    }
   },
   "source": [
    "<img src=\"img/Picture125.png\" width=\"100%\" height=\"100%\">"
   ]
  },
  {
   "cell_type": "markdown",
   "metadata": {
    "slideshow": {
     "slide_type": "slide"
    }
   },
   "source": [
    "<img src=\"img/Picture126.png\" width=\"100%\" height=\"100%\">"
   ]
  },
  {
   "cell_type": "markdown",
   "metadata": {
    "slideshow": {
     "slide_type": "slide"
    }
   },
   "source": [
    "<img src=\"img/Picture127.png\" width=\"100%\" height=\"100%\">"
   ]
  },
  {
   "cell_type": "markdown",
   "metadata": {
    "slideshow": {
     "slide_type": "slide"
    }
   },
   "source": [
    "## Dica de prevenção de erro 4\n",
    "Retornar uma referência ou um ponteiro para um membro de dados private quebra o encapsulamento da classe e faz com que o  código-cliente fique dependente da representação dos dados da classe. Portanto, retornar ponteiros ou referências aos dados private é uma prática perigosa que deve ser evitada.\n",
    "\n"
   ]
  },
  {
   "cell_type": "markdown",
   "metadata": {
    "slideshow": {
     "slide_type": "slide"
    }
   },
   "source": [
    "## 10 Atribuição-padrão de membro a membro\n",
    "- Atribuição-padrão de membro a membro\n",
    "    - Operador de atribuição (=)\n",
    "        - Pode ser usado para atribuir um objeto a outro objeto do mesmo tipo.\n",
    "            - Cada membro de dados do objeto à direita é atribuído ao mesmo membro de dados do objeto à esquerda.\n",
    "    - Isso pode provocar sérios problemas quando os membros de dados contêm ponteiros para a memória alocada dinamicamente.\n",
    "\n"
   ]
  },
  {
   "cell_type": "markdown",
   "metadata": {
    "slideshow": {
     "slide_type": "slide"
    }
   },
   "source": [
    "<img src=\"img/Picture128.png\" width=\"100%\" height=\"100%\">"
   ]
  },
  {
   "cell_type": "markdown",
   "metadata": {
    "slideshow": {
     "slide_type": "slide"
    }
   },
   "source": [
    "<img src=\"img/Picture129.png\" width=\"100%\" height=\"100%\">"
   ]
  },
  {
   "cell_type": "markdown",
   "metadata": {
    "slideshow": {
     "slide_type": "slide"
    }
   },
   "source": [
    "<img src=\"img/Picture130.png\" width=\"100%\" height=\"100%\">"
   ]
  },
  {
   "cell_type": "markdown",
   "metadata": {
    "slideshow": {
     "slide_type": "slide"
    }
   },
   "source": [
    "## 10 Atribuição-padrão de membro a membro (cont.)\n",
    "- Construtor de cópia\n",
    "    - Permite que os objetos sejam passados por valor.\n",
    "        - É usado para copiar valores originais do objeto em um novo objeto passado a uma função ou que retornou de uma função.\n",
    "    - O compilador fornece um construtor-padrão de cópia.\n",
    "        - Copia cada membro do objeto original no membro correspondente do novo objeto (ou seja, é uma atribuição de membro a membro).\n",
    "    - Também pode provocar sérios problemas quando os membros de dados contêm ponteiros para memória alocada dinamicamente.\n",
    "\n"
   ]
  },
  {
   "cell_type": "markdown",
   "metadata": {
    "slideshow": {
     "slide_type": "slide"
    }
   },
   "source": [
    "## Dica de desempenho 3\n",
    "A passagem de um objeto por valor é adequada do ponto de vista de segurança, porque a função chamada não tem acesso ao objeto original no chamador, mas pode diminuir o desempenho ao fazer uma cópia de um objeto grande. É possível passar um objeto por referência passando um ponteiro ou uma referência ao objeto. A passagem por referência oferece bom desempenho, mas menor segurança, porque a função chamada recebe acesso ao objeto original. A passagem por referência const é uma alternativa segura de bom desempenho (pode ser implementada com um parâmetro de referência const ou com um parâmetro de ponteiro para dados const).\n",
    "\n"
   ]
  },
  {
   "cell_type": "markdown",
   "metadata": {
    "slideshow": {
     "slide_type": "slide"
    }
   },
   "source": [
    "## 11 Reusabilidade de software\n",
    "- Existem várias bibliotecas de classe importantes e outras estão sendo desenvolvidas ao redor do mundo.\n",
    "- Cada vez mais os softwares estão sendo construídos com componentes já existentes que são bem definidos, são testados cuidadosamente, são bem documentados e podem ser facilmente encontrados.\n",
    "- Desenvolvimento rápido de aplicativos (RAD)\n",
    "    - Permite o desenvolvimento mais rápido de softwares poderosos e de alta qualidade por meio de mecanismos de componentes reutilizáveis.\n",
    "\n"
   ]
  },
  {
   "cell_type": "markdown",
   "metadata": {
    "slideshow": {
     "slide_type": "slide"
    }
   },
   "source": [
    "## 11 Reusabilidade de software (cont.)\n",
    "- Os problemas são solucionados antes da reutilização do software.\n",
    "    - Esquemas de catalogação.\n",
    "    - Esquemas de licenciamento.\n",
    "    - Mecanismos de proteção para que as cópias-mestre das classes não sejam corrompidas.\n",
    "    - Esquemas de descrição para que os designers de novos sistemas possam determinar com facilidade se os objetos já existentes atendem às suas necessidades.\n",
    "    - Mecanismos de navegação para determinar que classes estão disponíveis e até que ponto atendem aos requisitos do desenvolvedor do software. \n",
    "    - Problemas de pesquisa e desenvolvimento.\n",
    "- Grande motivação para solucionar esses problemas.\n",
    "    - O valor em potencial de suas solução é enorme.\n",
    "\n"
   ]
  }
 ],
 "metadata": {
  "kernelspec": {
   "display_name": "C++14",
   "language": "C++14",
   "name": "xeus-cling-cpp14"
  },
  "language_info": {
   "codemirror_mode": "text/x-c++src",
   "file_extension": ".cpp",
   "mimetype": "text/x-c++src",
   "name": "c++",
   "version": "14"
  }
 },
 "nbformat": 4,
 "nbformat_minor": 2
}
