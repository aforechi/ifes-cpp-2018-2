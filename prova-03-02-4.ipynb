{
 "cells": [
  {
   "cell_type": "code",
   "execution_count": null,
   "metadata": {},
   "outputs": [],
   "source": [
    "#include <iostream>\n",
    "using namespace std;\n",
    "\n",
    "class Account {\n",
    "public:\n",
    "   Account( double ); // constructor initializes balance\n",
    "   virtual void credit( double ); // add an amount to the account balance\n",
    "   virtual bool debit( double ); // subtract an amount from the account balance\n",
    "   void setBalance( double ); // sets the account balance\n",
    "   double getBalance(); // return the account balance\n",
    "private:\n",
    "   double balance; // data member that stores the balance\n",
    "}; // end class Account"
   ]
  },
  {
   "cell_type": "code",
   "execution_count": null,
   "metadata": {},
   "outputs": [],
   "source": [
    "// Account constructor initializes data member balance\n",
    "Account::Account( double initialBalance )\n",
    "{\n",
    "    if ( initialBalance >= 0.0 )\n",
    "        balance = initialBalance;\n",
    "    else // otherwise, output message and set balance to 0.0\n",
    "    {\n",
    "        cout << \"Error: Initial balance cannot be negative.\" << endl;\n",
    "        balance = 0.0;\n",
    "    }\n",
    "}"
   ]
  },
  {
   "cell_type": "code",
   "execution_count": null,
   "metadata": {},
   "outputs": [],
   "source": [
    "// credit (add) an amount to the account balance\n",
    "void Account::credit( double amount )\n",
    "{\n",
    "    balance = balance + amount; // add amount to balance\n",
    "} // end function credit"
   ]
  },
  {
   "cell_type": "code",
   "execution_count": null,
   "metadata": {},
   "outputs": [],
   "source": [
    "// debit (subtract) an amount from the account balance\n",
    "// return bool indicating whether money was debited\n",
    "bool Account::debit( double amount )\n",
    "{\n",
    "    if ( amount > balance ) // debit amount exceeds balance\n",
    "    {\n",
    "        cout << \"Debit amount exceeded account balance.\" << endl;\n",
    "        return false;\n",
    "    }//endif\n",
    "    else // debit amount does not exceed balance\n",
    "    {\n",
    "        balance = balance - amount;\n",
    "        return true;\n",
    "    }\n",
    "}//"
   ]
  },
  {
   "cell_type": "code",
   "execution_count": null,
   "metadata": {},
   "outputs": [],
   "source": [
    "// set the account balance\n",
    "void Account::setBalance( double newBalance )\n",
    "{\n",
    "    balance = newBalance;\n",
    "} // end function setBalance"
   ]
  },
  {
   "cell_type": "code",
   "execution_count": null,
   "metadata": {},
   "outputs": [],
   "source": [
    "// return the account balance\n",
    "double Account::getBalance()\n",
    "{\n",
    "    return balance;\n",
    "} // end function getBalance"
   ]
  },
  {
   "cell_type": "code",
   "execution_count": null,
   "metadata": {},
   "outputs": [],
   "source": [
    "class SavingsAccount : public Account\n",
    "{\n",
    "public:\n",
    "   // constructor initializes balance and interest rate\n",
    "   SavingsAccount( double, double );\n",
    "   double calculateInterest(); // determine interest owed\n",
    "private:\n",
    "   double interestRate; // interest rate (percentage) earned by account\n",
    "}; // end class SavingsAccount"
   ]
  },
  {
   "cell_type": "code",
   "execution_count": null,
   "metadata": {},
   "outputs": [],
   "source": [
    "// constructor initializes balance and interest rate\n",
    "SavingsAccount::SavingsAccount( double initialBalance, double rate ) \n",
    ": Account( initialBalance ) // initialize base class\n",
    "{\n",
    "    interestRate = ( rate < 0.0 ) ? 0.0 : rate; // set interestRate\n",
    "} // end SavingsAccount constructor"
   ]
  },
  {
   "cell_type": "code",
   "execution_count": null,
   "metadata": {},
   "outputs": [],
   "source": [
    "// return the amount of interest earned\n",
    "double SavingsAccount::calculateInterest()\n",
    "{\n",
    "   return getBalance() * interestRate;\n",
    "} // end function calculateInterest"
   ]
  },
  {
   "cell_type": "code",
   "execution_count": null,
   "metadata": {},
   "outputs": [],
   "source": [
    "class CheckingAccount : public Account\n",
    "{\n",
    "public:\n",
    "// constructor initializes balance and transaction fee\n",
    "    CheckingAccount( double, double );\n",
    "    virtual void credit( double ); // redefined credit function\n",
    "    virtual bool debit( double ); // redefined debit function\n",
    "private:\n",
    "    double transactionFee; // fee charged per transaction\n",
    "    // utility function to charge fee\n",
    "    void chargeFee();\n",
    "}; // end"
   ]
  },
  {
   "cell_type": "code",
   "execution_count": null,
   "metadata": {},
   "outputs": [],
   "source": [
    "// constructor initializes balance and transaction fee\n",
    "CheckingAccount::CheckingAccount( double initialBalance, double fee )\n",
    ": Account( initialBalance ) // initialize base class\n",
    "{\n",
    "    transactionFee = ( fee < 0.0 ) ? 0.0 : fee; // set transaction fee\n",
    "} // end CheckingAccount constructor"
   ]
  },
  {
   "cell_type": "code",
   "execution_count": null,
   "metadata": {},
   "outputs": [],
   "source": [
    "// credit (add) an amount to the account balance and charge fee\n",
    "void CheckingAccount::credit( double amount )\n",
    "{\n",
    "    Account::credit( amount ); // always succeeds\n",
    "    chargeFee();\n",
    "} // end function credit"
   ]
  },
  {
   "cell_type": "code",
   "execution_count": null,
   "metadata": {},
   "outputs": [],
   "source": [
    "// debit (subtract) an amount from the account balance and charge fee\n",
    "bool CheckingAccount::debit( double amount )\n",
    "{\n",
    "    bool success = Account::debit( amount ); // attempt to debit\n",
    "\n",
    "    if ( success ) // if money was debited, charge fee and return true\n",
    "    {\n",
    "        chargeFee();\n",
    "        return true;\n",
    "    }//endif\n",
    "    else // otherwise, do not charge fee and return false\n",
    "        return false;\n",
    "} // end function debit"
   ]
  },
  {
   "cell_type": "code",
   "execution_count": null,
   "metadata": {},
   "outputs": [],
   "source": [
    "// subtract transaction fee\n",
    "void CheckingAccount::chargeFee()\n",
    "{\n",
    "    Account::setBalance( getBalance() - transactionFee );\n",
    "    cout << \"$\" << transactionFee << \" transaction fee charged.\" << endl;\n",
    "} // end function chargeFee"
   ]
  },
  {
   "cell_type": "code",
   "execution_count": null,
   "metadata": {},
   "outputs": [],
   "source": [
    "#include <iomanip>\n",
    "#include <vector>\n",
    "using namespace std;"
   ]
  },
  {
   "cell_type": "code",
   "execution_count": null,
   "metadata": {},
   "outputs": [],
   "source": [
    "cout << fixed << setprecision( 2 );"
   ]
  },
  {
   "cell_type": "code",
   "execution_count": null,
   "metadata": {},
   "outputs": [],
   "source": [
    "// Crie uma variavel chamada accounts do tipo vector que armazene 4 ponteiros para o tipo Account\n"
   ]
  },
  {
   "cell_type": "code",
   "execution_count": null,
   "metadata": {},
   "outputs": [],
   "source": [
    "// Inicialize cada uma das 4 posições do vector accounts com classes derivadas de Accounts\n",
    "// SavingsAccount com 25 e 0.03 \n",
    "// CheckingAccount com 80.0 e 1.0\n",
    "// SavingsAccount com 200.0 e 0.015 \n",
    "// CheckingAccount com 400.0 e 0.5"
   ]
  },
  {
   "cell_type": "code",
   "execution_count": null,
   "metadata": {},
   "outputs": [],
   "source": [
    "// Implemente um loop pelo vector accounts, para realizar operações de debito e credito \n",
    "// com quantias que produzam os resultados impressos na próxima caixa de texto\n",
    "{\n",
    "    // Imprima o saldo conforme mostrado abaixo\n",
    "\n",
    "    // Faça um saque conforme mostrado abaixo\n",
    "    \n",
    "    // Faça um depósito conforme mostrado abaixo\n",
    "    \n",
    "    // Converta cada elemento do vetor accounts para o tipo derivado SavingsAccount\n",
    "    SavingsAccount *savingsAccountPtr = dynamic_cast < SavingsAccount * > ( accounts[ i ] );\n",
    "    \n",
    "    // Se savingsAccountPtr \"é um\" SavingsAccount\n",
    "    if ( savingsAccountPtr != 0 )\n",
    "    {\n",
    "        // Calcule os juros\n",
    "        // Imprima conforme abaixo\n",
    "        // Credite os juros\n",
    "    } \n",
    "    \n",
    "    // Imprima o saldo atualizado conforme mostrado abaixo\n",
    "}"
   ]
  },
  {
   "cell_type": "markdown",
   "metadata": {},
   "source": [
    "Account 1 balance: 41.54\n",
    "\n",
    "Enter an amount to withdraw from Account 1: 60.00\n",
    "<br>Debit amount exceeded account balance.\n",
    "<br>Enter an amount to deposit into Account 1: 33.00\n",
    "<br>Adding 2.24 interest to Account 1 (a SavingsAccount)\n",
    "<br>Updated Account 1 balance: 76.78\n",
    "\n",
    "Account 2 balance: 73.00\n",
    "\n",
    "Enter an amount to withdraw from Account 2: 99.00\n",
    "<br>Debit amount exceeded account balance.\n",
    "<br>Enter an amount to deposit into Account 2: 78.00\n",
    "<br>1.00 transaction fee charged.\n",
    "<br>Updated Account 2 balance: 150.00\n",
    "\n",
    "Account 3 balance: 221.52\n",
    "\n",
    "Enter an amount to withdraw from Account 3: 16.00\n",
    "<br>Enter an amount to deposit into Account 3: 35.00\n",
    "<br>Adding 3.61 interest to Account 3 (a SavingsAccount)\n",
    "<br>Updated Account 3 balance: 244.13\n",
    "\n",
    "Account 4 balance: 362.00\n",
    "\n",
    "Enter an amount to withdraw from Account 4: 97.00\n",
    "<br>0.50 transaction fee charged.\n",
    "<br>Enter an amount to deposit into Account 4: 26.00\n",
    "<br>0.50 transaction fee charged.\n",
    "<br>Updated Account 4 balance: 290.00"
   ]
  },
  {
   "cell_type": "code",
   "execution_count": null,
   "metadata": {},
   "outputs": [],
   "source": []
  }
 ],
 "metadata": {
  "kernelspec": {
   "display_name": "C++14",
   "language": "C++14",
   "name": "xeus-cling-cpp14"
  },
  "language_info": {
   "codemirror_mode": "text/x-c++src",
   "file_extension": ".cpp",
   "mimetype": "text/x-c++src",
   "name": "c++",
   "version": "14"
  }
 },
 "nbformat": 4,
 "nbformat_minor": 2
}
